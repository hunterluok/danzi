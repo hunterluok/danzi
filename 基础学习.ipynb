{
 "cells": [
  {
   "cell_type": "code",
   "execution_count": 1,
   "metadata": {},
   "outputs": [
    {
     "name": "stderr",
     "output_type": "stream",
     "text": [
      "D:\\ancoda\\lib\\site-packages\\statsmodels\\compat\\pandas.py:56: FutureWarning: The pandas.core.datetools module is deprecated and will be removed in a future version. Please use the pandas.tseries module instead.\n",
      "  from pandas.core import datetools\n"
     ]
    }
   ],
   "source": [
    "%matplotlib inline\n",
    "\n",
    "from __future__ import print_function\n",
    "from statsmodels.compat import urlopen\n",
    "import numpy as np\n",
    "np.set_printoptions(precision=4, suppress=True)\n",
    "import statsmodels.api as sm\n",
    "import pandas as pd\n",
    "pd.set_option(\"display.width\", 100)\n",
    "import matplotlib.pyplot as plt\n",
    "from statsmodels.formula.api import ols\n",
    "from statsmodels.graphics.api import interaction_plot, abline_plot\n",
    "from statsmodels.stats.anova import anova_lm\n",
    "\n",
    "try:\n",
    "    salary_table = pd.read_csv('salary.table')\n",
    "except:  # recent pandas can read URL without urlopen\n",
    "    url = 'http://stats191.stanford.edu/data/salary.table'\n",
    "    fh = urlopen(url)\n",
    "    salary_table = pd.read_table(fh)\n",
    "    salary_table.to_csv('salary.table')\n"
   ]
  },
  {
   "cell_type": "code",
   "execution_count": 8,
   "metadata": {},
   "outputs": [
    {
     "name": "stdout",
     "output_type": "stream",
     "text": [
      "0     1\n",
      "1     3\n",
      "2     3\n",
      "3     2\n",
      "4     3\n",
      "5     2\n",
      "6     2\n",
      "7     1\n",
      "8     3\n",
      "9     2\n",
      "10    1\n",
      "11    2\n",
      "12    3\n",
      "13    1\n",
      "14    3\n",
      "15    3\n",
      "16    2\n",
      "17    2\n",
      "18    3\n",
      "19    1\n",
      "20    1\n",
      "21    3\n",
      "22    2\n",
      "23    2\n",
      "24    1\n",
      "25    2\n",
      "26    1\n",
      "27    3\n",
      "28    1\n",
      "29    1\n",
      "30    2\n",
      "31    3\n",
      "32    2\n",
      "33    2\n",
      "34    1\n",
      "35    2\n",
      "36    3\n",
      "37    1\n",
      "38    2\n",
      "39    2\n",
      "40    3\n",
      "41    2\n",
      "42    2\n",
      "43    1\n",
      "44    2\n",
      "45    1\n",
      "Name: E, dtype: int64\n"
     ]
    }
   ],
   "source": [
    "E = salary_table.E\n",
    "M = salary_table.M\n",
    "X = salary_table.X\n",
    "S = salary_table.S\n",
    "print(E)"
   ]
  },
  {
   "cell_type": "code",
   "execution_count": 5,
   "metadata": {},
   "outputs": [
    {
     "data": {
      "text/plain": [
       "<matplotlib.text.Text at 0xb90b940>"
      ]
     },
     "execution_count": 5,
     "metadata": {},
     "output_type": "execute_result"
    },
    {
     "data": {
      "image/png": "[encoded data removed]",
      "text/plain": [
       "<matplotlib.figure.Figure at 0xb764cc0>"
      ]
     },
     "metadata": {},
     "output_type": "display_data"
    }
   ],
   "source": [
    "plt.figure(figsize=(6,6))\n",
    "symbols=['D', '^']\n",
    "colors =['r','g','blue']\n",
    "factor_groups = salary_table.groupby(['E','M'])\n",
    "for values, group in factor_groups:\n",
    "    i,j=values\n",
    "    plt.scatter(group['X'],group['S'], marker=symbols[j],color=colors[i-1],s=144)\n",
    "plt.xlabel('EXPER')\n",
    "plt.ylabel('Salary')\n"
   ]
  },
  {
   "cell_type": "code",
   "execution_count": 6,
   "metadata": {},
   "outputs": [
    {
     "name": "stdout",
     "output_type": "stream",
     "text": [
      "<pandas.core.groupby.DataFrameGroupBy object at 0x000000000B764CF8>\n"
     ]
    }
   ],
   "source": [
    "print(factor_groups)"
   ]
  },
  {
   "cell_type": "code",
   "execution_count": 9,
   "metadata": {},
   "outputs": [
    {
     "name": "stdout",
     "output_type": "stream",
     "text": [
      "                            OLS Regression Results                            \n",
      "==============================================================================\n",
      "Dep. Variable:                      S   R-squared:                       0.957\n",
      "Model:                            OLS   Adj. R-squared:                  0.953\n",
      "Method:                 Least Squares   F-statistic:                     226.8\n",
      "Date:                Tue, 24 Oct 2017   Prob (F-statistic):           2.23e-27\n",
      "Time:                        18:55:17   Log-Likelihood:                -381.63\n",
      "No. Observations:                  46   AIC:                             773.3\n",
      "Df Residuals:                      41   BIC:                             782.4\n",
      "Df Model:                           4                                         \n",
      "Covariance Type:            nonrobust                                         \n",
      "==============================================================================\n",
      "                 coef    std err          t      P>|t|      [0.025      0.975]\n",
      "------------------------------------------------------------------------------\n",
      "Intercept   8035.5976    386.689     20.781      0.000    7254.663    8816.532\n",
      "C(E)[T.2]   3144.0352    361.968      8.686      0.000    2413.025    3875.045\n",
      "C(E)[T.3]   2996.2103    411.753      7.277      0.000    2164.659    3827.762\n",
      "C(M)[T.1]   6883.5310    313.919     21.928      0.000    6249.559    7517.503\n",
      "X            546.1840     30.519     17.896      0.000     484.549     607.819\n",
      "==============================================================================\n",
      "Omnibus:                        2.293   Durbin-Watson:                   2.237\n",
      "Prob(Omnibus):                  0.318   Jarque-Bera (JB):                1.362\n",
      "Skew:                          -0.077   Prob(JB):                        0.506\n",
      "Kurtosis:                       2.171   Cond. No.                         33.5\n",
      "==============================================================================\n",
      "\n",
      "Warnings:\n",
      "[1] Standard Errors assume that the covariance matrix of the errors is correctly specified.\n"
     ]
    }
   ],
   "source": [
    "formula = 'S~C(E) +C(M)+X'\n",
    "lm = ols(formula, salary_table).fit()\n",
    "print(lm.summary())\n"
   ]
  },
  {
   "cell_type": "code",
   "execution_count": null,
   "metadata": {
    "collapsed": true
   },
   "outputs": [],
   "source": [
    "print(lm.model.exog[:5])\n",
    "print(lm.model.data.orig_exog[:10])\n",
    "print(lm.model.data.frame[:5])\n",
    "\n"
   ]
  }
 ],
 "metadata": {
  "kernelspec": {
   "display_name": "Python 3",
   "language": "python",
   "name": "python3"
  },
  "language_info": {
   "codemirror_mode": {
    "name": "ipython",
    "version": 3
   },
   "file_extension": ".py",
   "mimetype": "text/x-python",
   "name": "python",
   "nbconvert_exporter": "python",
   "pygments_lexer": "ipython3",
   "version": "3.6.1"
  }
 },
 "nbformat": 4,
 "nbformat_minor": 2
}
