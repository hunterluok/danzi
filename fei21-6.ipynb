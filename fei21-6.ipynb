{
 "cells": [
  {
   "cell_type": "code",
   "execution_count": 1,
   "metadata": {
    "collapsed": true
   },
   "outputs": [],
   "source": [
    "from pandas import read_excel\n",
    "import pandas as pd"
   ]
  },
  {
   "cell_type": "code",
   "execution_count": 15,
   "metadata": {},
   "outputs": [
    {
     "name": "stdout",
     "output_type": "stream",
     "text": [
      "   性别  年龄  教育程度  Q1  Q2  Q3  Q4  Q5  Q6  Q7 ...   Q19  Q20  Q21  Q22  Q23  \\\n",
      "0   1   2     2   5   5   1   5   5   5   5 ...     5    5    5    5    5   \n",
      "1   1   3     3   5   5   4   5   5   4   5 ...     5    5    5    5    5   \n",
      "2   1   3     3   5   5   5   5   5   5   5 ...     5    5    5    5    5   \n",
      "3   2   1     3   4   4   3   3   3   5   5 ...     5    4    4    4    4   \n",
      "4   1   2     3   3   4   3   3   4   3   4 ...     5    5    3    5    4   \n",
      "\n",
      "   Q24  Q25  Q26  Q27  Q28  \n",
      "0    5    5    5    5  127  \n",
      "1    5    5    5    5  133  \n",
      "2    5    5    5    5  135  \n",
      "3    4    5    3    3  105  \n",
      "4    4    3    4    4  103  \n",
      "\n",
      "[5 rows x 31 columns]\n"
     ]
    }
   ],
   "source": [
    "d1 = pd.read_excel(\"C:/Users/Administrator/Desktop/ziji/飞啊飞/教师问卷数据（总）.xls\")\n",
    "name = ['性别','年龄','教育程度']\n",
    "for i in range(1,29):\n",
    "    n1 = \"Q\" + str(i)\n",
    "    name.append(n1)\n",
    "d1.columns = name\n",
    "print(d1.head())\n"
   ]
  },
  {
   "cell_type": "code",
   "execution_count": 16,
   "metadata": {
    "collapsed": true
   },
   "outputs": [],
   "source": [
    "d1['体魄形象']= d1[['Q1','Q4','Q18']].mean(axis=1)\n",
    "d1['仪表形象']= d1[['Q7','Q15','Q27']].mean(axis=1)\n",
    "d1['语言形象']= d1[['Q2','Q9','Q22']].mean(axis=1)\n",
    "d1['师德形象']= d1[['Q5','Q10','Q16','Q26']].mean(axis=1)\n",
    "d1['学识形象']= d1[['Q12','Q14','Q20']].mean(axis=1)\n",
    "d1['能力形象']= d1[['Q6','Q11','Q19','Q21']].mean(axis=1)\n",
    "d1['创新形象']= d1[['Q3','Q8','Q23','Q24']].mean(axis=1)\n",
    "d1['教态形象']= d1[['Q13','Q17','Q25']].mean(axis=1)"
   ]
  },
  {
   "cell_type": "code",
   "execution_count": 21,
   "metadata": {},
   "outputs": [
    {
     "name": "stdout",
     "output_type": "stream",
     "text": [
      "   性别  年龄  教育程度  Q1  Q2  Q3  Q4  Q5  Q6  Q7    ...         体魄形象      仪表形象  \\\n",
      "0   1   2     2   5   5   1   5   5   5   5    ...     3.666667  5.000000   \n",
      "1   1   3     3   5   5   4   5   5   4   5    ...     5.000000  5.000000   \n",
      "2   1   3     3   5   5   5   5   5   5   5    ...     5.000000  5.000000   \n",
      "3   2   1     3   4   4   3   3   3   5   5    ...     2.666667  3.666667   \n",
      "4   1   2     3   3   4   3   3   4   3   4    ...     2.666667  4.000000   \n",
      "\n",
      "       语言形象  师德形象      学识形象  能力形象  创新形象      教态形象      外部形象      内部形象  \n",
      "0  5.000000   5.0  5.000000  5.00  4.00  5.000000  4.555556  4.800000  \n",
      "1  5.000000   5.0  5.000000  4.75  4.75  5.000000  5.000000  4.900000  \n",
      "2  5.000000   5.0  5.000000  5.00  5.00  5.000000  5.000000  5.000000  \n",
      "3  4.333333   3.5  4.333333  4.50  3.75  4.333333  3.555556  4.083333  \n",
      "4  4.333333   4.0  4.333333  3.75  3.75  3.666667  3.666667  3.900000  \n",
      "\n",
      "[5 rows x 41 columns]\n"
     ]
    }
   ],
   "source": [
    "d1['外部形象'] = d1[['体魄形象','仪表形象','语言形象']].mean(axis=1)\n",
    "d1['内部形象'] = d1[['师德形象','学识形象','能力形象','创新形象','教态形象']].mean(axis=1)\n",
    "print(d1.head())"
   ]
  },
  {
   "cell_type": "code",
   "execution_count": null,
   "metadata": {
    "collapsed": true
   },
   "outputs": [],
   "source": [
    "\n",
    "\n"
   ]
  },
  {
   "cell_type": "code",
   "execution_count": 9,
   "metadata": {},
   "outputs": [
    {
     "name": "stdout",
     "output_type": "stream",
     "text": [
      "   性别  年龄  教育程度  Q1  Q2  Q3  Q4  Q5  Q6  Q7 ...   Q19  Q20  Q21  Q22  Q23  \\\n",
      "0   2   2     1   5   5   5   5   5   5   5 ...     5    1    5    5    5   \n",
      "1   1   2     1   3   4   4   3   3   4   4 ...     4    2    4    5    4   \n",
      "2   2   1     1   4   4   5   4   4   4   5 ...     5    2    5    5    5   \n",
      "3   2   2     1   5   5   4   4   3   4   5 ...     5    1    5    5    5   \n",
      "4   2   1     1   5   4   5   5   4   5   5 ...     5    1    5    3    5   \n",
      "\n",
      "   Q24  Q25  Q26  Q27  Q28  \n",
      "0    5    5    5    5  131  \n",
      "1    4    4    3    3  101  \n",
      "2    4    4    5    5  123  \n",
      "3    5    5    5    5  126  \n",
      "4    5    3    4    4  116  \n",
      "\n",
      "[5 rows x 31 columns]\n"
     ]
    }
   ],
   "source": [
    "d2 = pd.read_excel(\"C:/Users/Administrator/Desktop/ziji/飞啊飞/学生问卷数据（总）.xls\")\n",
    "name1 = ['性别','年龄','教育程度']\n",
    "for i in range(1,29):\n",
    "    n1 = \"Q\" + str(i)\n",
    "    name1.append(n1)\n",
    "d2.columns = name1\n",
    "print(d2.head())"
   ]
  },
  {
   "cell_type": "code",
   "execution_count": 22,
   "metadata": {
    "collapsed": true
   },
   "outputs": [],
   "source": [
    "d1['类别']= 1\n",
    "d2['体魄形象']= d2[['Q1','Q4','Q18']].mean(axis=1)\n",
    "d2['仪表形象']= d2[['Q7','Q15','Q27']].mean(axis=1)\n",
    "d2['语言形象']= d2[['Q2','Q9','Q22']].mean(axis=1)\n",
    "d2['师德形象']= d2[['Q5','Q10','Q16','Q26']].mean(axis=1)\n",
    "d2['学识形象']= d2[['Q12','Q14','Q20']].mean(axis=1)\n",
    "d2['能力形象']= d2[['Q6','Q11','Q19','Q21']].mean(axis=1)\n",
    "d2['创新形象']= d2[['Q3','Q8','Q23','Q24']].mean(axis=1)\n",
    "d2['教态形象']= d2[['Q13','Q17','Q25']].mean(axis=1)"
   ]
  },
  {
   "cell_type": "code",
   "execution_count": null,
   "metadata": {
    "collapsed": true
   },
   "outputs": [],
   "source": []
  },
  {
   "cell_type": "code",
   "execution_count": 23,
   "metadata": {},
   "outputs": [
    {
     "name": "stdout",
     "output_type": "stream",
     "text": [
      "   性别  年龄  教育程度  Q1  Q2  Q3  Q4  Q5  Q6  Q7 ...      仪表形象      语言形象  师德形象  \\\n",
      "0   2   2     1   5   5   5   5   5   5   5 ...  5.000000  5.000000  5.00   \n",
      "1   1   2     1   3   4   4   3   3   4   4 ...  3.333333  4.333333  3.25   \n",
      "2   2   1     1   4   4   5   4   4   4   5 ...  5.000000  4.666667  4.75   \n",
      "3   2   2     1   5   5   4   4   3   4   5 ...  5.000000  5.000000  4.50   \n",
      "4   2   1     1   5   4   5   5   4   5   5 ...  4.666667  3.666667  4.00   \n",
      "\n",
      "       学识形象  能力形象  创新形象      教态形象      外部形象      内部形象  类别  \n",
      "0  3.666667  5.00  5.00  5.000000  5.000000  4.733333   2  \n",
      "1  3.666667  4.00  3.75  4.333333  3.666667  3.800000   2  \n",
      "2  3.666667  4.75  4.75  4.333333  4.666667  4.450000   2  \n",
      "3  3.666667  4.75  4.75  5.000000  4.888889  4.533333   2  \n",
      "4  3.666667  4.75  5.00  3.666667  4.333333  4.216667   2  \n",
      "\n",
      "[5 rows x 42 columns]\n"
     ]
    }
   ],
   "source": [
    "d2['外部形象'] = d2[['体魄形象','仪表形象','语言形象']].mean(axis=1)\n",
    "d2['内部形象'] = d2[['师德形象','学识形象','能力形象','创新形象','教态形象']].mean(axis=1)\n",
    "d2['类别'] = 2\n"
   ]
  },
  {
   "cell_type": "code",
   "execution_count": 52,
   "metadata": {
    "collapsed": true
   },
   "outputs": [],
   "source": [
    "import numpy as np\n",
    "m,n = d1.shape\n",
    "idex = []\n",
    "for i in range(119):\n",
    "    index = np.random.randint(0,m)\n",
    "    idex.append(index)\n",
    "d11 = d1.ix[idex,:]\n",
    "\n",
    "m1,n1 = d2.shape\n",
    "idex1 = []\n",
    "for i in range(443):\n",
    "    index = np.random.randint(0,m1)\n",
    "    idex1.append(index)\n",
    "d22 = d2.ix[idex1,:]\n",
    "lastdata = pd.concat([d11,d22],axis=0)\n",
    "\n",
    "lastdata.to_csv(\"C:/Users/Administrator/Desktop/ziji/飞啊飞/ld.csv\")\n",
    "\n",
    "    "
   ]
  },
  {
   "cell_type": "code",
   "execution_count": 30,
   "metadata": {},
   "outputs": [
    {
     "name": "stdout",
     "output_type": "stream",
     "text": [
      "   性别  年龄  教育程度  Q1  Q2  Q3  Q4  Q5  Q6  Q7 ...      仪表形象      语言形象  师德形象  \\\n",
      "0   2   2     1   5   5   5   5   5   5   5 ...  5.000000  5.000000  5.00   \n",
      "1   1   2     1   3   4   4   3   3   4   4 ...  3.333333  4.333333  3.25   \n",
      "2   2   1     1   4   4   5   4   4   4   5 ...  5.000000  4.666667  4.75   \n",
      "3   2   2     1   5   5   4   4   3   4   5 ...  5.000000  5.000000  4.50   \n",
      "4   2   1     1   5   4   5   5   4   5   5 ...  4.666667  3.666667  4.00   \n",
      "\n",
      "       学识形象  能力形象  创新形象      教态形象      外部形象      内部形象  类别  \n",
      "0  3.666667  5.00  5.00  5.000000  5.000000  4.733333   2  \n",
      "1  3.666667  4.00  3.75  4.333333  3.666667  3.800000   2  \n",
      "2  3.666667  4.75  4.75  4.333333  4.666667  4.450000   2  \n",
      "3  3.666667  4.75  4.75  5.000000  4.888889  4.533333   2  \n",
      "4  3.666667  4.75  5.00  3.666667  4.333333  4.216667   2  \n",
      "\n",
      "[5 rows x 42 columns]\n",
      "Index(['性别', '年龄', '教育程度', 'Q1', 'Q2', 'Q3', 'Q4', 'Q5', 'Q6', 'Q7', 'Q8',\n",
      "       'Q9', 'Q10', 'Q11', 'Q12', 'Q13', 'Q14', 'Q15', 'Q16', 'Q17', 'Q18',\n",
      "       'Q19', 'Q20', 'Q21', 'Q22', 'Q23', 'Q24', 'Q25', 'Q26', 'Q27', 'Q28',\n",
      "       '体魄形象', '仪表形象', '语言形象', '师德形象', '学识形象', '能力形象', '创新形象', '教态形象', '外部形象',\n",
      "       '内部形象', '类别'],\n",
      "      dtype='object')\n"
     ]
    }
   ],
   "source": [
    "\n",
    "nd = pd.concat([d1,d2],axis=0)\n",
    "nd.to_csv(\"C:/Users/Administrator/Desktop/ziji/飞啊飞/newdata1.csv\")\n",
    "print(d2.head())\n",
    "\n",
    "print(d2.columns)"
   ]
  },
  {
   "cell_type": "code",
   "execution_count": 31,
   "metadata": {},
   "outputs": [
    {
     "name": "stdout",
     "output_type": "stream",
     "text": [
      "(28, 41)\n"
     ]
    }
   ],
   "source": [
    "print(d1.shape)"
   ]
  },
  {
   "cell_type": "code",
   "execution_count": 28,
   "metadata": {},
   "outputs": [
    {
     "name": "stderr",
     "output_type": "stream",
     "text": [
      "E:\\ana\\lib\\site-packages\\numpy\\linalg\\linalg.py:1591: RuntimeWarning: invalid value encountered in greater\n",
      "  return sum(S > tol)\n",
      "E:\\ana\\lib\\site-packages\\scipy\\stats\\_distn_infrastructure.py:879: RuntimeWarning: invalid value encountered in greater\n",
      "  return (self.a < x) & (x < self.b)\n",
      "E:\\ana\\lib\\site-packages\\scipy\\stats\\_distn_infrastructure.py:879: RuntimeWarning: invalid value encountered in less\n",
      "  return (self.a < x) & (x < self.b)\n",
      "E:\\ana\\lib\\site-packages\\scipy\\stats\\_distn_infrastructure.py:1818: RuntimeWarning: invalid value encountered in less_equal\n",
      "  cond2 = cond0 & (x <= self.a)\n",
      "E:\\ana\\lib\\site-packages\\scipy\\stats\\stats.py:1347: RuntimeWarning: invalid value encountered in less\n",
      "  denom = np.where(denom < 0, 99, denom)\n",
      "E:\\ana\\lib\\site-packages\\scipy\\stats\\stats.py:1348: RuntimeWarning: invalid value encountered in less\n",
      "  term2 = np.where(denom < 0, term1, np.power((1-2.0/A)/denom, 1/3.0))\n"
     ]
    },
    {
     "ename": "ValueError",
     "evalue": "shapes (234,2) and (234,2) not aligned: 2 (dim 1) != 234 (dim 0)",
     "output_type": "error",
     "traceback": [
      "\u001b[1;31m---------------------------------------------------------------------------\u001b[0m",
      "\u001b[1;31mValueError\u001b[0m                                Traceback (most recent call last)",
      "\u001b[1;32m<ipython-input-28-b2b8f954af7e>\u001b[0m in \u001b[0;36m<module>\u001b[1;34m()\u001b[0m\n\u001b[0;32m      9\u001b[0m     \u001b[0my1\u001b[0m \u001b[1;33m=\u001b[0m \u001b[0mnd\u001b[0m\u001b[1;33m[\u001b[0m\u001b[0my\u001b[0m\u001b[1;33m[\u001b[0m\u001b[0mi\u001b[0m\u001b[1;33m]\u001b[0m\u001b[1;33m]\u001b[0m\u001b[1;33m\u001b[0m\u001b[0m\n\u001b[0;32m     10\u001b[0m     \u001b[0mmod\u001b[0m \u001b[1;33m=\u001b[0m \u001b[0msm\u001b[0m\u001b[1;33m.\u001b[0m\u001b[0mOLS\u001b[0m\u001b[1;33m(\u001b[0m\u001b[0my1\u001b[0m\u001b[1;33m,\u001b[0m \u001b[0mx\u001b[0m\u001b[1;33m)\u001b[0m\u001b[1;33m\u001b[0m\u001b[0m\n\u001b[1;32m---> 11\u001b[1;33m     \u001b[0mre\u001b[0m \u001b[1;33m=\u001b[0m \u001b[0mmod\u001b[0m\u001b[1;33m.\u001b[0m\u001b[0mfit\u001b[0m\u001b[1;33m(\u001b[0m\u001b[1;33m)\u001b[0m\u001b[1;33m.\u001b[0m\u001b[0msummary\u001b[0m\u001b[1;33m(\u001b[0m\u001b[1;33m)\u001b[0m\u001b[1;33m\u001b[0m\u001b[0m\n\u001b[0m\u001b[0;32m     12\u001b[0m     \u001b[0mprint\u001b[0m\u001b[1;33m(\u001b[0m\u001b[0mre\u001b[0m\u001b[1;33m)\u001b[0m\u001b[1;33m\u001b[0m\u001b[0m\n",
      "\u001b[1;32mE:\\ana\\lib\\site-packages\\statsmodels\\regression\\linear_model.py\u001b[0m in \u001b[0;36msummary\u001b[1;34m(self, yname, xname, title, alpha)\u001b[0m\n\u001b[0;32m   2203\u001b[0m             \u001b[0mtop_left\u001b[0m\u001b[1;33m.\u001b[0m\u001b[0mappend\u001b[0m\u001b[1;33m(\u001b[0m\u001b[1;33m(\u001b[0m\u001b[1;34m'Covariance Type:'\u001b[0m\u001b[1;33m,\u001b[0m \u001b[1;33m[\u001b[0m\u001b[0mself\u001b[0m\u001b[1;33m.\u001b[0m\u001b[0mcov_type\u001b[0m\u001b[1;33m]\u001b[0m\u001b[1;33m)\u001b[0m\u001b[1;33m)\u001b[0m\u001b[1;33m\u001b[0m\u001b[0m\n\u001b[0;32m   2204\u001b[0m \u001b[1;33m\u001b[0m\u001b[0m\n\u001b[1;32m-> 2205\u001b[1;33m         top_right = [('R-squared:', [\"%#8.3f\" % self.rsquared]),\n\u001b[0m\u001b[0;32m   2206\u001b[0m                      \u001b[1;33m(\u001b[0m\u001b[1;34m'Adj. R-squared:'\u001b[0m\u001b[1;33m,\u001b[0m \u001b[1;33m[\u001b[0m\u001b[1;34m\"%#8.3f\"\u001b[0m \u001b[1;33m%\u001b[0m \u001b[0mself\u001b[0m\u001b[1;33m.\u001b[0m\u001b[0mrsquared_adj\u001b[0m\u001b[1;33m]\u001b[0m\u001b[1;33m)\u001b[0m\u001b[1;33m,\u001b[0m\u001b[1;33m\u001b[0m\u001b[0m\n\u001b[0;32m   2207\u001b[0m                      \u001b[1;33m(\u001b[0m\u001b[1;34m'F-statistic:'\u001b[0m\u001b[1;33m,\u001b[0m \u001b[1;33m[\u001b[0m\u001b[1;34m\"%#8.4g\"\u001b[0m \u001b[1;33m%\u001b[0m \u001b[0mself\u001b[0m\u001b[1;33m.\u001b[0m\u001b[0mfvalue\u001b[0m\u001b[1;33m]\u001b[0m \u001b[1;33m)\u001b[0m\u001b[1;33m,\u001b[0m\u001b[1;33m\u001b[0m\u001b[0m\n",
      "\u001b[1;32mE:\\ana\\lib\\site-packages\\statsmodels\\tools\\decorators.py\u001b[0m in \u001b[0;36m__get__\u001b[1;34m(self, obj, type)\u001b[0m\n\u001b[0;32m     95\u001b[0m         \u001b[1;32mif\u001b[0m \u001b[0m_cachedval\u001b[0m \u001b[1;32mis\u001b[0m \u001b[1;32mNone\u001b[0m\u001b[1;33m:\u001b[0m\u001b[1;33m\u001b[0m\u001b[0m\n\u001b[0;32m     96\u001b[0m             \u001b[1;31m# Call the \"fget\" function\u001b[0m\u001b[1;33m\u001b[0m\u001b[1;33m\u001b[0m\u001b[0m\n\u001b[1;32m---> 97\u001b[1;33m             \u001b[0m_cachedval\u001b[0m \u001b[1;33m=\u001b[0m \u001b[0mself\u001b[0m\u001b[1;33m.\u001b[0m\u001b[0mfget\u001b[0m\u001b[1;33m(\u001b[0m\u001b[0mobj\u001b[0m\u001b[1;33m)\u001b[0m\u001b[1;33m\u001b[0m\u001b[0m\n\u001b[0m\u001b[0;32m     98\u001b[0m             \u001b[1;31m# Set the attribute in obj\u001b[0m\u001b[1;33m\u001b[0m\u001b[1;33m\u001b[0m\u001b[0m\n\u001b[0;32m     99\u001b[0m             \u001b[1;31m# print(\"Setting %s in cache to %s\" % (name, _cachedval))\u001b[0m\u001b[1;33m\u001b[0m\u001b[1;33m\u001b[0m\u001b[0m\n",
      "\u001b[1;32mE:\\ana\\lib\\site-packages\\statsmodels\\regression\\linear_model.py\u001b[0m in \u001b[0;36mrsquared\u001b[1;34m(self)\u001b[0m\n\u001b[0;32m   1384\u001b[0m     \u001b[1;32mdef\u001b[0m \u001b[0mrsquared\u001b[0m\u001b[1;33m(\u001b[0m\u001b[0mself\u001b[0m\u001b[1;33m)\u001b[0m\u001b[1;33m:\u001b[0m\u001b[1;33m\u001b[0m\u001b[0m\n\u001b[0;32m   1385\u001b[0m         \u001b[1;32mif\u001b[0m \u001b[0mself\u001b[0m\u001b[1;33m.\u001b[0m\u001b[0mk_constant\u001b[0m\u001b[1;33m:\u001b[0m\u001b[1;33m\u001b[0m\u001b[0m\n\u001b[1;32m-> 1386\u001b[1;33m             \u001b[1;32mreturn\u001b[0m \u001b[1;36m1\u001b[0m \u001b[1;33m-\u001b[0m \u001b[0mself\u001b[0m\u001b[1;33m.\u001b[0m\u001b[0mssr\u001b[0m\u001b[1;33m/\u001b[0m\u001b[0mself\u001b[0m\u001b[1;33m.\u001b[0m\u001b[0mcentered_tss\u001b[0m\u001b[1;33m\u001b[0m\u001b[0m\n\u001b[0m\u001b[0;32m   1387\u001b[0m         \u001b[1;32melse\u001b[0m\u001b[1;33m:\u001b[0m\u001b[1;33m\u001b[0m\u001b[0m\n\u001b[0;32m   1388\u001b[0m             \u001b[1;32mreturn\u001b[0m \u001b[1;36m1\u001b[0m \u001b[1;33m-\u001b[0m \u001b[0mself\u001b[0m\u001b[1;33m.\u001b[0m\u001b[0mssr\u001b[0m\u001b[1;33m/\u001b[0m\u001b[0mself\u001b[0m\u001b[1;33m.\u001b[0m\u001b[0muncentered_tss\u001b[0m\u001b[1;33m\u001b[0m\u001b[0m\n",
      "\u001b[1;32mE:\\ana\\lib\\site-packages\\statsmodels\\tools\\decorators.py\u001b[0m in \u001b[0;36m__get__\u001b[1;34m(self, obj, type)\u001b[0m\n\u001b[0;32m     95\u001b[0m         \u001b[1;32mif\u001b[0m \u001b[0m_cachedval\u001b[0m \u001b[1;32mis\u001b[0m \u001b[1;32mNone\u001b[0m\u001b[1;33m:\u001b[0m\u001b[1;33m\u001b[0m\u001b[0m\n\u001b[0;32m     96\u001b[0m             \u001b[1;31m# Call the \"fget\" function\u001b[0m\u001b[1;33m\u001b[0m\u001b[1;33m\u001b[0m\u001b[0m\n\u001b[1;32m---> 97\u001b[1;33m             \u001b[0m_cachedval\u001b[0m \u001b[1;33m=\u001b[0m \u001b[0mself\u001b[0m\u001b[1;33m.\u001b[0m\u001b[0mfget\u001b[0m\u001b[1;33m(\u001b[0m\u001b[0mobj\u001b[0m\u001b[1;33m)\u001b[0m\u001b[1;33m\u001b[0m\u001b[0m\n\u001b[0m\u001b[0;32m     98\u001b[0m             \u001b[1;31m# Set the attribute in obj\u001b[0m\u001b[1;33m\u001b[0m\u001b[1;33m\u001b[0m\u001b[0m\n\u001b[0;32m     99\u001b[0m             \u001b[1;31m# print(\"Setting %s in cache to %s\" % (name, _cachedval))\u001b[0m\u001b[1;33m\u001b[0m\u001b[1;33m\u001b[0m\u001b[0m\n",
      "\u001b[1;32mE:\\ana\\lib\\site-packages\\statsmodels\\regression\\linear_model.py\u001b[0m in \u001b[0;36mssr\u001b[1;34m(self)\u001b[0m\n\u001b[0;32m   1356\u001b[0m     \u001b[1;32mdef\u001b[0m \u001b[0mssr\u001b[0m\u001b[1;33m(\u001b[0m\u001b[0mself\u001b[0m\u001b[1;33m)\u001b[0m\u001b[1;33m:\u001b[0m\u001b[1;33m\u001b[0m\u001b[0m\n\u001b[0;32m   1357\u001b[0m         \u001b[0mwresid\u001b[0m \u001b[1;33m=\u001b[0m \u001b[0mself\u001b[0m\u001b[1;33m.\u001b[0m\u001b[0mwresid\u001b[0m\u001b[1;33m\u001b[0m\u001b[0m\n\u001b[1;32m-> 1358\u001b[1;33m         \u001b[1;32mreturn\u001b[0m \u001b[0mnp\u001b[0m\u001b[1;33m.\u001b[0m\u001b[0mdot\u001b[0m\u001b[1;33m(\u001b[0m\u001b[0mwresid\u001b[0m\u001b[1;33m,\u001b[0m \u001b[0mwresid\u001b[0m\u001b[1;33m)\u001b[0m\u001b[1;33m\u001b[0m\u001b[0m\n\u001b[0m\u001b[0;32m   1359\u001b[0m \u001b[1;33m\u001b[0m\u001b[0m\n\u001b[0;32m   1360\u001b[0m     \u001b[1;33m@\u001b[0m\u001b[0mcache_readonly\u001b[0m\u001b[1;33m\u001b[0m\u001b[0m\n",
      "\u001b[1;31mValueError\u001b[0m: shapes (234,2) and (234,2) not aligned: 2 (dim 1) != 234 (dim 0)"
     ]
    }
   ],
   "source": [
    "import statsmodels.api as sm    # 进行线性回归分析。\n",
    "#y = dn[['体脂百分数', '腰臀比', 'BMI']]\n",
    "y = ['体魄形象', '仪表形象']   #这里用法的妙用。\n",
    "#x = dn[['身高', '体重', '50米（秒）', '立定跳远（米）', '坐位体前屈', '1000米（分）', '引体向上']]\n",
    "#x = sm.add_constant(x, prepend=False)\n",
    "x = nd['性别']\n",
    "\n",
    "for i in range(3):\n",
    "    y1 = nd[y[i]]\n",
    "    mod = sm.OLS(y1, x)\n",
    "    re = mod.fit().summary()\n",
    "    print(re)\n"
   ]
  },
  {
   "cell_type": "code",
   "execution_count": null,
   "metadata": {
    "collapsed": true
   },
   "outputs": [],
   "source": []
  }
 ],
 "metadata": {
  "kernelspec": {
   "display_name": "Python 3",
   "language": "python",
   "name": "python3"
  },
  "language_info": {
   "codemirror_mode": {
    "name": "ipython",
    "version": 3
   },
   "file_extension": ".py",
   "mimetype": "text/x-python",
   "name": "python",
   "nbconvert_exporter": "python",
   "pygments_lexer": "ipython3",
   "version": "3.6.2"
  }
 },
 "nbformat": 4,
 "nbformat_minor": 2
}
