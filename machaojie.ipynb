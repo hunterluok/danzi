{
 "cells": [
  {
   "cell_type": "code",
   "execution_count": 164,
   "metadata": {
    "collapsed": true
   },
   "outputs": [],
   "source": [
    "library(plyr)\n",
    "library(ggplot2)\n",
    "data<-read.delim(\"clipboard\")"
   ]
  },
  {
   "cell_type": "code",
   "execution_count": 179,
   "metadata": {},
   "outputs": [
    {
     "data": {
      "text/html": [
       "<table>\n",
       "<thead><tr><th scope=col>网</th><th scope=col>年份</th><th scope=col>人名</th><th scope=col>一发内一</th><th scope=col>一发外一</th><th scope=col>一发中一</th><th scope=col>二发内一</th><th scope=col>二发外一</th><th scope=col>二发中一</th><th scope=col>一发内</th><th scope=col>一发外</th><th scope=col>一发中</th><th scope=col>二发内</th><th scope=col>二发外</th><th scope=col>二发中</th></tr></thead>\n",
       "<tbody>\n",
       "\t<tr><td>法网      </td><td>2015      </td><td>威廉姆斯  </td><td>23        </td><td>20        </td><td>0         </td><td> 7        </td><td>5         </td><td>6         </td><td>14        </td><td>23        </td><td>1         </td><td> 3        </td><td>4         </td><td>9         </td></tr>\n",
       "\t<tr><td>法网      </td><td>2015      </td><td>萨法洛娃  </td><td>21        </td><td>20        </td><td>7         </td><td> 5        </td><td>1         </td><td>5         </td><td>31        </td><td> 7        </td><td>4         </td><td> 5        </td><td>6         </td><td>3         </td></tr>\n",
       "\t<tr><td>法网      </td><td>2015      </td><td>萨法洛娃  </td><td>26        </td><td>10        </td><td>1         </td><td>15        </td><td>0         </td><td>0         </td><td>17        </td><td>19        </td><td>0         </td><td> 3        </td><td>6         </td><td>2         </td></tr>\n",
       "\t<tr><td>法网      </td><td>2015      </td><td>伊万诺维奇</td><td> 7        </td><td>18        </td><td>0         </td><td> 2        </td><td>8         </td><td>2         </td><td>15        </td><td> 8        </td><td>1         </td><td> 7        </td><td>3         </td><td>2         </td></tr>\n",
       "\t<tr><td>法网      </td><td>2015      </td><td>威廉姆斯  </td><td>15        </td><td>29        </td><td>1         </td><td> 7        </td><td>6         </td><td>9         </td><td>20        </td><td>21        </td><td>0         </td><td>11        </td><td>3         </td><td>4         </td></tr>\n",
       "\t<tr><td>法网      </td><td>2015      </td><td>巴辛斯基  </td><td>21        </td><td>17        </td><td>2         </td><td> 8        </td><td>1         </td><td>2         </td><td>19        </td><td>16        </td><td>1         </td><td> 3        </td><td>6         </td><td>2         </td></tr>\n",
       "</tbody>\n",
       "</table>\n"
      ],
      "text/latex": [
       "\\begin{tabular}{r|lllllllllllllll}\n",
       " 网 & 年份 & 人名 & 一发内一 & 一发外一 & 一发中一 & 二发内一 & 二发外一 & 二发中一 & 一发内 & 一发外 & 一发中 & 二发内 & 二发外 & 二发中\\\\\n",
       "\\hline\n",
       "\t 法网       & 2015       & 威廉姆斯   & 23         & 20         & 0          &  7         & 5          & 6          & 14         & 23         & 1          &  3         & 4          & 9         \\\\\n",
       "\t 法网       & 2015       & 萨法洛娃   & 21         & 20         & 7          &  5         & 1          & 5          & 31         &  7         & 4          &  5         & 6          & 3         \\\\\n",
       "\t 法网       & 2015       & 萨法洛娃   & 26         & 10         & 1          & 15         & 0          & 0          & 17         & 19         & 0          &  3         & 6          & 2         \\\\\n",
       "\t 法网       & 2015       & 伊万诺维奇 &  7         & 18         & 0          &  2         & 8          & 2          & 15         &  8         & 1          &  7         & 3          & 2         \\\\\n",
       "\t 法网       & 2015       & 威廉姆斯   & 15         & 29         & 1          &  7         & 6          & 9          & 20         & 21         & 0          & 11         & 3          & 4         \\\\\n",
       "\t 法网       & 2015       & 巴辛斯基   & 21         & 17         & 2          &  8         & 1          & 2          & 19         & 16         & 1          &  3         & 6          & 2         \\\\\n",
       "\\end{tabular}\n"
      ],
      "text/markdown": [
       "\n",
       "网 | 年份 | 人名 | 一发内一 | 一发外一 | 一发中一 | 二发内一 | 二发外一 | 二发中一 | 一发内 | 一发外 | 一发中 | 二发内 | 二发外 | 二发中 | \n",
       "|---|---|---|---|---|---|\n",
       "| 法网       | 2015       | 威廉姆斯   | 23         | 20         | 0          |  7         | 5          | 6          | 14         | 23         | 1          |  3         | 4          | 9          | \n",
       "| 法网       | 2015       | 萨法洛娃   | 21         | 20         | 7          |  5         | 1          | 5          | 31         |  7         | 4          |  5         | 6          | 3          | \n",
       "| 法网       | 2015       | 萨法洛娃   | 26         | 10         | 1          | 15         | 0          | 0          | 17         | 19         | 0          |  3         | 6          | 2          | \n",
       "| 法网       | 2015       | 伊万诺维奇 |  7         | 18         | 0          |  2         | 8          | 2          | 15         |  8         | 1          |  7         | 3          | 2          | \n",
       "| 法网       | 2015       | 威廉姆斯   | 15         | 29         | 1          |  7         | 6          | 9          | 20         | 21         | 0          | 11         | 3          | 4          | \n",
       "| 法网       | 2015       | 巴辛斯基   | 21         | 17         | 2          |  8         | 1          | 2          | 19         | 16         | 1          |  3         | 6          | 2          | \n",
       "\n",
       "\n"
      ],
      "text/plain": [
       "  网   年份 人名       一发内一 一发外一 一发中一 二发内一 二发外一 二发中一\n",
       "1 法网 2015 威廉姆斯   23       20       0         7       5        6       \n",
       "2 法网 2015 萨法洛娃   21       20       7         5       1        5       \n",
       "3 法网 2015 萨法洛娃   26       10       1        15       0        0       \n",
       "4 法网 2015 伊万诺维奇  7       18       0         2       8        2       \n",
       "5 法网 2015 威廉姆斯   15       29       1         7       6        9       \n",
       "6 法网 2015 巴辛斯基   21       17       2         8       1        2       \n",
       "  一发内 一发外 一发中 二发内 二发外 二发中\n",
       "1 14     23     1       3     4      9     \n",
       "2 31      7     4       5     6      3     \n",
       "3 17     19     0       3     6      2     \n",
       "4 15      8     1       7     3      2     \n",
       "5 20     21     0      11     3      4     \n",
       "6 19     16     1       3     6      2     "
      ]
     },
     "metadata": {},
     "output_type": "display_data"
    },
    {
     "data": {
      "text/html": [
       "<table>\n",
       "<thead><tr><th scope=col>网</th><th scope=col>年份</th><th scope=col>一发内一</th></tr></thead>\n",
       "<tbody>\n",
       "\t<tr><td>澳网    </td><td>2015    </td><td>15.00000</td></tr>\n",
       "\t<tr><td>法网    </td><td>2015    </td><td>18.83333</td></tr>\n",
       "\t<tr><td>美网    </td><td>2015    </td><td>18.16667</td></tr>\n",
       "\t<tr><td>温网    </td><td>2015    </td><td>18.16667</td></tr>\n",
       "\t<tr><td>澳网    </td><td>2016    </td><td>15.33333</td></tr>\n",
       "\t<tr><td>法网    </td><td>2016    </td><td>19.50000</td></tr>\n",
       "\t<tr><td>美网    </td><td>2016    </td><td>16.33333</td></tr>\n",
       "\t<tr><td>温网    </td><td>2016    </td><td>10.00000</td></tr>\n",
       "\t<tr><td>澳网    </td><td>2017    </td><td>18.83333</td></tr>\n",
       "\t<tr><td>法网    </td><td>2017    </td><td>29.00000</td></tr>\n",
       "\t<tr><td>美网    </td><td>2017    </td><td>15.50000</td></tr>\n",
       "\t<tr><td>温网    </td><td>2017    </td><td>12.66667</td></tr>\n",
       "</tbody>\n",
       "</table>\n"
      ],
      "text/latex": [
       "\\begin{tabular}{r|lll}\n",
       " 网 & 年份 & 一发内一\\\\\n",
       "\\hline\n",
       "\t 澳网     & 2015     & 15.00000\\\\\n",
       "\t 法网     & 2015     & 18.83333\\\\\n",
       "\t 美网     & 2015     & 18.16667\\\\\n",
       "\t 温网     & 2015     & 18.16667\\\\\n",
       "\t 澳网     & 2016     & 15.33333\\\\\n",
       "\t 法网     & 2016     & 19.50000\\\\\n",
       "\t 美网     & 2016     & 16.33333\\\\\n",
       "\t 温网     & 2016     & 10.00000\\\\\n",
       "\t 澳网     & 2017     & 18.83333\\\\\n",
       "\t 法网     & 2017     & 29.00000\\\\\n",
       "\t 美网     & 2017     & 15.50000\\\\\n",
       "\t 温网     & 2017     & 12.66667\\\\\n",
       "\\end{tabular}\n"
      ],
      "text/markdown": [
       "\n",
       "网 | 年份 | 一发内一 | \n",
       "|---|---|---|---|---|---|---|---|---|---|---|---|\n",
       "| 澳网     | 2015     | 15.00000 | \n",
       "| 法网     | 2015     | 18.83333 | \n",
       "| 美网     | 2015     | 18.16667 | \n",
       "| 温网     | 2015     | 18.16667 | \n",
       "| 澳网     | 2016     | 15.33333 | \n",
       "| 法网     | 2016     | 19.50000 | \n",
       "| 美网     | 2016     | 16.33333 | \n",
       "| 温网     | 2016     | 10.00000 | \n",
       "| 澳网     | 2017     | 18.83333 | \n",
       "| 法网     | 2017     | 29.00000 | \n",
       "| 美网     | 2017     | 15.50000 | \n",
       "| 温网     | 2017     | 12.66667 | \n",
       "\n",
       "\n"
      ],
      "text/plain": [
       "   网   年份 一发内一\n",
       "1  澳网 2015 15.00000\n",
       "2  法网 2015 18.83333\n",
       "3  美网 2015 18.16667\n",
       "4  温网 2015 18.16667\n",
       "5  澳网 2016 15.33333\n",
       "6  法网 2016 19.50000\n",
       "7  美网 2016 16.33333\n",
       "8  温网 2016 10.00000\n",
       "9  澳网 2017 18.83333\n",
       "10 法网 2017 29.00000\n",
       "11 美网 2017 15.50000\n",
       "12 温网 2017 12.66667"
      ]
     },
     "metadata": {},
     "output_type": "display_data"
    }
   ],
   "source": [
    "head(data)\n",
    "data$年份<-as.factor(data$年份)  # 这里 需要特别注意， 如果不是因子型 或者 字符串型 则会出现问题。\n",
    "aggregate(一发内一~网+年份,data,mean)"
   ]
  },
  {
   "cell_type": "code",
   "execution_count": 180,
   "metadata": {
    "collapsed": true
   },
   "outputs": [],
   "source": [
    "tbd<-ddply(data,\"年份\",summarize,tip.mean=mean(一发内一),tip.sd=sd(一发内一),length=NROW(一发内一),\n",
    "tfrac=qt(p=0.90,df=length-1),Lower=tip.mean-tfrac*tip.sd/sqrt(length),\n",
    "Upper=tip.mean+tfrac + tfrac*tip.sd/sqrt(length))\n",
    "#ggplot(tbd, aes(x=tip.mean,y=年份))+geom_point()+ geom_errorbarh(aes(xmin=Lower,xmax=Upper),height=0.3)"
   ]
  },
  {
   "cell_type": "code",
   "execution_count": 181,
   "metadata": {
    "collapsed": true
   },
   "outputs": [],
   "source": [
    "model<-aov(cbind(一发内一,一发外一)~年份,data=data)\n",
    "#model<-aov(一发中一~年份,data=data)\n",
    "#summary(model)\n",
    "#model$coefficients"
   ]
  },
  {
   "cell_type": "code",
   "execution_count": 182,
   "metadata": {
    "collapsed": true
   },
   "outputs": [],
   "source": [
    "model<-aov(cbind(一发内一,一发外一)~(年份-1)*网-1,data=data)\n",
    "#model<-aov(一发中一~年份,data=data)\n",
    "#summary(model)\n",
    "#model$coefficients"
   ]
  },
  {
   "cell_type": "code",
   "execution_count": 186,
   "metadata": {},
   "outputs": [
    {
     "ename": "ERROR",
     "evalue": "Error in fs[[i]](x, ...): 不适用于非函数\n",
     "output_type": "error",
     "traceback": [
      "Error in fs[[i]](x, ...): 不适用于非函数\nTraceback:\n",
      "1. aggregate(cbind(一发内一, 一发外一, 一发中一, 二发内一, 二发外一, \n .     二发中一, 一发内, 一发外, 一发中, 二发内, 二发外, 二发中) ~ \n .     年份 + 网, data = data, each(mean, sd))",
      "2. aggregate.formula(cbind(一发内一, 一发外一, 一发中一, 二发内一, \n .     二发外一, 二发中一, 一发内, 一发外, 一发中, 二发内, 二发外, \n .     二发中) ~ 年份 + 网, data = data, each(mean, sd))",
      "3. aggregate.data.frame(lhs, mf[-1L], FUN = FUN, ...)",
      "4. lapply(x, function(e) {\n .     ans <- lapply(X = split(e, grp), FUN = FUN, ...)\n .     if (simplify && length(len <- unique(lengths(ans))) == 1L) {\n .         if (len == 1L) {\n .             cl <- lapply(ans, oldClass)\n .             cl1 <- cl[[1L]]\n .             ans <- unlist(ans, recursive = FALSE)\n .             if (!is.null(cl1) && all(vapply(cl, identical, NA, \n .                 y = cl1))) \n .                 class(ans) <- cl1\n .         }\n .         else if (len > 1L) \n .             ans <- matrix(unlist(ans, recursive = FALSE), nrow = nry, \n .                 ncol = len, byrow = TRUE, dimnames = if (!is.null(nms <- names(ans[[1L]]))) \n .                   list(NULL, nms))\n .     }\n .     ans\n . })",
      "5. FUN(X[[i]], ...)",
      "6. lapply(X = split(e, grp), FUN = FUN, ...)",
      "7. FUN(X[[i]], ...)"
     ]
    }
   ],
   "source": [
    "jz<-aggregate(cbind(一发内一,一发外一,一发中一, 二发内一,二发外一,二发中一,一发内,一发外,一发中,二发内,二发外,二发中)~年份+网,data=data,each(mean,sd))\n",
    "#write.csv(file=\"C:/Users/Administrator/Desktop/马超杰/jz.csv\",jz)"
   ]
  },
  {
   "cell_type": "code",
   "execution_count": 187,
   "metadata": {},
   "outputs": [
    {
     "data": {
      "text/html": [
       "15"
      ],
      "text/latex": [
       "15"
      ],
      "text/markdown": [
       "15"
      ],
      "text/plain": [
       "[1] 15"
      ]
     },
     "metadata": {},
     "output_type": "display_data"
    }
   ],
   "source": [
    "c<-names(data)\n",
    "length(data)"
   ]
  },
  {
   "cell_type": "code",
   "execution_count": 188,
   "metadata": {},
   "outputs": [
    {
     "data": {
      "text/html": [
       "<ol class=list-inline>\n",
       "\t<li>'0.0018309602033508'</li>\n",
       "\t<li>'-'</li>\n",
       "</ol>\n"
      ],
      "text/latex": [
       "\\begin{enumerate*}\n",
       "\\item '0.0018309602033508'\n",
       "\\item '-'\n",
       "\\end{enumerate*}\n"
      ],
      "text/markdown": [
       "1. '0.0018309602033508'\n",
       "2. '-'\n",
       "\n",
       "\n"
      ],
      "text/plain": [
       "[1] \"0.0018309602033508\" \"-\"                 "
      ]
     },
     "metadata": {},
     "output_type": "display_data"
    },
    {
     "data": {
      "text/html": [
       "0.0018309602033508"
      ],
      "text/latex": [
       "0.0018309602033508"
      ],
      "text/markdown": [
       "0.0018309602033508"
      ],
      "text/plain": [
       "[1] 0.00183096"
      ]
     },
     "metadata": {},
     "output_type": "display_data"
    },
    {
     "data": {
      "text/html": [
       "<table>\n",
       "<thead><tr><th scope=col>一区内</th><th scope=col>频数</th></tr></thead>\n",
       "<tbody>\n",
       "\t<tr><td>二发内一</td><td>19.35714</td></tr>\n",
       "\t<tr><td>一发内一</td><td>13.87143</td></tr>\n",
       "</tbody>\n",
       "</table>\n"
      ],
      "text/latex": [
       "\\begin{tabular}{r|ll}\n",
       " 一区内 & 频数\\\\\n",
       "\\hline\n",
       "\t 二发内一 & 19.35714\\\\\n",
       "\t 一发内一 & 13.87143\\\\\n",
       "\\end{tabular}\n"
      ],
      "text/markdown": [
       "\n",
       "一区内 | 频数 | \n",
       "|---|---|\n",
       "| 二发内一 | 19.35714 | \n",
       "| 一发内一 | 13.87143 | \n",
       "\n",
       "\n"
      ],
      "text/plain": [
       "  一区内   频数    \n",
       "1 二发内一 19.35714\n",
       "2 一发内一 13.87143"
      ]
     },
     "metadata": {},
     "output_type": "display_data"
    }
   ],
   "source": [
    "# T检验\n",
    "d1<-rbind(cbind(rep('一发内一',dim(data)[1]),data$一发内一),cbind(rep('二发内一',dim(data)[1]),data$二发内一))\n",
    "colnames(d1)<-c('一区内','频数')\n",
    "d1<-data.frame(d1)                # 这里一定要转换成 data.frame 形式 否则行不通\n",
    "d1$频数<-as.numeric(d1$频数)\n",
    "#sapply(d1,class)\n",
    "m<-t.test(频数~一区内,d1)\n",
    "#colnames(d1)\n",
    "#names(data)\n",
    "#data$网\n",
    "#d1$频数\n",
    "#names(m)\n",
    "p<-m$p.value\n",
    "c<-c(p,rep('-',1))\n",
    "m<-aggregate(频数~一区内,d1,mean)\n",
    "#aggregate(频数~一区内,d1,sd)\n",
    "c\n",
    "p\n",
    "m #sd\n",
    "#cbind(m,sd,c)"
   ]
  },
  {
   "cell_type": "code",
   "execution_count": 192,
   "metadata": {},
   "outputs": [
    {
     "data": {
      "text/html": [
       "<table>\n",
       "<thead><tr><th scope=col>一区内</th><th scope=col>频数</th></tr></thead>\n",
       "<tbody>\n",
       "\t<tr><td>二发内一</td><td>32      </td></tr>\n",
       "\t<tr><td>一发内一</td><td>32      </td></tr>\n",
       "</tbody>\n",
       "</table>\n"
      ],
      "text/latex": [
       "\\begin{tabular}{r|ll}\n",
       " 一区内 & 频数\\\\\n",
       "\\hline\n",
       "\t 二发内一 & 32      \\\\\n",
       "\t 一发内一 & 32      \\\\\n",
       "\\end{tabular}\n"
      ],
      "text/markdown": [
       "\n",
       "一区内 | 频数 | \n",
       "|---|---|\n",
       "| 二发内一 | 32       | \n",
       "| 一发内一 | 32       | \n",
       "\n",
       "\n"
      ],
      "text/plain": [
       "  一区内   频数\n",
       "1 二发内一 32  \n",
       "2 一发内一 32  "
      ]
     },
     "metadata": {},
     "output_type": "display_data"
    }
   ],
   "source": [
    "m<-aggregate(频数~一区内,d1,max)"
   ]
  },
  {
   "cell_type": "code",
   "execution_count": 1,
   "metadata": {},
   "outputs": [
    {
     "data": {
      "text/html": [
       "<table>\n",
       "<thead><tr><th scope=col>网</th><th scope=col>年份</th><th scope=col>人名</th><th scope=col>一发内一</th><th scope=col>一发外一</th><th scope=col>一发中一</th><th scope=col>二发内一</th><th scope=col>二发外一</th><th scope=col>二发中一</th><th scope=col>类别</th></tr></thead>\n",
       "<tbody>\n",
       "\t<tr><td>法网      </td><td>2015      </td><td>威廉姆斯  </td><td>23        </td><td>20        </td><td>0         </td><td> 7        </td><td>5         </td><td>6         </td><td>1         </td></tr>\n",
       "\t<tr><td>法网      </td><td>2015      </td><td>萨法洛娃  </td><td>21        </td><td>20        </td><td>7         </td><td> 5        </td><td>1         </td><td>5         </td><td>1         </td></tr>\n",
       "\t<tr><td>法网      </td><td>2015      </td><td>萨法洛娃  </td><td>26        </td><td>10        </td><td>1         </td><td>15        </td><td>0         </td><td>0         </td><td>1         </td></tr>\n",
       "\t<tr><td>法网      </td><td>2015      </td><td>伊万诺维奇</td><td> 7        </td><td>18        </td><td>0         </td><td> 2        </td><td>8         </td><td>2         </td><td>1         </td></tr>\n",
       "\t<tr><td>法网      </td><td>2015      </td><td>威廉姆斯  </td><td>15        </td><td>29        </td><td>1         </td><td> 7        </td><td>6         </td><td>9         </td><td>1         </td></tr>\n",
       "\t<tr><td>法网      </td><td>2015      </td><td>巴辛斯基  </td><td>21        </td><td>17        </td><td>2         </td><td> 8        </td><td>1         </td><td>2         </td><td>1         </td></tr>\n",
       "</tbody>\n",
       "</table>\n"
      ],
      "text/latex": [
       "\\begin{tabular}{r|llllllllll}\n",
       " 网 & 年份 & 人名 & 一发内一 & 一发外一 & 一发中一 & 二发内一 & 二发外一 & 二发中一 & 类别\\\\\n",
       "\\hline\n",
       "\t 法网       & 2015       & 威廉姆斯   & 23         & 20         & 0          &  7         & 5          & 6          & 1         \\\\\n",
       "\t 法网       & 2015       & 萨法洛娃   & 21         & 20         & 7          &  5         & 1          & 5          & 1         \\\\\n",
       "\t 法网       & 2015       & 萨法洛娃   & 26         & 10         & 1          & 15         & 0          & 0          & 1         \\\\\n",
       "\t 法网       & 2015       & 伊万诺维奇 &  7         & 18         & 0          &  2         & 8          & 2          & 1         \\\\\n",
       "\t 法网       & 2015       & 威廉姆斯   & 15         & 29         & 1          &  7         & 6          & 9          & 1         \\\\\n",
       "\t 法网       & 2015       & 巴辛斯基   & 21         & 17         & 2          &  8         & 1          & 2          & 1         \\\\\n",
       "\\end{tabular}\n"
      ],
      "text/markdown": [
       "\n",
       "网 | 年份 | 人名 | 一发内一 | 一发外一 | 一发中一 | 二发内一 | 二发外一 | 二发中一 | 类别 | \n",
       "|---|---|---|---|---|---|\n",
       "| 法网       | 2015       | 威廉姆斯   | 23         | 20         | 0          |  7         | 5          | 6          | 1          | \n",
       "| 法网       | 2015       | 萨法洛娃   | 21         | 20         | 7          |  5         | 1          | 5          | 1          | \n",
       "| 法网       | 2015       | 萨法洛娃   | 26         | 10         | 1          | 15         | 0          | 0          | 1          | \n",
       "| 法网       | 2015       | 伊万诺维奇 |  7         | 18         | 0          |  2         | 8          | 2          | 1          | \n",
       "| 法网       | 2015       | 威廉姆斯   | 15         | 29         | 1          |  7         | 6          | 9          | 1          | \n",
       "| 法网       | 2015       | 巴辛斯基   | 21         | 17         | 2          |  8         | 1          | 2          | 1          | \n",
       "\n",
       "\n"
      ],
      "text/plain": [
       "  网   年份 人名       一发内一 一发外一 一发中一 二发内一 二发外一 二发中一\n",
       "1 法网 2015 威廉姆斯   23       20       0         7       5        6       \n",
       "2 法网 2015 萨法洛娃   21       20       7         5       1        5       \n",
       "3 法网 2015 萨法洛娃   26       10       1        15       0        0       \n",
       "4 法网 2015 伊万诺维奇  7       18       0         2       8        2       \n",
       "5 法网 2015 威廉姆斯   15       29       1         7       6        9       \n",
       "6 法网 2015 巴辛斯基   21       17       2         8       1        2       \n",
       "  类别\n",
       "1 1   \n",
       "2 1   \n",
       "3 1   \n",
       "4 1   \n",
       "5 1   \n",
       "6 1   "
      ]
     },
     "metadata": {},
     "output_type": "display_data"
    }
   ],
   "source": [
    "dx<-read.delim(\"clipboard\")\n",
    "head(dx)"
   ]
  },
  {
   "cell_type": "code",
   "execution_count": 22,
   "metadata": {},
   "outputs": [
    {
     "data": {
      "text/html": [
       "<ol class=list-inline>\n",
       "\t<li>'网'</li>\n",
       "\t<li>'年份'</li>\n",
       "\t<li>'人名'</li>\n",
       "\t<li>'一发内一'</li>\n",
       "\t<li>'一发外一'</li>\n",
       "\t<li>'一发中一'</li>\n",
       "\t<li>'二发内一'</li>\n",
       "\t<li>'二发外一'</li>\n",
       "\t<li>'二发中一'</li>\n",
       "\t<li>'类别'</li>\n",
       "</ol>\n"
      ],
      "text/latex": [
       "\\begin{enumerate*}\n",
       "\\item '网'\n",
       "\\item '年份'\n",
       "\\item '人名'\n",
       "\\item '一发内一'\n",
       "\\item '一发外一'\n",
       "\\item '一发中一'\n",
       "\\item '二发内一'\n",
       "\\item '二发外一'\n",
       "\\item '二发中一'\n",
       "\\item '类别'\n",
       "\\end{enumerate*}\n"
      ],
      "text/markdown": [
       "1. '网'\n",
       "2. '年份'\n",
       "3. '人名'\n",
       "4. '一发内一'\n",
       "5. '一发外一'\n",
       "6. '一发中一'\n",
       "7. '二发内一'\n",
       "8. '二发外一'\n",
       "9. '二发中一'\n",
       "10. '类别'\n",
       "\n",
       "\n"
      ],
      "text/plain": [
       " [1] \"网\"       \"年份\"     \"人名\"     \"一发内一\" \"一发外一\" \"一发中一\"\n",
       " [7] \"二发内一\" \"二发外一\" \"二发中一\" \"类别\"    "
      ]
     },
     "metadata": {},
     "output_type": "display_data"
    },
    {
     "data": {
      "text/html": [
       "'一发内一'"
      ],
      "text/latex": [
       "'一发内一'"
      ],
      "text/markdown": [
       "'一发内一'"
      ],
      "text/plain": [
       "[1] \"一发内一\""
      ]
     },
     "metadata": {},
     "output_type": "display_data"
    }
   ],
   "source": [
    "name <- names(dx)\n",
    "name\n",
    "name[4]"
   ]
  },
  {
   "cell_type": "code",
   "execution_count": 45,
   "metadata": {},
   "outputs": [
    {
     "data": {
      "text/html": [
       "<table>\n",
       "<thead><tr><th></th><th scope=col>类别</th><th scope=col>一发内一</th><th scope=col>一发外一</th><th scope=col>一发中一</th><th scope=col>二发内一</th><th scope=col>二发外一</th><th scope=col>二发中一</th></tr></thead>\n",
       "<tbody>\n",
       "\t<tr><th scope=row>一区均值</th><td>1      </td><td>17.214 </td><td>14.61  </td><td>2.44   </td><td>6.48571</td><td>2.5e+00</td><td>3.54   </td></tr>\n",
       "\t<tr><th scope=row>二区均值</th><td>2      </td><td>15.186 </td><td>13.61  </td><td>2.43   </td><td>3.72857</td><td>5.2e+00</td><td>2.80   </td></tr>\n",
       "\t<tr><th scope=row>一区标准差</th><td>1      </td><td> 6.737 </td><td> 6.17  </td><td>2.65   </td><td>4.38291</td><td>2.7e+00</td><td>2.62   </td></tr>\n",
       "\t<tr><th scope=row>二区标准差</th><td>2      </td><td> 6.541 </td><td> 6.16  </td><td>3.52   </td><td>3.02128</td><td>3.7e+00</td><td>2.17   </td></tr>\n",
       "\t<tr><th scope=row>一二区T检验P值</th><td>0      </td><td> 0.073 </td><td> 0.34  </td><td>0.98   </td><td>0.00003</td><td>1.6e-06</td><td>0.07   </td></tr>\n",
       "</tbody>\n",
       "</table>\n"
      ],
      "text/latex": [
       "\\begin{tabular}{r|lllllll}\n",
       "  & 类别 & 一发内一 & 一发外一 & 一发中一 & 二发内一 & 二发外一 & 二发中一\\\\\n",
       "\\hline\n",
       "\t一区均值 & 1       & 17.214  & 14.61   & 2.44    & 6.48571 & 2.5e+00 & 3.54   \\\\\n",
       "\t二区均值 & 2       & 15.186  & 13.61   & 2.43    & 3.72857 & 5.2e+00 & 2.80   \\\\\n",
       "\t一区标准差 & 1       &  6.737  &  6.17   & 2.65    & 4.38291 & 2.7e+00 & 2.62   \\\\\n",
       "\t二区标准差 & 2       &  6.541  &  6.16   & 3.52    & 3.02128 & 3.7e+00 & 2.17   \\\\\n",
       "\t一二区T检验P值 & 0       &  0.073  &  0.34   & 0.98    & 0.00003 & 1.6e-06 & 0.07   \\\\\n",
       "\\end{tabular}\n"
      ],
      "text/markdown": [
       "\n",
       "| <!--/--> | 类别 | 一发内一 | 一发外一 | 一发中一 | 二发内一 | 二发外一 | 二发中一 | \n",
       "|---|---|---|---|---|\n",
       "| 一区均值 | 1       | 17.214  | 14.61   | 2.44    | 6.48571 | 2.5e+00 | 3.54    | \n",
       "| 二区均值 | 2       | 15.186  | 13.61   | 2.43    | 3.72857 | 5.2e+00 | 2.80    | \n",
       "| 一区标准差 | 1       |  6.737  |  6.17   | 2.65    | 4.38291 | 2.7e+00 | 2.62    | \n",
       "| 二区标准差 | 2       |  6.541  |  6.16   | 3.52    | 3.02128 | 3.7e+00 | 2.17    | \n",
       "| 一二区T检验P值 | 0       |  0.073  |  0.34   | 0.98    | 0.00003 | 1.6e-06 | 0.07    | \n",
       "\n",
       "\n"
      ],
      "text/plain": [
       "               类别 一发内一 一发外一 一发中一 二发内一 二发外一 二发中一\n",
       "一区均值       1    17.214   14.61    2.44     6.48571  2.5e+00  3.54    \n",
       "二区均值       2    15.186   13.61    2.43     3.72857  5.2e+00  2.80    \n",
       "一区标准差     1     6.737    6.17    2.65     4.38291  2.7e+00  2.62    \n",
       "二区标准差     2     6.541    6.16    3.52     3.02128  3.7e+00  2.17    \n",
       "一二区T检验P值 0     0.073    0.34    0.98     0.00003  1.6e-06  0.07    "
      ]
     },
     "metadata": {},
     "output_type": "display_data"
    }
   ],
   "source": [
    "library(plyr)\n",
    "m1<-aggregate(cbind(一发内一,一发外一,一发中一,二发内一,二发外一,二发中一)~类别,dx,mean)\n",
    "msd<-aggregate(cbind(一发内一,一发外一,一发中一,二发内一,二发外一,二发中一)~类别,dx,sd)\n",
    "p1<-t.test(一发内一~类别,dx)\n",
    "p2<-t.test(一发外一~类别,dx)\n",
    "p3<-t.test(一发中一~类别,dx)\n",
    "p4<-t.test(二发内一~类别,dx)\n",
    "p5<-t.test(二发外一~类别,dx)\n",
    "p6<-t.test(二发中一~类别,dx)\n",
    "p<-c(0,p1$p.value,p2$p.value,p3$p.value,p4$p.value,p5$p.value,p6$p.value)\n",
    "mx<-rbind(m1[1:2,],msd[1:2,],p)\n",
    "rownames(mx)<-c('一区均值','二区均值','一区标准差','二区标准差','一二区T检验P值')\n",
    "mx\n",
    "write.csv(file=\"C:/Users/Administrator/Desktop/马超杰/ttest12.csv\",mx)"
   ]
  },
  {
   "cell_type": "code",
   "execution_count": 46,
   "metadata": {},
   "outputs": [
    {
     "data": {
      "text/html": [
       "<table>\n",
       "<thead><tr><th scope=col>网</th><th scope=col>年份</th><th scope=col>人名</th><th scope=col>一区内一</th><th scope=col>一区外一</th><th scope=col>一区中一</th><th scope=col>二区内</th><th scope=col>二区外</th><th scope=col>二区中</th><th scope=col>类别</th></tr></thead>\n",
       "<tbody>\n",
       "\t<tr><td>法网      </td><td>2015      </td><td>威廉姆斯  </td><td>23        </td><td>20        </td><td>0         </td><td>14        </td><td>23        </td><td>1         </td><td>1         </td></tr>\n",
       "\t<tr><td>法网      </td><td>2015      </td><td>萨法洛娃  </td><td>21        </td><td>20        </td><td>7         </td><td>31        </td><td> 7        </td><td>4         </td><td>1         </td></tr>\n",
       "\t<tr><td>法网      </td><td>2015      </td><td>萨法洛娃  </td><td>26        </td><td>10        </td><td>1         </td><td>17        </td><td>19        </td><td>0         </td><td>1         </td></tr>\n",
       "\t<tr><td>法网      </td><td>2015      </td><td>伊万诺维奇</td><td> 7        </td><td>18        </td><td>0         </td><td>15        </td><td> 8        </td><td>1         </td><td>1         </td></tr>\n",
       "\t<tr><td>法网      </td><td>2015      </td><td>威廉姆斯  </td><td>15        </td><td>29        </td><td>1         </td><td>20        </td><td>21        </td><td>0         </td><td>1         </td></tr>\n",
       "\t<tr><td>法网      </td><td>2015      </td><td>巴辛斯基  </td><td>21        </td><td>17        </td><td>2         </td><td>19        </td><td>16        </td><td>1         </td><td>1         </td></tr>\n",
       "</tbody>\n",
       "</table>\n"
      ],
      "text/latex": [
       "\\begin{tabular}{r|llllllllll}\n",
       " 网 & 年份 & 人名 & 一区内一 & 一区外一 & 一区中一 & 二区内 & 二区外 & 二区中 & 类别\\\\\n",
       "\\hline\n",
       "\t 法网       & 2015       & 威廉姆斯   & 23         & 20         & 0          & 14         & 23         & 1          & 1         \\\\\n",
       "\t 法网       & 2015       & 萨法洛娃   & 21         & 20         & 7          & 31         &  7         & 4          & 1         \\\\\n",
       "\t 法网       & 2015       & 萨法洛娃   & 26         & 10         & 1          & 17         & 19         & 0          & 1         \\\\\n",
       "\t 法网       & 2015       & 伊万诺维奇 &  7         & 18         & 0          & 15         &  8         & 1          & 1         \\\\\n",
       "\t 法网       & 2015       & 威廉姆斯   & 15         & 29         & 1          & 20         & 21         & 0          & 1         \\\\\n",
       "\t 法网       & 2015       & 巴辛斯基   & 21         & 17         & 2          & 19         & 16         & 1          & 1         \\\\\n",
       "\\end{tabular}\n"
      ],
      "text/markdown": [
       "\n",
       "网 | 年份 | 人名 | 一区内一 | 一区外一 | 一区中一 | 二区内 | 二区外 | 二区中 | 类别 | \n",
       "|---|---|---|---|---|---|\n",
       "| 法网       | 2015       | 威廉姆斯   | 23         | 20         | 0          | 14         | 23         | 1          | 1          | \n",
       "| 法网       | 2015       | 萨法洛娃   | 21         | 20         | 7          | 31         |  7         | 4          | 1          | \n",
       "| 法网       | 2015       | 萨法洛娃   | 26         | 10         | 1          | 17         | 19         | 0          | 1          | \n",
       "| 法网       | 2015       | 伊万诺维奇 |  7         | 18         | 0          | 15         |  8         | 1          | 1          | \n",
       "| 法网       | 2015       | 威廉姆斯   | 15         | 29         | 1          | 20         | 21         | 0          | 1          | \n",
       "| 法网       | 2015       | 巴辛斯基   | 21         | 17         | 2          | 19         | 16         | 1          | 1          | \n",
       "\n",
       "\n"
      ],
      "text/plain": [
       "  网   年份 人名       一区内一 一区外一 一区中一 二区内 二区外 二区中 类别\n",
       "1 法网 2015 威廉姆斯   23       20       0        14     23     1      1   \n",
       "2 法网 2015 萨法洛娃   21       20       7        31      7     4      1   \n",
       "3 法网 2015 萨法洛娃   26       10       1        17     19     0      1   \n",
       "4 法网 2015 伊万诺维奇  7       18       0        15      8     1      1   \n",
       "5 法网 2015 威廉姆斯   15       29       1        20     21     0      1   \n",
       "6 法网 2015 巴辛斯基   21       17       2        19     16     1      1   "
      ]
     },
     "metadata": {},
     "output_type": "display_data"
    }
   ],
   "source": [
    "dx2<-read.delim(\"clipboard\")\n",
    "head(dx2)"
   ]
  },
  {
   "cell_type": "code",
   "execution_count": 48,
   "metadata": {},
   "outputs": [
    {
     "data": {
      "text/html": [
       "<table>\n",
       "<thead><tr><th></th><th scope=col>类别</th><th scope=col>一区内一</th><th scope=col>一区外一</th><th scope=col>一区中一</th><th scope=col>二区内</th><th scope=col>二区外</th><th scope=col>二区中</th></tr></thead>\n",
       "<tbody>\n",
       "\t<tr><th scope=row>一发均值</th><td>1      </td><td>1.7e+01</td><td>1.5e+01</td><td>2.443  </td><td>1.5e+01</td><td>1.4e+01</td><td>2.43   </td></tr>\n",
       "\t<tr><th scope=row>二发均值</th><td>2      </td><td>6.5e+00</td><td>2.5e+00</td><td>3.543  </td><td>3.7e+00</td><td>5.2e+00</td><td>2.80   </td></tr>\n",
       "\t<tr><th scope=row>一发标准差</th><td>1      </td><td>6.7e+00</td><td>6.2e+00</td><td>2.652  </td><td>6.5e+00</td><td>6.2e+00</td><td>3.52   </td></tr>\n",
       "\t<tr><th scope=row>二发标准差</th><td>2      </td><td>4.4e+00</td><td>2.7e+00</td><td>2.619  </td><td>3.0e+00</td><td>3.7e+00</td><td>2.17   </td></tr>\n",
       "\t<tr><th scope=row>一二发T检验P值</th><td>0      </td><td>3.2e-20</td><td>5.8e-27</td><td>0.015  </td><td>1.3e-23</td><td>9.3e-17</td><td>0.45   </td></tr>\n",
       "</tbody>\n",
       "</table>\n"
      ],
      "text/latex": [
       "\\begin{tabular}{r|lllllll}\n",
       "  & 类别 & 一区内一 & 一区外一 & 一区中一 & 二区内 & 二区外 & 二区中\\\\\n",
       "\\hline\n",
       "\t一发均值 & 1       & 1.7e+01 & 1.5e+01 & 2.443   & 1.5e+01 & 1.4e+01 & 2.43   \\\\\n",
       "\t二发均值 & 2       & 6.5e+00 & 2.5e+00 & 3.543   & 3.7e+00 & 5.2e+00 & 2.80   \\\\\n",
       "\t一发标准差 & 1       & 6.7e+00 & 6.2e+00 & 2.652   & 6.5e+00 & 6.2e+00 & 3.52   \\\\\n",
       "\t二发标准差 & 2       & 4.4e+00 & 2.7e+00 & 2.619   & 3.0e+00 & 3.7e+00 & 2.17   \\\\\n",
       "\t一二发T检验P值 & 0       & 3.2e-20 & 5.8e-27 & 0.015   & 1.3e-23 & 9.3e-17 & 0.45   \\\\\n",
       "\\end{tabular}\n"
      ],
      "text/markdown": [
       "\n",
       "| <!--/--> | 类别 | 一区内一 | 一区外一 | 一区中一 | 二区内 | 二区外 | 二区中 | \n",
       "|---|---|---|---|---|\n",
       "| 一发均值 | 1       | 1.7e+01 | 1.5e+01 | 2.443   | 1.5e+01 | 1.4e+01 | 2.43    | \n",
       "| 二发均值 | 2       | 6.5e+00 | 2.5e+00 | 3.543   | 3.7e+00 | 5.2e+00 | 2.80    | \n",
       "| 一发标准差 | 1       | 6.7e+00 | 6.2e+00 | 2.652   | 6.5e+00 | 6.2e+00 | 3.52    | \n",
       "| 二发标准差 | 2       | 4.4e+00 | 2.7e+00 | 2.619   | 3.0e+00 | 3.7e+00 | 2.17    | \n",
       "| 一二发T检验P值 | 0       | 3.2e-20 | 5.8e-27 | 0.015   | 1.3e-23 | 9.3e-17 | 0.45    | \n",
       "\n",
       "\n"
      ],
      "text/plain": [
       "               类别 一区内一 一区外一 一区中一 二区内  二区外  二区中\n",
       "一发均值       1    1.7e+01  1.5e+01  2.443    1.5e+01 1.4e+01 2.43  \n",
       "二发均值       2    6.5e+00  2.5e+00  3.543    3.7e+00 5.2e+00 2.80  \n",
       "一发标准差     1    6.7e+00  6.2e+00  2.652    6.5e+00 6.2e+00 3.52  \n",
       "二发标准差     2    4.4e+00  2.7e+00  2.619    3.0e+00 3.7e+00 2.17  \n",
       "一二发T检验P值 0    3.2e-20  5.8e-27  0.015    1.3e-23 9.3e-17 0.45  "
      ]
     },
     "metadata": {},
     "output_type": "display_data"
    }
   ],
   "source": [
    "#library(plyr)\n",
    "m1<-aggregate(cbind(一区内一,一区外一,一区中一,二区内,二区外,二区中)~类别,dx2,mean)\n",
    "msd<-aggregate(cbind(一区内一,一区外一,一区中一,二区内,二区外,二区中)~类别,dx2,sd)\n",
    "p1<-t.test(一区内一~类别,dx2)\n",
    "p2<-t.test(一区外一~类别,dx2)\n",
    "p3<-t.test(一区中一~类别,dx2)\n",
    "p4<-t.test(二区内~类别,dx2)\n",
    "p5<-t.test(二区外~类别,dx2)\n",
    "p6<-t.test(二区中~类别,dx2)\n",
    "\n",
    "p<-c(0,p1$p.value,p2$p.value,p3$p.value,p4$p.value,p5$p.value,p6$p.value)\n",
    "mx<-rbind(m1[1:2,],msd[1:2,],p)\n",
    "rownames(mx)<-c('一发均值','二发均值','一发标准差','二发标准差','一二发T检验P值')\n",
    "mx\n",
    "write.csv(file=\"C:/Users/Administrator/Desktop/马超杰/ttest12发.csv\",mx)"
   ]
  },
  {
   "cell_type": "code",
   "execution_count": 52,
   "metadata": {},
   "outputs": [
    {
     "data": {
      "text/html": [
       "<table>\n",
       "<thead><tr><th scope=col>V1</th><th scope=col>V2</th><th scope=col>V3</th><th scope=col>V4</th><th scope=col>V5</th><th scope=col>V6</th><th scope=col>V7</th><th scope=col>V8</th><th scope=col>V9</th><th scope=col>V10</th><th scope=col>...</th><th scope=col>V28</th><th scope=col>V29</th><th scope=col>V30</th><th scope=col>V31</th><th scope=col>V32</th><th scope=col>V33</th><th scope=col>V34</th><th scope=col>V35</th><th scope=col>V36</th><th scope=col>V37</th></tr></thead>\n",
       "<tbody>\n",
       "\t<tr><td>2015      </td><td>巴辛斯基  </td><td>21        </td><td>17        </td><td>2         </td><td> 8        </td><td>1         </td><td>2         </td><td>19        </td><td>16        </td><td>...       </td><td>4         </td><td>14        </td><td>5         </td><td>11        </td><td>7         </td><td>10        </td><td>7         </td><td>18        </td><td>4         </td><td>3         </td></tr>\n",
       "\t<tr><td>2015      </td><td>哈勒普    </td><td>14        </td><td> 9        </td><td>1         </td><td> 1        </td><td>3         </td><td>5         </td><td> 9        </td><td>11        </td><td>...       </td><td>4         </td><td> 4        </td><td>2         </td><td> 7        </td><td>5         </td><td>11        </td><td>4         </td><td> 2        </td><td>0         </td><td>3         </td></tr>\n",
       "\t<tr><td>2015      </td><td>凯斯      </td><td>18        </td><td>14        </td><td>0         </td><td>11        </td><td>1         </td><td>1         </td><td>22        </td><td> 7        </td><td>...       </td><td>5         </td><td>13        </td><td>5         </td><td> 6        </td><td>8         </td><td> 8        </td><td>5         </td><td>21        </td><td>8         </td><td>3         </td></tr>\n",
       "\t<tr><td>2015      </td><td>拉德万斯卡</td><td>24        </td><td>19        </td><td>1         </td><td>11        </td><td>2         </td><td>1         </td><td>19        </td><td>16        </td><td>...       </td><td>6         </td><td>20        </td><td>5         </td><td>14        </td><td>8         </td><td> 8        </td><td>6         </td><td>14        </td><td>1         </td><td>0         </td></tr>\n",
       "\t<tr><td>2015      </td><td>马卡洛娃  </td><td>20        </td><td> 9        </td><td>2         </td><td> 6        </td><td>0         </td><td>2         </td><td>19        </td><td> 6        </td><td>...       </td><td>3         </td><td>11        </td><td>4         </td><td>11        </td><td>5         </td><td> 6        </td><td>8         </td><td>11        </td><td>0         </td><td>0         </td></tr>\n",
       "\t<tr><td>2015      </td><td>穆古鲁扎  </td><td>14        </td><td>16        </td><td>1         </td><td> 0        </td><td>4         </td><td>5         </td><td>12        </td><td>14        </td><td>...       </td><td>0         </td><td> 9        </td><td>6         </td><td> 7        </td><td>9         </td><td>12        </td><td>2         </td><td>14        </td><td>3         </td><td>2         </td></tr>\n",
       "</tbody>\n",
       "</table>\n"
      ],
      "text/latex": [
       "\\begin{tabular}{r|lllllllllllllllllllllllllllllllllllll}\n",
       " V1 & V2 & V3 & V4 & V5 & V6 & V7 & V8 & V9 & V10 & ... & V28 & V29 & V30 & V31 & V32 & V33 & V34 & V35 & V36 & V37\\\\\n",
       "\\hline\n",
       "\t 2015       & 巴辛斯基   & 21         & 17         & 2          &  8         & 1          & 2          & 19         & 16         & ...        & 4          & 14         & 5          & 11         & 7          & 10         & 7          & 18         & 4          & 3         \\\\\n",
       "\t 2015       & 哈勒普     & 14         &  9         & 1          &  1         & 3          & 5          &  9         & 11         & ...        & 4          &  4         & 2          &  7         & 5          & 11         & 4          &  2         & 0          & 3         \\\\\n",
       "\t 2015       & 凯斯       & 18         & 14         & 0          & 11         & 1          & 1          & 22         &  7         & ...        & 5          & 13         & 5          &  6         & 8          &  8         & 5          & 21         & 8          & 3         \\\\\n",
       "\t 2015       & 拉德万斯卡 & 24         & 19         & 1          & 11         & 2          & 1          & 19         & 16         & ...        & 6          & 20         & 5          & 14         & 8          &  8         & 6          & 14         & 1          & 0         \\\\\n",
       "\t 2015       & 马卡洛娃   & 20         &  9         & 2          &  6         & 0          & 2          & 19         &  6         & ...        & 3          & 11         & 4          & 11         & 5          &  6         & 8          & 11         & 0          & 0         \\\\\n",
       "\t 2015       & 穆古鲁扎   & 14         & 16         & 1          &  0         & 4          & 5          & 12         & 14         & ...        & 0          &  9         & 6          &  7         & 9          & 12         & 2          & 14         & 3          & 2         \\\\\n",
       "\\end{tabular}\n"
      ],
      "text/markdown": [
       "\n",
       "V1 | V2 | V3 | V4 | V5 | V6 | V7 | V8 | V9 | V10 | ... | V28 | V29 | V30 | V31 | V32 | V33 | V34 | V35 | V36 | V37 | \n",
       "|---|---|---|---|---|---|\n",
       "| 2015       | 巴辛斯基   | 21         | 17         | 2          |  8         | 1          | 2          | 19         | 16         | ...        | 4          | 14         | 5          | 11         | 7          | 10         | 7          | 18         | 4          | 3          | \n",
       "| 2015       | 哈勒普     | 14         |  9         | 1          |  1         | 3          | 5          |  9         | 11         | ...        | 4          |  4         | 2          |  7         | 5          | 11         | 4          |  2         | 0          | 3          | \n",
       "| 2015       | 凯斯       | 18         | 14         | 0          | 11         | 1          | 1          | 22         |  7         | ...        | 5          | 13         | 5          |  6         | 8          |  8         | 5          | 21         | 8          | 3          | \n",
       "| 2015       | 拉德万斯卡 | 24         | 19         | 1          | 11         | 2          | 1          | 19         | 16         | ...        | 6          | 20         | 5          | 14         | 8          |  8         | 6          | 14         | 1          | 0          | \n",
       "| 2015       | 马卡洛娃   | 20         |  9         | 2          |  6         | 0          | 2          | 19         |  6         | ...        | 3          | 11         | 4          | 11         | 5          |  6         | 8          | 11         | 0          | 0          | \n",
       "| 2015       | 穆古鲁扎   | 14         | 16         | 1          |  0         | 4          | 5          | 12         | 14         | ...        | 0          |  9         | 6          |  7         | 9          | 12         | 2          | 14         | 3          | 2          | \n",
       "\n",
       "\n"
      ],
      "text/plain": [
       "  V1   V2         V3 V4 V5 V6 V7 V8 V9 V10 ... V28 V29 V30 V31 V32 V33 V34 V35\n",
       "1 2015 巴辛斯基   21 17 2   8 1  2  19 16  ... 4   14  5   11  7   10  7   18 \n",
       "2 2015 哈勒普     14  9 1   1 3  5   9 11  ... 4    4  2    7  5   11  4    2 \n",
       "3 2015 凯斯       18 14 0  11 1  1  22  7  ... 5   13  5    6  8    8  5   21 \n",
       "4 2015 拉德万斯卡 24 19 1  11 2  1  19 16  ... 6   20  5   14  8    8  6   14 \n",
       "5 2015 马卡洛娃   20  9 2   6 0  2  19  6  ... 3   11  4   11  5    6  8   11 \n",
       "6 2015 穆古鲁扎   14 16 1   0 4  5  12 14  ... 0    9  6    7  9   12  2   14 \n",
       "  V36 V37\n",
       "1 4   3  \n",
       "2 0   3  \n",
       "3 8   3  \n",
       "4 1   0  \n",
       "5 0   0  \n",
       "6 3   2  "
      ]
     },
     "metadata": {},
     "output_type": "display_data"
    }
   ],
   "source": [
    "dx3<-read.delim(\"clipboard\",header=FALSE)\n",
    "head(dx3)"
   ]
  },
  {
   "cell_type": "code",
   "execution_count": 107,
   "metadata": {},
   "outputs": [
    {
     "name": "stderr",
     "output_type": "stream",
     "text": [
      "The following objects are masked from tx (pos = 3):\n",
      "\n",
      "    V1, V10, V11, V12, V13, V14, V15, V16, V17, V18, V19, V2, V20, V21,\n",
      "    V22, V23, V24, V25, V26, V27, V28, V29, V3, V30, V31, V32, V33,\n",
      "    V34, V4, V5, V6, V7, V8, V9\n",
      "\n",
      "The following objects are masked from tx (pos = 4):\n",
      "\n",
      "    V1, V10, V11, V12, V13, V14, V15, V16, V17, V18, V19, V2, V20, V21,\n",
      "    V22, V23, V24, V25, V26, V27, V28, V29, V3, V30, V31, V32, V33,\n",
      "    V34, V4, V5, V6, V7, V8, V9\n",
      "\n",
      "The following objects are masked from tx (pos = 5):\n",
      "\n",
      "    V1, V10, V11, V12, V13, V14, V15, V16, V17, V18, V19, V2, V20, V21,\n",
      "    V22, V23, V24, V25, V26, V27, V28, V29, V3, V30, V31, V32, V33,\n",
      "    V34, V4, V5, V6, V7, V8, V9\n",
      "\n",
      "The following objects are masked from tx (pos = 6):\n",
      "\n",
      "    V1, V10, V11, V12, V13, V14, V15, V16, V17, V18, V19, V2, V20, V21,\n",
      "    V22, V23, V24, V25, V26, V27, V28, V29, V3, V30, V31, V32, V33,\n",
      "    V34, V4, V5, V6, V7, V8, V9\n",
      "\n",
      "The following objects are masked from tx (pos = 7):\n",
      "\n",
      "    V1, V10, V11, V12, V13, V14, V15, V16, V17, V18, V19, V2, V20, V21,\n",
      "    V22, V23, V24, V25, V26, V27, V28, V29, V3, V30, V31, V32, V33,\n",
      "    V34, V4, V5, V6, V7, V8, V9\n",
      "\n",
      "The following objects are masked from tx (pos = 8):\n",
      "\n",
      "    V1, V10, V11, V12, V13, V14, V15, V16, V17, V18, V19, V2, V20, V21,\n",
      "    V22, V23, V24, V25, V26, V27, V28, V29, V3, V30, V31, V32, V33,\n",
      "    V34, V4, V5, V6, V7, V8, V9\n",
      "\n",
      "The following objects are masked from tx (pos = 9):\n",
      "\n",
      "    V1, V10, V11, V12, V13, V14, V15, V16, V17, V18, V19, V2, V20, V21,\n",
      "    V22, V23, V24, V25, V26, V27, V28, V29, V3, V30, V31, V32, V33,\n",
      "    V34, V4, V5, V6, V7, V8, V9\n",
      "\n"
     ]
    },
    {
     "data": {
      "text/html": [
       "<table>\n",
       "<thead><tr><th scope=col>V1</th><th scope=col>V2</th><th scope=col>V3</th><th scope=col>V4</th><th scope=col>V5</th><th scope=col>V6</th><th scope=col>V7</th><th scope=col>V8</th><th scope=col>V9</th><th scope=col>V10</th><th scope=col>...</th><th scope=col>V26</th><th scope=col>V27</th><th scope=col>V28</th><th scope=col>V29</th><th scope=col>V30</th><th scope=col>V31</th><th scope=col>V32</th><th scope=col>V33</th><th scope=col>V34</th><th scope=col>p7</th></tr></thead>\n",
       "<tbody>\n",
       "\t<tr><td>2017      </td><td>奥斯塔彭科</td><td>32        </td><td>14.0      </td><td>2.5       </td><td>12.5      </td><td>8.5       </td><td>0.5       </td><td>24        </td><td>13        </td><td>...       </td><td>2.0       </td><td>20        </td><td> 6.0      </td><td>16        </td><td>5.0       </td><td> 8.0      </td><td>16.0      </td><td>14        </td><td>9.5       </td><td> 1        </td></tr>\n",
       "\t<tr><td>2015      </td><td>巴辛斯基  </td><td>21        </td><td>17.0      </td><td>2.0       </td><td> 8.0      </td><td>1.0       </td><td>2.0       </td><td>19        </td><td>16        </td><td>...       </td><td>2.0       </td><td>17        </td><td> 4.0      </td><td>14        </td><td>5.0       </td><td>11.0      </td><td> 7.0      </td><td>10        </td><td>7.0       </td><td> 3        </td></tr>\n",
       "\t<tr><td>2017      </td><td>巴辛斯基  </td><td>20        </td><td>18.0      </td><td>2.0       </td><td> 8.0      </td><td>3.0       </td><td>4.0       </td><td>12        </td><td>17        </td><td>...       </td><td>0.0       </td><td>17        </td><td>10.0      </td><td> 8        </td><td>4.0       </td><td> 9.0      </td><td> 6.0      </td><td>16        </td><td>9.0       </td><td> 5        </td></tr>\n",
       "\t<tr><td>2016      </td><td>贝尔腾斯  </td><td>15        </td><td>21.0      </td><td>1.0       </td><td> 3.0      </td><td>5.0       </td><td>1.0       </td><td>15        </td><td>20        </td><td>...       </td><td>0.0       </td><td>16        </td><td> 7.0      </td><td>13        </td><td>6.0       </td><td> 9.0      </td><td> 4.0      </td><td>10        </td><td>6.0       </td><td> 7        </td></tr>\n",
       "\t<tr><td>2016      </td><td>大威廉姆斯</td><td>19        </td><td>10.0      </td><td>3.0       </td><td> 4.0      </td><td>5.0       </td><td>3.0       </td><td>21        </td><td> 8        </td><td>...       </td><td>2.0       </td><td>13        </td><td> 5.0      </td><td>10        </td><td>6.0       </td><td> 7.0      </td><td> 7.0      </td><td>11        </td><td>4.0       </td><td> 9        </td></tr>\n",
       "\t<tr><td>2017      </td><td>大威廉姆斯</td><td>21        </td><td> 8.2      </td><td>4.6       </td><td> 3.4      </td><td>1.0       </td><td>6.0       </td><td>12        </td><td>11        </td><td>...       </td><td>2.2       </td><td>14        </td><td> 5.2      </td><td>15        </td><td>4.4       </td><td> 7.4      </td><td> 6.6      </td><td> 5        </td><td>7.2       </td><td>11        </td></tr>\n",
       "</tbody>\n",
       "</table>\n"
      ],
      "text/latex": [
       "\\begin{tabular}{r|lllllllllllllllllllllllllllllllllll}\n",
       " V1 & V2 & V3 & V4 & V5 & V6 & V7 & V8 & V9 & V10 & ... & V26 & V27 & V28 & V29 & V30 & V31 & V32 & V33 & V34 & p7\\\\\n",
       "\\hline\n",
       "\t 2017       & 奥斯塔彭科 & 32         & 14.0       & 2.5        & 12.5       & 8.5        & 0.5        & 24         & 13         & ...        & 2.0        & 20         &  6.0       & 16         & 5.0        &  8.0       & 16.0       & 14         & 9.5        &  1        \\\\\n",
       "\t 2015       & 巴辛斯基   & 21         & 17.0       & 2.0        &  8.0       & 1.0        & 2.0        & 19         & 16         & ...        & 2.0        & 17         &  4.0       & 14         & 5.0        & 11.0       &  7.0       & 10         & 7.0        &  3        \\\\\n",
       "\t 2017       & 巴辛斯基   & 20         & 18.0       & 2.0        &  8.0       & 3.0        & 4.0        & 12         & 17         & ...        & 0.0        & 17         & 10.0       &  8         & 4.0        &  9.0       &  6.0       & 16         & 9.0        &  5        \\\\\n",
       "\t 2016       & 贝尔腾斯   & 15         & 21.0       & 1.0        &  3.0       & 5.0        & 1.0        & 15         & 20         & ...        & 0.0        & 16         &  7.0       & 13         & 6.0        &  9.0       &  4.0       & 10         & 6.0        &  7        \\\\\n",
       "\t 2016       & 大威廉姆斯 & 19         & 10.0       & 3.0        &  4.0       & 5.0        & 3.0        & 21         &  8         & ...        & 2.0        & 13         &  5.0       & 10         & 6.0        &  7.0       &  7.0       & 11         & 4.0        &  9        \\\\\n",
       "\t 2017       & 大威廉姆斯 & 21         &  8.2       & 4.6        &  3.4       & 1.0        & 6.0        & 12         & 11         & ...        & 2.2        & 14         &  5.2       & 15         & 4.4        &  7.4       &  6.6       &  5         & 7.2        & 11        \\\\\n",
       "\\end{tabular}\n"
      ],
      "text/markdown": [
       "\n",
       "V1 | V2 | V3 | V4 | V5 | V6 | V7 | V8 | V9 | V10 | ... | V26 | V27 | V28 | V29 | V30 | V31 | V32 | V33 | V34 | p7 | \n",
       "|---|---|---|---|---|---|\n",
       "| 2017       | 奥斯塔彭科 | 32         | 14.0       | 2.5        | 12.5       | 8.5        | 0.5        | 24         | 13         | ...        | 2.0        | 20         |  6.0       | 16         | 5.0        |  8.0       | 16.0       | 14         | 9.5        |  1         | \n",
       "| 2015       | 巴辛斯基   | 21         | 17.0       | 2.0        |  8.0       | 1.0        | 2.0        | 19         | 16         | ...        | 2.0        | 17         |  4.0       | 14         | 5.0        | 11.0       |  7.0       | 10         | 7.0        |  3         | \n",
       "| 2017       | 巴辛斯基   | 20         | 18.0       | 2.0        |  8.0       | 3.0        | 4.0        | 12         | 17         | ...        | 0.0        | 17         | 10.0       |  8         | 4.0        |  9.0       |  6.0       | 16         | 9.0        |  5         | \n",
       "| 2016       | 贝尔腾斯   | 15         | 21.0       | 1.0        |  3.0       | 5.0        | 1.0        | 15         | 20         | ...        | 0.0        | 16         |  7.0       | 13         | 6.0        |  9.0       |  4.0       | 10         | 6.0        |  7         | \n",
       "| 2016       | 大威廉姆斯 | 19         | 10.0       | 3.0        |  4.0       | 5.0        | 3.0        | 21         |  8         | ...        | 2.0        | 13         |  5.0       | 10         | 6.0        |  7.0       |  7.0       | 11         | 4.0        |  9         | \n",
       "| 2017       | 大威廉姆斯 | 21         |  8.2       | 4.6        |  3.4       | 1.0        | 6.0        | 12         | 11         | ...        | 2.2        | 14         |  5.2       | 15         | 4.4        |  7.4       |  6.6       |  5         | 7.2        | 11         | \n",
       "\n",
       "\n"
      ],
      "text/plain": [
       "  V1   V2         V3 V4   V5  V6   V7  V8  V9 V10 ... V26 V27 V28  V29 V30 V31 \n",
       "1 2017 奥斯塔彭科 32 14.0 2.5 12.5 8.5 0.5 24 13  ... 2.0 20   6.0 16  5.0  8.0\n",
       "2 2015 巴辛斯基   21 17.0 2.0  8.0 1.0 2.0 19 16  ... 2.0 17   4.0 14  5.0 11.0\n",
       "3 2017 巴辛斯基   20 18.0 2.0  8.0 3.0 4.0 12 17  ... 0.0 17  10.0  8  4.0  9.0\n",
       "4 2016 贝尔腾斯   15 21.0 1.0  3.0 5.0 1.0 15 20  ... 0.0 16   7.0 13  6.0  9.0\n",
       "5 2016 大威廉姆斯 19 10.0 3.0  4.0 5.0 3.0 21  8  ... 2.0 13   5.0 10  6.0  7.0\n",
       "6 2017 大威廉姆斯 21  8.2 4.6  3.4 1.0 6.0 12 11  ... 2.2 14   5.2 15  4.4  7.4\n",
       "  V32  V33 V34 p7\n",
       "1 16.0 14  9.5  1\n",
       "2  7.0 10  7.0  3\n",
       "3  6.0 16  9.0  5\n",
       "4  4.0 10  6.0  7\n",
       "5  7.0 11  4.0  9\n",
       "6  6.6  5  7.2 11"
      ]
     },
     "metadata": {},
     "output_type": "display_data"
    }
   ],
   "source": [
    "t<-setdiff(names(dx3),c('V1','V2'))\n",
    "tx<-aggregate(cbind(V3,V4,V5,V6,V7,V8,V9,V10,V11,V12,V13,V14,V15,V16,V17,V18,V19,V20,V21,V22,V23,V24,V25,V26,V27,V28,V29,V30,V31,V32,V33,V34)~V1+V2,dx3,mean)\n",
    "#txx<-apply(tx[,setdiff(names(tx),c('V1','V2'))],1,sum)\n",
    "txx1<-apply(tx[,c('V3','V4','V5','V6','V7','V8','V9','V10','V11','V12','V13','V14')],1,sum)\n",
    "p1<-tx[,c('V3','V4','V5','V6','V7','V8','V9','V10','V11','V12','V13','V14')]*100/txx1\n",
    "txx2<-apply(tx[,c('V15','V16','V17','V18')],1,sum)\n",
    "p2<-tx[,c('V15','V16','V17','V18')]*100/txx2\n",
    "txx3<-apply(tx[,c('V19','V20','V21','V22')],1,sum)\n",
    "p3<-tx[,c('V19','V20','V21','V22')]*100/txx3\n",
    "txx4<-apply(tx[,c('V23','V24','V25','V26')],1,sum)\n",
    "p4<-tx[,c('V23','V24','V25','V26')]*100/txx4\n",
    "txx5<-apply(tx[,c('V27','V28','V29','V30')],1,sum)\n",
    "p5<-tx[,c('V27','V28','V29','V30')]*100/txx5\n",
    "txx6<-apply(tx[,c('V31','V32','V33','V34')],1,sum)\n",
    "p6<-tx[,c('V31','V32','V33','V34')]*100/txx6\n",
    "#tx[,setdiff(names(tx),c('V1','V2'))]/txx\n",
    "lenp <- dim(tx)[1]\n",
    "p7 <- seq(2,2*lenp,2)\n",
    "attach(tx)\n",
    "perp<-cbind(V1,V2,p1,p2,p3,p4,p5,p6,p7)\n",
    "#head(perp)\n",
    "p7<-seq(1,2*lenp,2)\n",
    "mp8<-cbind(tx,p7)\n",
    "#head(mp8)\n",
    "#dim(mp8)\n",
    "#dim(perp)\n",
    "dxx<-rbind(perp,mp8)\n",
    "#tail(dxx)\n",
    "#dim(dxx)\n",
    "\n",
    "write.csv(file=\"C:/Users/Administrator/Desktop/马超杰/percent.csv\",dxx)\n"
   ]
  },
  {
   "cell_type": "code",
   "execution_count": 4,
   "metadata": {},
   "outputs": [
    {
     "data": {
      "text/html": [
       "<table>\n",
       "<thead><tr><th scope=col>V1</th><th scope=col>V2</th><th scope=col>V3</th><th scope=col>V4</th><th scope=col>V5</th><th scope=col>V6</th><th scope=col>V7</th><th scope=col>V8</th><th scope=col>V9</th><th scope=col>V10</th><th scope=col>...</th><th scope=col>V16</th><th scope=col>V17</th><th scope=col>V18</th><th scope=col>V19</th><th scope=col>V20</th><th scope=col>V21</th><th scope=col>V22</th><th scope=col>V23</th><th scope=col>V24</th><th scope=col>V25</th></tr></thead>\n",
       "<tbody>\n",
       "\t<tr><td>法网</td><td>2015</td><td>180 </td><td>149 </td><td>182 </td><td>143 </td><td>25  </td><td>14  </td><td>20  </td><td>14  </td><td>... </td><td>12  </td><td>17  </td><td>6   </td><td> 7  </td><td> 7  </td><td> 3  </td><td>12  </td><td>34  </td><td>9   </td><td>8   </td></tr>\n",
       "\t<tr><td>法网</td><td>2015</td><td>158 </td><td>133 </td><td>163 </td><td>130 </td><td>34  </td><td>11  </td><td>28  </td><td>13  </td><td>... </td><td> 3  </td><td>15  </td><td>8   </td><td>16  </td><td> 8  </td><td>13  </td><td> 6  </td><td>22  </td><td>2   </td><td>3   </td></tr>\n",
       "\t<tr><td>法网</td><td>2015</td><td>155 </td><td>129 </td><td>155 </td><td>131 </td><td>23  </td><td>11  </td><td>24  </td><td> 9  </td><td>... </td><td> 8  </td><td>15  </td><td>7   </td><td> 7  </td><td> 6  </td><td> 8  </td><td> 5  </td><td>19  </td><td>5   </td><td>7   </td></tr>\n",
       "\t<tr><td>法网</td><td>2015</td><td>161 </td><td>146 </td><td>164 </td><td>144 </td><td>14  </td><td> 7  </td><td>13  </td><td>10  </td><td>... </td><td> 3  </td><td> 5  </td><td>5   </td><td> 5  </td><td> 8  </td><td> 7  </td><td> 7  </td><td>12  </td><td>2   </td><td>5   </td></tr>\n",
       "\t<tr><td>法网</td><td>2015</td><td>171 </td><td>145 </td><td>175 </td><td>149 </td><td>27  </td><td>20  </td><td>23  </td><td>16  </td><td>... </td><td> 9  </td><td>19  </td><td>9   </td><td> 7  </td><td>11  </td><td> 4  </td><td> 8  </td><td>31  </td><td>6   </td><td>0   </td></tr>\n",
       "\t<tr><td>法网</td><td>2015</td><td>158 </td><td>133 </td><td>151 </td><td>134 </td><td>29  </td><td>10  </td><td>23  </td><td>10  </td><td>... </td><td> 4  </td><td>14  </td><td>5   </td><td>11  </td><td> 7  </td><td>10  </td><td> 7  </td><td>18  </td><td>4   </td><td>3   </td></tr>\n",
       "</tbody>\n",
       "</table>\n"
      ],
      "text/latex": [
       "\\begin{tabular}{r|lllllllllllllllllllllllll}\n",
       " V1 & V2 & V3 & V4 & V5 & V6 & V7 & V8 & V9 & V10 & ... & V16 & V17 & V18 & V19 & V20 & V21 & V22 & V23 & V24 & V25\\\\\n",
       "\\hline\n",
       "\t 法网 & 2015 & 180  & 149  & 182  & 143  & 25   & 14   & 20   & 14   & ...  & 12   & 17   & 6    &  7   &  7   &  3   & 12   & 34   & 9    & 8   \\\\\n",
       "\t 法网 & 2015 & 158  & 133  & 163  & 130  & 34   & 11   & 28   & 13   & ...  &  3   & 15   & 8    & 16   &  8   & 13   &  6   & 22   & 2    & 3   \\\\\n",
       "\t 法网 & 2015 & 155  & 129  & 155  & 131  & 23   & 11   & 24   &  9   & ...  &  8   & 15   & 7    &  7   &  6   &  8   &  5   & 19   & 5    & 7   \\\\\n",
       "\t 法网 & 2015 & 161  & 146  & 164  & 144  & 14   &  7   & 13   & 10   & ...  &  3   &  5   & 5    &  5   &  8   &  7   &  7   & 12   & 2    & 5   \\\\\n",
       "\t 法网 & 2015 & 171  & 145  & 175  & 149  & 27   & 20   & 23   & 16   & ...  &  9   & 19   & 9    &  7   & 11   &  4   &  8   & 31   & 6    & 0   \\\\\n",
       "\t 法网 & 2015 & 158  & 133  & 151  & 134  & 29   & 10   & 23   & 10   & ...  &  4   & 14   & 5    & 11   &  7   & 10   &  7   & 18   & 4    & 3   \\\\\n",
       "\\end{tabular}\n"
      ],
      "text/markdown": [
       "\n",
       "V1 | V2 | V3 | V4 | V5 | V6 | V7 | V8 | V9 | V10 | ... | V16 | V17 | V18 | V19 | V20 | V21 | V22 | V23 | V24 | V25 | \n",
       "|---|---|---|---|---|---|\n",
       "| 法网 | 2015 | 180  | 149  | 182  | 143  | 25   | 14   | 20   | 14   | ...  | 12   | 17   | 6    |  7   |  7   |  3   | 12   | 34   | 9    | 8    | \n",
       "| 法网 | 2015 | 158  | 133  | 163  | 130  | 34   | 11   | 28   | 13   | ...  |  3   | 15   | 8    | 16   |  8   | 13   |  6   | 22   | 2    | 3    | \n",
       "| 法网 | 2015 | 155  | 129  | 155  | 131  | 23   | 11   | 24   |  9   | ...  |  8   | 15   | 7    |  7   |  6   |  8   |  5   | 19   | 5    | 7    | \n",
       "| 法网 | 2015 | 161  | 146  | 164  | 144  | 14   |  7   | 13   | 10   | ...  |  3   |  5   | 5    |  5   |  8   |  7   |  7   | 12   | 2    | 5    | \n",
       "| 法网 | 2015 | 171  | 145  | 175  | 149  | 27   | 20   | 23   | 16   | ...  |  9   | 19   | 9    |  7   | 11   |  4   |  8   | 31   | 6    | 0    | \n",
       "| 法网 | 2015 | 158  | 133  | 151  | 134  | 29   | 10   | 23   | 10   | ...  |  4   | 14   | 5    | 11   |  7   | 10   |  7   | 18   | 4    | 3    | \n",
       "\n",
       "\n"
      ],
      "text/plain": [
       "  V1   V2   V3  V4  V5  V6  V7 V8 V9 V10 ... V16 V17 V18 V19 V20 V21 V22 V23\n",
       "1 法网 2015 180 149 182 143 25 14 20 14  ... 12  17  6    7   7   3  12  34 \n",
       "2 法网 2015 158 133 163 130 34 11 28 13  ...  3  15  8   16   8  13   6  22 \n",
       "3 法网 2015 155 129 155 131 23 11 24  9  ...  8  15  7    7   6   8   5  19 \n",
       "4 法网 2015 161 146 164 144 14  7 13 10  ...  3   5  5    5   8   7   7  12 \n",
       "5 法网 2015 171 145 175 149 27 20 23 16  ...  9  19  9    7  11   4   8  31 \n",
       "6 法网 2015 158 133 151 134 29 10 23 10  ...  4  14  5   11   7  10   7  18 \n",
       "  V24 V25\n",
       "1 9   8  \n",
       "2 2   3  \n",
       "3 5   7  \n",
       "4 2   5  \n",
       "5 6   0  \n",
       "6 4   3  "
      ]
     },
     "metadata": {},
     "output_type": "display_data"
    }
   ],
   "source": [
    "dx4<-read.delim(\"clipboard\",header=FALSE)\n",
    "head(dx4)\n"
   ]
  },
  {
   "cell_type": "code",
   "execution_count": 5,
   "metadata": {},
   "outputs": [
    {
     "data": {
      "text/html": [
       "<table>\n",
       "<thead><tr><th scope=col>网</th><th scope=col>年份</th><th scope=col>一发平均球速一</th><th scope=col>二发平均球速一</th><th scope=col>一发平均球速二</th><th scope=col>二发平均球速二</th><th scope=col>一发成功率一</th><th scope=col>二发成功率一</th><th scope=col>一发成功率二</th><th scope=col>二发成功率二</th><th scope=col>...</th><th scope=col>二发赢球一</th><th scope=col>一发赢球二</th><th scope=col>二发赢球二</th><th scope=col>一发失分一</th><th scope=col>二发失分一</th><th scope=col>一发失分二</th><th scope=col>二发失分二</th><th scope=col>直接得分</th><th scope=col>ACE球</th><th scope=col>双误</th></tr></thead>\n",
       "<tbody>\n",
       "\t<tr><td>法网</td><td>2015</td><td>180 </td><td>149 </td><td>182 </td><td>143 </td><td>25  </td><td>14  </td><td>20  </td><td>14  </td><td>... </td><td>12  </td><td>17  </td><td>6   </td><td> 7  </td><td> 7  </td><td> 3  </td><td>12  </td><td>34  </td><td>9   </td><td>8   </td></tr>\n",
       "\t<tr><td>法网</td><td>2015</td><td>158 </td><td>133 </td><td>163 </td><td>130 </td><td>34  </td><td>11  </td><td>28  </td><td>13  </td><td>... </td><td> 3  </td><td>15  </td><td>8   </td><td>16  </td><td> 8  </td><td>13  </td><td> 6  </td><td>22  </td><td>2   </td><td>3   </td></tr>\n",
       "\t<tr><td>法网</td><td>2015</td><td>155 </td><td>129 </td><td>155 </td><td>131 </td><td>23  </td><td>11  </td><td>24  </td><td> 9  </td><td>... </td><td> 8  </td><td>15  </td><td>7   </td><td> 7  </td><td> 6  </td><td> 8  </td><td> 5  </td><td>19  </td><td>5   </td><td>7   </td></tr>\n",
       "\t<tr><td>法网</td><td>2015</td><td>161 </td><td>146 </td><td>164 </td><td>144 </td><td>14  </td><td> 7  </td><td>13  </td><td>10  </td><td>... </td><td> 3  </td><td> 5  </td><td>5   </td><td> 5  </td><td> 8  </td><td> 7  </td><td> 7  </td><td>12  </td><td>2   </td><td>5   </td></tr>\n",
       "\t<tr><td>法网</td><td>2015</td><td>171 </td><td>145 </td><td>175 </td><td>149 </td><td>27  </td><td>20  </td><td>23  </td><td>16  </td><td>... </td><td> 9  </td><td>19  </td><td>9   </td><td> 7  </td><td>11  </td><td> 4  </td><td> 8  </td><td>31  </td><td>6   </td><td>0   </td></tr>\n",
       "\t<tr><td>法网</td><td>2015</td><td>158 </td><td>133 </td><td>151 </td><td>134 </td><td>29  </td><td>10  </td><td>23  </td><td>10  </td><td>... </td><td> 4  </td><td>14  </td><td>5   </td><td>11  </td><td> 7  </td><td>10  </td><td> 7  </td><td>18  </td><td>4   </td><td>3   </td></tr>\n",
       "</tbody>\n",
       "</table>\n"
      ],
      "text/latex": [
       "\\begin{tabular}{r|lllllllllllllllllllllllll}\n",
       " 网 & 年份 & 一发平均球速一 & 二发平均球速一 & 一发平均球速二 & 二发平均球速二 & 一发成功率一 & 二发成功率一 & 一发成功率二 & 二发成功率二 & ... & 二发赢球一 & 一发赢球二 & 二发赢球二 & 一发失分一 & 二发失分一 & 一发失分二 & 二发失分二 & 直接得分 & ACE球 & 双误\\\\\n",
       "\\hline\n",
       "\t 法网 & 2015 & 180  & 149  & 182  & 143  & 25   & 14   & 20   & 14   & ...  & 12   & 17   & 6    &  7   &  7   &  3   & 12   & 34   & 9    & 8   \\\\\n",
       "\t 法网 & 2015 & 158  & 133  & 163  & 130  & 34   & 11   & 28   & 13   & ...  &  3   & 15   & 8    & 16   &  8   & 13   &  6   & 22   & 2    & 3   \\\\\n",
       "\t 法网 & 2015 & 155  & 129  & 155  & 131  & 23   & 11   & 24   &  9   & ...  &  8   & 15   & 7    &  7   &  6   &  8   &  5   & 19   & 5    & 7   \\\\\n",
       "\t 法网 & 2015 & 161  & 146  & 164  & 144  & 14   &  7   & 13   & 10   & ...  &  3   &  5   & 5    &  5   &  8   &  7   &  7   & 12   & 2    & 5   \\\\\n",
       "\t 法网 & 2015 & 171  & 145  & 175  & 149  & 27   & 20   & 23   & 16   & ...  &  9   & 19   & 9    &  7   & 11   &  4   &  8   & 31   & 6    & 0   \\\\\n",
       "\t 法网 & 2015 & 158  & 133  & 151  & 134  & 29   & 10   & 23   & 10   & ...  &  4   & 14   & 5    & 11   &  7   & 10   &  7   & 18   & 4    & 3   \\\\\n",
       "\\end{tabular}\n"
      ],
      "text/markdown": [
       "\n",
       "网 | 年份 | 一发平均球速一 | 二发平均球速一 | 一发平均球速二 | 二发平均球速二 | 一发成功率一 | 二发成功率一 | 一发成功率二 | 二发成功率二 | ... | 二发赢球一 | 一发赢球二 | 二发赢球二 | 一发失分一 | 二发失分一 | 一发失分二 | 二发失分二 | 直接得分 | ACE球 | 双误 | \n",
       "|---|---|---|---|---|---|\n",
       "| 法网 | 2015 | 180  | 149  | 182  | 143  | 25   | 14   | 20   | 14   | ...  | 12   | 17   | 6    |  7   |  7   |  3   | 12   | 34   | 9    | 8    | \n",
       "| 法网 | 2015 | 158  | 133  | 163  | 130  | 34   | 11   | 28   | 13   | ...  |  3   | 15   | 8    | 16   |  8   | 13   |  6   | 22   | 2    | 3    | \n",
       "| 法网 | 2015 | 155  | 129  | 155  | 131  | 23   | 11   | 24   |  9   | ...  |  8   | 15   | 7    |  7   |  6   |  8   |  5   | 19   | 5    | 7    | \n",
       "| 法网 | 2015 | 161  | 146  | 164  | 144  | 14   |  7   | 13   | 10   | ...  |  3   |  5   | 5    |  5   |  8   |  7   |  7   | 12   | 2    | 5    | \n",
       "| 法网 | 2015 | 171  | 145  | 175  | 149  | 27   | 20   | 23   | 16   | ...  |  9   | 19   | 9    |  7   | 11   |  4   |  8   | 31   | 6    | 0    | \n",
       "| 法网 | 2015 | 158  | 133  | 151  | 134  | 29   | 10   | 23   | 10   | ...  |  4   | 14   | 5    | 11   |  7   | 10   |  7   | 18   | 4    | 3    | \n",
       "\n",
       "\n"
      ],
      "text/plain": [
       "  网   年份 一发平均球速一 二发平均球速一 一发平均球速二 二发平均球速二\n",
       "1 法网 2015 180            149            182            143           \n",
       "2 法网 2015 158            133            163            130           \n",
       "3 法网 2015 155            129            155            131           \n",
       "4 法网 2015 161            146            164            144           \n",
       "5 法网 2015 171            145            175            149           \n",
       "6 法网 2015 158            133            151            134           \n",
       "  一发成功率一 二发成功率一 一发成功率二 二发成功率二 ... 二发赢球一 一发赢球二\n",
       "1 25           14           20           14           ... 12         17        \n",
       "2 34           11           28           13           ...  3         15        \n",
       "3 23           11           24            9           ...  8         15        \n",
       "4 14            7           13           10           ...  3          5        \n",
       "5 27           20           23           16           ...  9         19        \n",
       "6 29           10           23           10           ...  4         14        \n",
       "  二发赢球二 一发失分一 二发失分一 一发失分二 二发失分二 直接得分 ACE球 双误\n",
       "1 6           7          7          3         12         34       9     8   \n",
       "2 8          16          8         13          6         22       2     3   \n",
       "3 7           7          6          8          5         19       5     7   \n",
       "4 5           5          8          7          7         12       2     5   \n",
       "5 9           7         11          4          8         31       6     0   \n",
       "6 5          11          7         10          7         18       4     3   "
      ]
     },
     "metadata": {},
     "output_type": "display_data"
    }
   ],
   "source": [
    "name<-c('网','年份','一发平均球速一','二发平均球速一','一发平均球速二','二发平均球速二','一发成功率一','二发成功率一',\n",
    "        '一发成功率二','二发成功率二','一发失误率一','二发失误率一','一发失误率二','二发失误率二','一发赢球一','二发赢球一',\n",
    "        '一发赢球二','二发赢球二','一发失分一','二发失分一','一发失分二','二发失分二','直接得分','ACE球','双误')\n",
    "names(dx4)<-name\n",
    "head(dx4)"
   ]
  },
  {
   "cell_type": "code",
   "execution_count": null,
   "metadata": {
    "collapsed": true
   },
   "outputs": [],
   "source": []
  },
  {
   "cell_type": "code",
   "execution_count": 6,
   "metadata": {},
   "outputs": [
    {
     "data": {
      "text/plain": [
       "            Df Sum Sq Mean Sq F value Pr(>F)\n",
       "网           3    424  141.20   1.585  0.201\n",
       "Residuals   66   5879   89.07               "
      ]
     },
     "metadata": {},
     "output_type": "display_data"
    }
   ],
   "source": [
    "#dx4$年份<-as.factor(dx4$年份)\n",
    "#sapply(dx4,class)\n",
    "t<-aov(一发平均球速一~网,dx4)\n",
    "s<-summary(t)   \n",
    "s"
   ]
  },
  {
   "cell_type": "code",
   "execution_count": 17,
   "metadata": {},
   "outputs": [
    {
     "data": {
      "text/html": [
       "<ol class=list-inline>\n",
       "\t<li>12</li>\n",
       "\t<li>25</li>\n",
       "</ol>\n"
      ],
      "text/latex": [
       "\\begin{enumerate*}\n",
       "\\item 12\n",
       "\\item 25\n",
       "\\end{enumerate*}\n"
      ],
      "text/markdown": [
       "1. 12\n",
       "2. 25\n",
       "\n",
       "\n"
      ],
      "text/plain": [
       "[1] 12 25"
      ]
     },
     "metadata": {},
     "output_type": "display_data"
    }
   ],
   "source": [
    "j1<-aggregate(cbind(一发平均球速一,二发平均球速一,一发平均球速二,二发平均球速二,一发成功率一,二发成功率一,一发成功率二,二发成功率二,一发失误率一,二发失误率一,一发失误率二,二发失误率二,一发赢球一,二发赢球一, 一发赢球二,二发赢球二,一发失分一,二发失分一,一发失分二,二发失分二,直接得分,ACE球,双误)~网+年份,dx4,mean)\n",
    "jsd<-aggregate(cbind(一发平均球速一,二发平均球速一,一发平均球速二,二发平均球速二,一发成功率一,二发成功率一,一发成功率二,二发成功率二,一发失误率一,二发失误率一,一发失误率二,二发失误率二,一发赢球一,二发赢球一, 一发赢球二,二发赢球二,一发失分一,二发失分一,一发失分二,二发失分二,直接得分,ACE球,双误)~网+年份,dx4,sd)\n",
    "dim(j1)\n",
    "jpme<-seq(1,2*dim(j1)[1],2)\n",
    "j11<-cbind(j1,jpme)"
   ]
  },
  {
   "cell_type": "code",
   "execution_count": 39,
   "metadata": {},
   "outputs": [],
   "source": [
    "jpme<-seq(2,2*dim(j1)[1],2)\n",
    "jsd1<-cbind(jsd,jpme)\n",
    "jsdme<-rbind(j11,jsd1)\n",
    "\n",
    "write.csv(file=\"C:/Users/Administrator/Desktop/马超杰/jsdme.csv\",jsdme)\n"
   ]
  },
  {
   "cell_type": "code",
   "execution_count": 35,
   "metadata": {},
   "outputs": [],
   "source": [
    "\n",
    "jf1<-aggregate(cbind(一发平均球速一,二发平均球速一,一发平均球速二,二发平均球速二,一发成功率一,二发成功率一,一发成功率二,二发成功率二,一发失误率一,二发失误率一,一发失误率二,二发失误率二,一发赢球一,二发赢球一, 一发赢球二,二发赢球二,一发失分一,二发失分一,一发失分二,二发失分二,直接得分,ACE球,双误)~网,dx4,mean)\n",
    "jf2<-aggregate(cbind(一发平均球速一,二发平均球速一,一发平均球速二,二发平均球速二,一发成功率一,二发成功率一,一发成功率二,二发成功率二,一发失误率一,二发失误率一,一发失误率二,二发失误率二,一发赢球一,二发赢球一, 一发赢球二,二发赢球二,一发失分一,二发失分一,一发失分二,二发失分二,直接得分,ACE球,双误)~网,dx4,sd)\n",
    "jf3<-aov(cbind(一发平均球速一,二发平均球速一,一发平均球速二,二发平均球速二,一发成功率一,二发成功率一,一发成功率二,二发成功率二,一发失误率一,二发失误率一,一发失误率二,二发失误率二,一发赢球一,二发赢球一, 一发赢球二,二发赢球二,一发失分一,二发失分一,一发失分二,二发失分二,直接得分,ACE球,双误)~网,dx4)\n",
    "jf12<-rbind(jf1,jf2)\n",
    "#summary(jf3)\n",
    "#write.csv(file=\"C:/Users/Administrator/Desktop/马超杰/jf12.csv\",jf12)"
   ]
  },
  {
   "cell_type": "code",
   "execution_count": 45,
   "metadata": {},
   "outputs": [
    {
     "data": {
      "text/html": [
       "<dl class=dl-horizontal>\n",
       "\t<dt>网</dt>\n",
       "\t\t<dd>'factor'</dd>\n",
       "\t<dt>年份</dt>\n",
       "\t\t<dd>'factor'</dd>\n",
       "\t<dt>一发平均球速一</dt>\n",
       "\t\t<dd>'numeric'</dd>\n",
       "\t<dt>二发平均球速一</dt>\n",
       "\t\t<dd>'numeric'</dd>\n",
       "\t<dt>一发平均球速二</dt>\n",
       "\t\t<dd>'numeric'</dd>\n",
       "\t<dt>二发平均球速二</dt>\n",
       "\t\t<dd>'numeric'</dd>\n",
       "\t<dt>一发成功率一</dt>\n",
       "\t\t<dd>'integer'</dd>\n",
       "\t<dt>二发成功率一</dt>\n",
       "\t\t<dd>'integer'</dd>\n",
       "\t<dt>一发成功率二</dt>\n",
       "\t\t<dd>'integer'</dd>\n",
       "\t<dt>二发成功率二</dt>\n",
       "\t\t<dd>'integer'</dd>\n",
       "\t<dt>一发失误率一</dt>\n",
       "\t\t<dd>'integer'</dd>\n",
       "\t<dt>二发失误率一</dt>\n",
       "\t\t<dd>'integer'</dd>\n",
       "\t<dt>一发失误率二</dt>\n",
       "\t\t<dd>'integer'</dd>\n",
       "\t<dt>二发失误率二</dt>\n",
       "\t\t<dd>'integer'</dd>\n",
       "\t<dt>一发赢球一</dt>\n",
       "\t\t<dd>'integer'</dd>\n",
       "\t<dt>二发赢球一</dt>\n",
       "\t\t<dd>'integer'</dd>\n",
       "\t<dt>一发赢球二</dt>\n",
       "\t\t<dd>'integer'</dd>\n",
       "\t<dt>二发赢球二</dt>\n",
       "\t\t<dd>'integer'</dd>\n",
       "\t<dt>一发失分一</dt>\n",
       "\t\t<dd>'integer'</dd>\n",
       "\t<dt>二发失分一</dt>\n",
       "\t\t<dd>'integer'</dd>\n",
       "\t<dt>一发失分二</dt>\n",
       "\t\t<dd>'integer'</dd>\n",
       "\t<dt>二发失分二</dt>\n",
       "\t\t<dd>'integer'</dd>\n",
       "\t<dt>直接得分</dt>\n",
       "\t\t<dd>'integer'</dd>\n",
       "\t<dt>ACE球</dt>\n",
       "\t\t<dd>'integer'</dd>\n",
       "\t<dt>双误</dt>\n",
       "\t\t<dd>'integer'</dd>\n",
       "</dl>\n"
      ],
      "text/latex": [
       "\\begin{description*}\n",
       "\\item[网] 'factor'\n",
       "\\item[年份] 'factor'\n",
       "\\item[一发平均球速一] 'numeric'\n",
       "\\item[二发平均球速一] 'numeric'\n",
       "\\item[一发平均球速二] 'numeric'\n",
       "\\item[二发平均球速二] 'numeric'\n",
       "\\item[一发成功率一] 'integer'\n",
       "\\item[二发成功率一] 'integer'\n",
       "\\item[一发成功率二] 'integer'\n",
       "\\item[二发成功率二] 'integer'\n",
       "\\item[一发失误率一] 'integer'\n",
       "\\item[二发失误率一] 'integer'\n",
       "\\item[一发失误率二] 'integer'\n",
       "\\item[二发失误率二] 'integer'\n",
       "\\item[一发赢球一] 'integer'\n",
       "\\item[二发赢球一] 'integer'\n",
       "\\item[一发赢球二] 'integer'\n",
       "\\item[二发赢球二] 'integer'\n",
       "\\item[一发失分一] 'integer'\n",
       "\\item[二发失分一] 'integer'\n",
       "\\item[一发失分二] 'integer'\n",
       "\\item[二发失分二] 'integer'\n",
       "\\item[直接得分] 'integer'\n",
       "\\item[ACE球] 'integer'\n",
       "\\item[双误] 'integer'\n",
       "\\end{description*}\n"
      ],
      "text/markdown": [
       "网\n",
       ":   'factor'年份\n",
       ":   'factor'一发平均球速一\n",
       ":   'numeric'二发平均球速一\n",
       ":   'numeric'一发平均球速二\n",
       ":   'numeric'二发平均球速二\n",
       ":   'numeric'一发成功率一\n",
       ":   'integer'二发成功率一\n",
       ":   'integer'一发成功率二\n",
       ":   'integer'二发成功率二\n",
       ":   'integer'一发失误率一\n",
       ":   'integer'二发失误率一\n",
       ":   'integer'一发失误率二\n",
       ":   'integer'二发失误率二\n",
       ":   'integer'一发赢球一\n",
       ":   'integer'二发赢球一\n",
       ":   'integer'一发赢球二\n",
       ":   'integer'二发赢球二\n",
       ":   'integer'一发失分一\n",
       ":   'integer'二发失分一\n",
       ":   'integer'一发失分二\n",
       ":   'integer'二发失分二\n",
       ":   'integer'直接得分\n",
       ":   'integer'ACE球\n",
       ":   'integer'双误\n",
       ":   'integer'\n",
       "\n"
      ],
      "text/plain": [
       "            网           年份 一发平均球速一 二发平均球速一 一发平均球速二 \n",
       "      \"factor\"       \"factor\"      \"numeric\"      \"numeric\"      \"numeric\" \n",
       "二发平均球速二   一发成功率一   二发成功率一   一发成功率二   二发成功率二 \n",
       "     \"numeric\"      \"integer\"      \"integer\"      \"integer\"      \"integer\" \n",
       "  一发失误率一   二发失误率一   一发失误率二   二发失误率二     一发赢球一 \n",
       "     \"integer\"      \"integer\"      \"integer\"      \"integer\"      \"integer\" \n",
       "    二发赢球一     一发赢球二     二发赢球二     一发失分一     二发失分一 \n",
       "     \"integer\"      \"integer\"      \"integer\"      \"integer\"      \"integer\" \n",
       "    一发失分二     二发失分二       直接得分          ACE球           双误 \n",
       "     \"integer\"      \"integer\"      \"integer\"      \"integer\"      \"integer\" "
      ]
     },
     "metadata": {},
     "output_type": "display_data"
    }
   ],
   "source": [
    "dx4$年份<-as.factor(dx4$年份)\n",
    "sapply(dx4,class)"
   ]
  },
  {
   "cell_type": "code",
   "execution_count": 46,
   "metadata": {},
   "outputs": [
    {
     "data": {
      "text/plain": [
       " Response 一发平均球速一 :\n",
       "            Df Sum Sq Mean Sq F value Pr(>F)\n",
       "年份         2   95.4  47.720  0.5151 0.5998\n",
       "Residuals   67 6206.9  92.641               \n",
       "\n",
       " Response 二发平均球速一 :\n",
       "            Df  Sum Sq Mean Sq F value Pr(>F)\n",
       "年份         2   757.9  378.93  1.0042 0.3718\n",
       "Residuals   67 25283.3  377.36               \n",
       "\n",
       " Response 一发平均球速二 :\n",
       "            Df Sum Sq Mean Sq F value Pr(>F)\n",
       "年份         2    274  136.99  0.9869 0.3781\n",
       "Residuals   67   9300  138.81               \n",
       "\n",
       " Response 二发平均球速二 :\n",
       "            Df Sum Sq Mean Sq F value Pr(>F)\n",
       "年份         2  222.7  111.35  0.8432 0.4348\n",
       "Residuals   67 8847.5  132.05               \n",
       "\n",
       " Response 一发成功率一 :\n",
       "            Df  Sum Sq Mean Sq F value Pr(>F)\n",
       "年份         2   99.69  49.844  1.1933 0.3096\n",
       "Residuals   67 2798.66  41.771               \n",
       "\n",
       " Response 二发成功率一 :\n",
       "            Df Sum Sq Mean Sq F value Pr(>F)\n",
       "年份         2      6  2.9979  0.1303 0.8781\n",
       "Residuals   67   1542 23.0141               \n",
       "\n",
       " Response 一发成功率二 :\n",
       "            Df  Sum Sq Mean Sq F value Pr(>F)\n",
       "年份         2   38.52  19.258  0.5176 0.5983\n",
       "Residuals   67 2492.98  37.209               \n",
       "\n",
       " Response 二发成功率二 :\n",
       "            Df  Sum Sq Mean Sq F value Pr(>F)\n",
       "年份         2   15.33  7.6641  0.4826 0.6193\n",
       "Residuals   67 1063.94 15.8797               \n",
       "\n",
       " Response 一发失误率一 :\n",
       "            Df  Sum Sq Mean Sq F value Pr(>F)\n",
       "年份         2   10.42  5.2081  0.1849 0.8316\n",
       "Residuals   67 1887.66 28.1740               \n",
       "\n",
       " Response 二发失误率一 :\n",
       "            Df  Sum Sq Mean Sq F value Pr(>F)\n",
       "年份         2   0.151 0.07538  0.0303 0.9701\n",
       "Residuals   67 166.549 2.48581               \n",
       "\n",
       " Response 一发失误率二 :\n",
       "            Df  Sum Sq Mean Sq F value Pr(>F)\n",
       "年份         2   32.47  16.236   0.796 0.4554\n",
       "Residuals   67 1366.61  20.397               \n",
       "\n",
       " Response 二发失误率二 :\n",
       "            Df  Sum Sq Mean Sq F value Pr(>F)\n",
       "年份         2   2.719  1.3593  0.6983  0.501\n",
       "Residuals   67 130.424  1.9466               \n",
       "\n",
       " Response 一发赢球一 :\n",
       "            Df  Sum Sq Mean Sq F value Pr(>F)\n",
       "年份         2   14.63  7.3126  0.3282 0.7214\n",
       "Residuals   67 1492.75 22.2798               \n",
       "\n",
       " Response 二发赢球一 :\n",
       "            Df Sum Sq Mean Sq F value Pr(>F)\n",
       "年份         2   0.22  0.1093  0.0114 0.9887\n",
       "Residuals   67 644.92  9.6257               \n",
       "\n",
       " Response 一发赢球二 :\n",
       "            Df  Sum Sq Mean Sq F value Pr(>F)\n",
       "年份         2   14.55  7.2747  0.3252 0.7235\n",
       "Residuals   67 1498.82 22.3705               \n",
       "\n",
       " Response 二发赢球二 :\n",
       "            Df Sum Sq Mean Sq F value Pr(>F)\n",
       "年份         2  31.33 15.6668  2.3017 0.1079\n",
       "Residuals   67 456.04  6.8065               \n",
       "\n",
       " Response 一发失分一 :\n",
       "            Df Sum Sq Mean Sq F value Pr(>F)\n",
       "年份         2  35.06  17.531  1.4659 0.2382\n",
       "Residuals   67 801.28  11.959               \n",
       "\n",
       " Response 二发失分一 :\n",
       "            Df Sum Sq Mean Sq F value Pr(>F)\n",
       "年份         2    5.8  2.8989  0.1922 0.8256\n",
       "Residuals   67 1010.8 15.0864               \n",
       "\n",
       " Response 一发失分二 :\n",
       "            Df Sum Sq Mean Sq F value Pr(>F)\n",
       "年份         2  22.01  11.003  0.8015 0.4529\n",
       "Residuals   67 919.78  13.728               \n",
       "\n",
       " Response 二发失分二 :\n",
       "            Df Sum Sq Mean Sq F value Pr(>F)\n",
       "年份         2   4.39  2.1933  0.2389 0.7881\n",
       "Residuals   67 614.98  9.1789               \n",
       "\n",
       " Response 直接得分 :\n",
       "            Df  Sum Sq Mean Sq F value  Pr(>F)  \n",
       "年份         2  385.42 192.711  4.1596 0.01982 *\n",
       "Residuals   67 3104.06  46.329                  \n",
       "---\n",
       "Signif. codes:  0 '***' 0.001 '**' 0.01 '*' 0.05 '.' 0.1 ' ' 1\n",
       "\n",
       " Response ACE球 :\n",
       "            Df  Sum Sq Mean Sq F value Pr(>F)\n",
       "年份         2   28.58  14.290  0.9111  0.407\n",
       "Residuals   67 1050.79  15.684               \n",
       "\n",
       " Response 双误 :\n",
       "            Df Sum Sq Mean Sq F value Pr(>F)\n",
       "年份         2  10.29  5.1468  1.0277 0.3634\n",
       "Residuals   67 335.55  5.0082               \n"
      ]
     },
     "metadata": {},
     "output_type": "display_data"
    }
   ],
   "source": [
    "jf11<-aggregate(cbind(一发平均球速一,二发平均球速一,一发平均球速二,二发平均球速二,一发成功率一,二发成功率一,一发成功率二,二发成功率二,一发失误率一,二发失误率一,一发失误率二,二发失误率二,一发赢球一,二发赢球一, 一发赢球二,二发赢球二,一发失分一,二发失分一,一发失分二,二发失分二,直接得分,ACE球,双误)~年份,dx4,mean)\n",
    "jf21<-aggregate(cbind(一发平均球速一,二发平均球速一,一发平均球速二,二发平均球速二,一发成功率一,二发成功率一,一发成功率二,二发成功率二,一发失误率一,二发失误率一,一发失误率二,二发失误率二,一发赢球一,二发赢球一, 一发赢球二,二发赢球二,一发失分一,二发失分一,一发失分二,二发失分二,直接得分,ACE球,双误)~年份,dx4,sd)\n",
    "jf31<-aov(cbind(一发平均球速一,二发平均球速一,一发平均球速二,二发平均球速二,一发成功率一,二发成功率一,一发成功率二,二发成功率二,一发失误率一,二发失误率一,一发失误率二,二发失误率二,一发赢球一,二发赢球一, 一发赢球二,二发赢球二,一发失分一,二发失分一,一发失分二,二发失分二,直接得分,ACE球,双误)~年份,dx4)\n",
    "jf1212<-rbind(jf11,jf21)\n",
    "summary(jf31)\n",
    "write.csv(file=\"C:/Users/Administrator/Desktop/马超杰/jf1212.csv\",jf1212)"
   ]
  },
  {
   "cell_type": "code",
   "execution_count": 65,
   "metadata": {},
   "outputs": [
    {
     "name": "stderr",
     "output_type": "stream",
     "text": [
      "Warning message in read.table(file = file, header = header, sep = sep, quote = quote, :\n",
      "\"incomplete final line found by readTableHeader on 'clipboard'\""
     ]
    },
    {
     "ename": "ERROR",
     "evalue": "Error in `[.data.frame`(dxx, , c(\"V3\", \"V5\", \"V7\", \"V9\", \"V11\", \"V13\", : undefined columns selected\n",
     "output_type": "error",
     "traceback": [
      "Error in `[.data.frame`(dxx, , c(\"V3\", \"V5\", \"V7\", \"V9\", \"V11\", \"V13\", : undefined columns selected\nTraceback:\n",
      "1. dxx[, c(\"V3\", \"V5\", \"V7\", \"V9\", \"V11\", \"V13\", \"V15\", \"V17\", \"V19\", \n .     \"V21\")]",
      "2. `[.data.frame`(dxx, , c(\"V3\", \"V5\", \"V7\", \"V9\", \"V11\", \"V13\", \n .     \"V15\", \"V17\", \"V19\", \"V21\"))",
      "3. stop(\"undefined columns selected\")"
     ]
    }
   ],
   "source": [
    "#一区二区T检验\n",
    "dxx<-read.delim(\"clipboard\",header=FALSE)\n",
    "d1x<-dxx[,c('V3','V5','V7','V9','V11','V13','V15','V17','V19','V21')]\n",
    "d2x<-dxx[,c('V4','V6','V8','V10','V12','V14','V16','V18','V20','V22')]\n",
    "pxx<-c(rep(1,dim(d1x)[1]),rep(2,dim(d1x)[1]))\n",
    "#ndxx<-cbind(rbind(d1x[1:dim(d1x)[1],],d2x[1:dim(d1x)[1],]),pxx)\n",
    "#head(ndxx)"
   ]
  },
  {
   "cell_type": "code",
   "execution_count": 68,
   "metadata": {},
   "outputs": [
    {
     "data": {
      "text/html": [
       "<table>\n",
       "<thead><tr><th scope=col>V3</th><th scope=col>V5</th><th scope=col>V7</th><th scope=col>V9</th><th scope=col>V11</th><th scope=col>V13</th><th scope=col>V15</th><th scope=col>V17</th><th scope=col>V19</th><th scope=col>V21</th><th scope=col>pxx</th></tr></thead>\n",
       "<tbody>\n",
       "\t<tr><td>180</td><td>182</td><td>25 </td><td>20 </td><td>18 </td><td>18 </td><td>18 </td><td>17 </td><td> 7 </td><td> 3 </td><td>1  </td></tr>\n",
       "\t<tr><td>158</td><td>163</td><td>34 </td><td>28 </td><td>11 </td><td>14 </td><td>18 </td><td>15 </td><td>16 </td><td>13 </td><td>1  </td></tr>\n",
       "\t<tr><td>155</td><td>155</td><td>23 </td><td>24 </td><td>14 </td><td>12 </td><td>15 </td><td>15 </td><td> 7 </td><td> 8 </td><td>1  </td></tr>\n",
       "\t<tr><td>161</td><td>164</td><td>14 </td><td>13 </td><td>13 </td><td>11 </td><td> 9 </td><td> 5 </td><td> 5 </td><td> 7 </td><td>1  </td></tr>\n",
       "\t<tr><td>171</td><td>175</td><td>27 </td><td>23 </td><td>20 </td><td>16 </td><td>18 </td><td>19 </td><td> 7 </td><td> 4 </td><td>1  </td></tr>\n",
       "\t<tr><td>158</td><td>151</td><td>29 </td><td>23 </td><td>11 </td><td>13 </td><td>17 </td><td>14 </td><td>11 </td><td>10 </td><td>1  </td></tr>\n",
       "</tbody>\n",
       "</table>\n"
      ],
      "text/latex": [
       "\\begin{tabular}{r|lllllllllll}\n",
       " V3 & V5 & V7 & V9 & V11 & V13 & V15 & V17 & V19 & V21 & pxx\\\\\n",
       "\\hline\n",
       "\t 180 & 182 & 25  & 20  & 18  & 18  & 18  & 17  &  7  &  3  & 1  \\\\\n",
       "\t 158 & 163 & 34  & 28  & 11  & 14  & 18  & 15  & 16  & 13  & 1  \\\\\n",
       "\t 155 & 155 & 23  & 24  & 14  & 12  & 15  & 15  &  7  &  8  & 1  \\\\\n",
       "\t 161 & 164 & 14  & 13  & 13  & 11  &  9  &  5  &  5  &  7  & 1  \\\\\n",
       "\t 171 & 175 & 27  & 23  & 20  & 16  & 18  & 19  &  7  &  4  & 1  \\\\\n",
       "\t 158 & 151 & 29  & 23  & 11  & 13  & 17  & 14  & 11  & 10  & 1  \\\\\n",
       "\\end{tabular}\n"
      ],
      "text/markdown": [
       "\n",
       "V3 | V5 | V7 | V9 | V11 | V13 | V15 | V17 | V19 | V21 | pxx | \n",
       "|---|---|---|---|---|---|\n",
       "| 180 | 182 | 25  | 20  | 18  | 18  | 18  | 17  |  7  |  3  | 1   | \n",
       "| 158 | 163 | 34  | 28  | 11  | 14  | 18  | 15  | 16  | 13  | 1   | \n",
       "| 155 | 155 | 23  | 24  | 14  | 12  | 15  | 15  |  7  |  8  | 1   | \n",
       "| 161 | 164 | 14  | 13  | 13  | 11  |  9  |  5  |  5  |  7  | 1   | \n",
       "| 171 | 175 | 27  | 23  | 20  | 16  | 18  | 19  |  7  |  4  | 1   | \n",
       "| 158 | 151 | 29  | 23  | 11  | 13  | 17  | 14  | 11  | 10  | 1   | \n",
       "\n",
       "\n"
      ],
      "text/plain": [
       "  V3  V5  V7 V9 V11 V13 V15 V17 V19 V21 pxx\n",
       "1 180 182 25 20 18  18  18  17   7   3  1  \n",
       "2 158 163 34 28 11  14  18  15  16  13  1  \n",
       "3 155 155 23 24 14  12  15  15   7   8  1  \n",
       "4 161 164 14 13 13  11   9   5   5   7  1  \n",
       "5 171 175 27 23 20  16  18  19   7   4  1  \n",
       "6 158 151 29 23 11  13  17  14  11  10  1  "
      ]
     },
     "metadata": {},
     "output_type": "display_data"
    }
   ],
   "source": [
    "colnames(d2x)<-c('V3','V5','V7','V9','V11','V13','V15','V17','V19','V21')\n",
    "ndxx<-cbind(rbind(d1x[1:dim(d1x)[1],],d2x[1:dim(d1x)[1],]),pxx)\n",
    "head(ndxx)\n"
   ]
  },
  {
   "cell_type": "code",
   "execution_count": 74,
   "metadata": {},
   "outputs": [
    {
     "data": {
      "text/html": [
       "<table>\n",
       "<thead><tr><th scope=col>V3</th><th scope=col>V5</th><th scope=col>V7</th><th scope=col>V9</th><th scope=col>V11</th><th scope=col>V13</th><th scope=col>V15</th><th scope=col>V17</th><th scope=col>V19</th><th scope=col>V21</th><th scope=col>pxx</th></tr></thead>\n",
       "<tbody>\n",
       "\t<tr><td>180.0</td><td>182.0</td><td>25   </td><td>20   </td><td>18   </td><td>18   </td><td>18   </td><td>17   </td><td> 7   </td><td> 3   </td><td>1    </td></tr>\n",
       "\t<tr><td>158.0</td><td>163.0</td><td>34   </td><td>28   </td><td>11   </td><td>14   </td><td>18   </td><td>15   </td><td>16   </td><td>13   </td><td>1    </td></tr>\n",
       "\t<tr><td>155.0</td><td>155.0</td><td>23   </td><td>24   </td><td>14   </td><td>12   </td><td>15   </td><td>15   </td><td> 7   </td><td> 8   </td><td>1    </td></tr>\n",
       "\t<tr><td>161.0</td><td>164.0</td><td>14   </td><td>13   </td><td>13   </td><td>11   </td><td> 9   </td><td> 5   </td><td> 5   </td><td> 7   </td><td>1    </td></tr>\n",
       "\t<tr><td>171.0</td><td>175.0</td><td>27   </td><td>23   </td><td>20   </td><td>16   </td><td>18   </td><td>19   </td><td> 7   </td><td> 4   </td><td>1    </td></tr>\n",
       "\t<tr><td>158.0</td><td>151.0</td><td>29   </td><td>23   </td><td>11   </td><td>13   </td><td>17   </td><td>14   </td><td>11   </td><td>10   </td><td>1    </td></tr>\n",
       "\t<tr><td>176.0</td><td>172.0</td><td>23   </td><td>13   </td><td>16   </td><td>20   </td><td>15   </td><td>10   </td><td> 6   </td><td> 3   </td><td>1    </td></tr>\n",
       "\t<tr><td>165.0</td><td>164.0</td><td>24   </td><td>22   </td><td>17   </td><td>16   </td><td>18   </td><td>16   </td><td> 6   </td><td> 6   </td><td>1    </td></tr>\n",
       "\t<tr><td>157.0</td><td>155.0</td><td>26   </td><td>23   </td><td> 9   </td><td>12   </td><td>16   </td><td>13   </td><td> 9   </td><td>10   </td><td>1    </td></tr>\n",
       "\t<tr><td>171.0</td><td>168.0</td><td>26   </td><td>23   </td><td>14   </td><td>15   </td><td>18   </td><td>14   </td><td> 9   </td><td> 9   </td><td>1    </td></tr>\n",
       "\t<tr><td>143.0</td><td>140.0</td><td>23   </td><td>31   </td><td>28   </td><td>13   </td><td>18   </td><td>19   </td><td> 5   </td><td>12   </td><td>1    </td></tr>\n",
       "\t<tr><td>158.0</td><td>146.0</td><td>35   </td><td>33   </td><td>13   </td><td>13   </td><td>19   </td><td>20   </td><td>16   </td><td>13   </td><td>1    </td></tr>\n",
       "\t<tr><td>174.0</td><td>168.0</td><td>31   </td><td>31   </td><td>24   </td><td>22   </td><td>16   </td><td>20   </td><td>15   </td><td>11   </td><td>1    </td></tr>\n",
       "\t<tr><td>148.0</td><td>141.0</td><td>37   </td><td>30   </td><td>10   </td><td> 9   </td><td>29   </td><td>19   </td><td> 8   </td><td>11   </td><td>1    </td></tr>\n",
       "\t<tr><td>156.0</td><td>152.0</td><td>13   </td><td>27   </td><td>16   </td><td>16   </td><td>21   </td><td>12   </td><td>11   </td><td>15   </td><td>1    </td></tr>\n",
       "\t<tr><td>146.0</td><td>146.0</td><td>27   </td><td>24   </td><td>16   </td><td>13   </td><td>17   </td><td> 8   </td><td> 9   </td><td>16   </td><td>1    </td></tr>\n",
       "\t<tr><td>163.5</td><td>170.5</td><td>22   </td><td>19   </td><td>12   </td><td>13   </td><td>15   </td><td>13   </td><td> 7   </td><td> 6   </td><td>1    </td></tr>\n",
       "\t<tr><td>183.0</td><td>183.0</td><td>20   </td><td>17   </td><td> 9   </td><td>13   </td><td>19   </td><td>14   </td><td> 1   </td><td> 3   </td><td>1    </td></tr>\n",
       "\t<tr><td>180.0</td><td>180.0</td><td>18   </td><td>14   </td><td>10   </td><td>12   </td><td>13   </td><td>10   </td><td> 4   </td><td> 4   </td><td>1    </td></tr>\n",
       "\t<tr><td>176.0</td><td>178.0</td><td>20   </td><td>21   </td><td>13   </td><td>10   </td><td>14   </td><td>13   </td><td> 6   </td><td> 8   </td><td>1    </td></tr>\n",
       "\t<tr><td>163.0</td><td>164.0</td><td>14   </td><td>17   </td><td>16   </td><td>10   </td><td>12   </td><td>14   </td><td> 2   </td><td> 4   </td><td>1    </td></tr>\n",
       "\t<tr><td>153.0</td><td>157.0</td><td>23   </td><td>18   </td><td> 8   </td><td>12   </td><td>12   </td><td>11   </td><td>11   </td><td> 6   </td><td>1    </td></tr>\n",
       "\t<tr><td>173.6</td><td>174.0</td><td>26   </td><td>24   </td><td>24   </td><td>21   </td><td>19   </td><td>15   </td><td> 7   </td><td> 9   </td><td>1    </td></tr>\n",
       "\t<tr><td>154.0</td><td>152.0</td><td>22   </td><td>23   </td><td>19   </td><td>16   </td><td>16   </td><td>18   </td><td> 6   </td><td> 5   </td><td>1    </td></tr>\n",
       "\t<tr><td>169.0</td><td>181.0</td><td>14   </td><td>12   </td><td> 8   </td><td> 6   </td><td>12   </td><td>11   </td><td> 2   </td><td> 2   </td><td>1    </td></tr>\n",
       "\t<tr><td>153.0</td><td>151.0</td><td>13   </td><td>14   </td><td>13   </td><td> 9   </td><td>10   </td><td> 6   </td><td> 4   </td><td> 6   </td><td>1    </td></tr>\n",
       "\t<tr><td>157.0</td><td>150.0</td><td>16   </td><td>14   </td><td>13   </td><td>11   </td><td> 8   </td><td>11   </td><td> 8   </td><td> 3   </td><td>1    </td></tr>\n",
       "\t<tr><td>162.0</td><td>165.0</td><td>19   </td><td>18   </td><td>12   </td><td> 9   </td><td>12   </td><td>10   </td><td> 7   </td><td> 8   </td><td>1    </td></tr>\n",
       "\t<tr><td>166.5</td><td>166.0</td><td>24   </td><td>22   </td><td>12   </td><td> 9   </td><td>14   </td><td>17   </td><td>10   </td><td> 5   </td><td>1    </td></tr>\n",
       "\t<tr><td>166.0</td><td>172.0</td><td>16   </td><td>21   </td><td>15   </td><td> 9   </td><td>12   </td><td>16   </td><td> 4   </td><td> 5   </td><td>1    </td></tr>\n",
       "\t<tr><td>...</td><td>...</td><td>...</td><td>...</td><td>...</td><td>...</td><td>...</td><td>...</td><td>...</td><td>...</td><td>...</td></tr>\n",
       "\t<tr><td>133</td><td>132</td><td>15 </td><td>17 </td><td>1  </td><td>2  </td><td>9  </td><td>10 </td><td> 6 </td><td>10 </td><td>2  </td></tr>\n",
       "\t<tr><td>124</td><td>122</td><td>18 </td><td>14 </td><td>2  </td><td>1  </td><td>7  </td><td> 6 </td><td>13 </td><td> 9 </td><td>2  </td></tr>\n",
       "\t<tr><td>147</td><td>145</td><td>10 </td><td>12 </td><td>1  </td><td>1  </td><td>4  </td><td> 9 </td><td> 5 </td><td> 4 </td><td>2  </td></tr>\n",
       "\t<tr><td>137</td><td>139</td><td>12 </td><td> 7 </td><td>3  </td><td>4  </td><td>4  </td><td> 5 </td><td>12 </td><td> 6 </td><td>2  </td></tr>\n",
       "\t<tr><td>128</td><td>128</td><td>15 </td><td> 7 </td><td>0  </td><td>0  </td><td>5  </td><td> 2 </td><td>10 </td><td> 5 </td><td>2  </td></tr>\n",
       "\t<tr><td>125</td><td>119</td><td>10 </td><td> 8 </td><td>1  </td><td>1  </td><td>7  </td><td> 5 </td><td> 4 </td><td> 4 </td><td>2  </td></tr>\n",
       "\t<tr><td>129</td><td>123</td><td> 5 </td><td> 6 </td><td>0  </td><td>0  </td><td>3  </td><td> 4 </td><td> 2 </td><td> 2 </td><td>2  </td></tr>\n",
       "\t<tr><td>123</td><td>113</td><td> 9 </td><td> 5 </td><td>0  </td><td>1  </td><td>4  </td><td> 2 </td><td> 5 </td><td> 4 </td><td>2  </td></tr>\n",
       "\t<tr><td>139</td><td>132</td><td>12 </td><td>14 </td><td>2  </td><td>4  </td><td>6  </td><td> 8 </td><td> 9 </td><td>10 </td><td>2  </td></tr>\n",
       "\t<tr><td>126</td><td>115</td><td>14 </td><td>14 </td><td>0  </td><td>2  </td><td>9  </td><td> 7 </td><td> 5 </td><td> 8 </td><td>2  </td></tr>\n",
       "\t<tr><td>148</td><td>140</td><td> 8 </td><td>10 </td><td>1  </td><td>1  </td><td>6  </td><td> 5 </td><td> 4 </td><td> 6 </td><td>2  </td></tr>\n",
       "\t<tr><td>132</td><td>129</td><td>10 </td><td> 6 </td><td>0  </td><td>1  </td><td>9  </td><td> 3 </td><td> 1 </td><td> 3 </td><td>2  </td></tr>\n",
       "\t<tr><td>150</td><td>148</td><td>11 </td><td>11 </td><td>3  </td><td>4  </td><td>3  </td><td> 8 </td><td>11 </td><td> 7 </td><td>2  </td></tr>\n",
       "\t<tr><td>142</td><td>143</td><td> 7 </td><td> 9 </td><td>2  </td><td>0  </td><td>0  </td><td> 6 </td><td> 9 </td><td> 2 </td><td>2  </td></tr>\n",
       "\t<tr><td>137</td><td>138</td><td>12 </td><td>15 </td><td>2  </td><td>0  </td><td>6  </td><td> 5 </td><td> 8 </td><td>11 </td><td>2  </td></tr>\n",
       "\t<tr><td>123</td><td>122</td><td>14 </td><td>11 </td><td>0  </td><td>0  </td><td>6  </td><td> 5 </td><td> 8 </td><td> 6 </td><td>2  </td></tr>\n",
       "\t<tr><td>158</td><td>154</td><td>11 </td><td> 7 </td><td>0  </td><td>2  </td><td>6  </td><td> 5 </td><td> 5 </td><td> 4 </td><td>2  </td></tr>\n",
       "\t<tr><td>150</td><td>152</td><td> 8 </td><td> 8 </td><td>2  </td><td>4  </td><td>2  </td><td> 4 </td><td> 8 </td><td> 8 </td><td>2  </td></tr>\n",
       "\t<tr><td>136</td><td>133</td><td> 5 </td><td>10 </td><td>1  </td><td>1  </td><td>1  </td><td> 5 </td><td> 5 </td><td> 6 </td><td>2  </td></tr>\n",
       "\t<tr><td>124</td><td>121</td><td> 8 </td><td> 5 </td><td>0  </td><td>0  </td><td>7  </td><td> 3 </td><td> 1 </td><td> 2 </td><td>2  </td></tr>\n",
       "\t<tr><td>131</td><td>127</td><td>12 </td><td> 8 </td><td>0  </td><td>2  </td><td>5  </td><td> 6 </td><td> 7 </td><td> 4 </td><td>2  </td></tr>\n",
       "\t<tr><td>127</td><td>128</td><td> 6 </td><td> 5 </td><td>3  </td><td>1  </td><td>1  </td><td> 3 </td><td> 8 </td><td> 3 </td><td>2  </td></tr>\n",
       "\t<tr><td>146</td><td>142</td><td> 4 </td><td> 3 </td><td>0  </td><td>0  </td><td>3  </td><td> 1 </td><td> 1 </td><td> 2 </td><td>2  </td></tr>\n",
       "\t<tr><td>151</td><td>156</td><td> 8 </td><td> 7 </td><td>1  </td><td>1  </td><td>4  </td><td> 0 </td><td> 5 </td><td> 7 </td><td>2  </td></tr>\n",
       "\t<tr><td>131</td><td>132</td><td> 6 </td><td> 6 </td><td>0  </td><td>0  </td><td>3  </td><td> 4 </td><td> 3 </td><td> 3 </td><td>2  </td></tr>\n",
       "\t<tr><td>149</td><td>148</td><td> 2 </td><td> 5 </td><td>0  </td><td>2  </td><td>1  </td><td> 0 </td><td> 1 </td><td> 7 </td><td>2  </td></tr>\n",
       "\t<tr><td>151</td><td>148</td><td> 4 </td><td> 8 </td><td>2  </td><td>1  </td><td>1  </td><td> 4 </td><td> 5 </td><td> 5 </td><td>2  </td></tr>\n",
       "\t<tr><td>142</td><td>150</td><td> 7 </td><td> 5 </td><td>0  </td><td>1  </td><td>4  </td><td> 5 </td><td> 3 </td><td> 1 </td><td>2  </td></tr>\n",
       "\t<tr><td>130</td><td>127</td><td> 7 </td><td> 6 </td><td>0  </td><td>0  </td><td>5  </td><td> 4 </td><td> 2 </td><td> 2 </td><td>2  </td></tr>\n",
       "\t<tr><td>130</td><td>123</td><td> 7 </td><td>12 </td><td>0  </td><td>1  </td><td>2  </td><td> 6 </td><td> 5 </td><td> 8 </td><td>2  </td></tr>\n",
       "</tbody>\n",
       "</table>\n"
      ],
      "text/latex": [
       "\\begin{tabular}{r|lllllllllll}\n",
       " V3 & V5 & V7 & V9 & V11 & V13 & V15 & V17 & V19 & V21 & pxx\\\\\n",
       "\\hline\n",
       "\t 180.0 & 182.0 & 25    & 20    & 18    & 18    & 18    & 17    &  7    &  3    & 1    \\\\\n",
       "\t 158.0 & 163.0 & 34    & 28    & 11    & 14    & 18    & 15    & 16    & 13    & 1    \\\\\n",
       "\t 155.0 & 155.0 & 23    & 24    & 14    & 12    & 15    & 15    &  7    &  8    & 1    \\\\\n",
       "\t 161.0 & 164.0 & 14    & 13    & 13    & 11    &  9    &  5    &  5    &  7    & 1    \\\\\n",
       "\t 171.0 & 175.0 & 27    & 23    & 20    & 16    & 18    & 19    &  7    &  4    & 1    \\\\\n",
       "\t 158.0 & 151.0 & 29    & 23    & 11    & 13    & 17    & 14    & 11    & 10    & 1    \\\\\n",
       "\t 176.0 & 172.0 & 23    & 13    & 16    & 20    & 15    & 10    &  6    &  3    & 1    \\\\\n",
       "\t 165.0 & 164.0 & 24    & 22    & 17    & 16    & 18    & 16    &  6    &  6    & 1    \\\\\n",
       "\t 157.0 & 155.0 & 26    & 23    &  9    & 12    & 16    & 13    &  9    & 10    & 1    \\\\\n",
       "\t 171.0 & 168.0 & 26    & 23    & 14    & 15    & 18    & 14    &  9    &  9    & 1    \\\\\n",
       "\t 143.0 & 140.0 & 23    & 31    & 28    & 13    & 18    & 19    &  5    & 12    & 1    \\\\\n",
       "\t 158.0 & 146.0 & 35    & 33    & 13    & 13    & 19    & 20    & 16    & 13    & 1    \\\\\n",
       "\t 174.0 & 168.0 & 31    & 31    & 24    & 22    & 16    & 20    & 15    & 11    & 1    \\\\\n",
       "\t 148.0 & 141.0 & 37    & 30    & 10    &  9    & 29    & 19    &  8    & 11    & 1    \\\\\n",
       "\t 156.0 & 152.0 & 13    & 27    & 16    & 16    & 21    & 12    & 11    & 15    & 1    \\\\\n",
       "\t 146.0 & 146.0 & 27    & 24    & 16    & 13    & 17    &  8    &  9    & 16    & 1    \\\\\n",
       "\t 163.5 & 170.5 & 22    & 19    & 12    & 13    & 15    & 13    &  7    &  6    & 1    \\\\\n",
       "\t 183.0 & 183.0 & 20    & 17    &  9    & 13    & 19    & 14    &  1    &  3    & 1    \\\\\n",
       "\t 180.0 & 180.0 & 18    & 14    & 10    & 12    & 13    & 10    &  4    &  4    & 1    \\\\\n",
       "\t 176.0 & 178.0 & 20    & 21    & 13    & 10    & 14    & 13    &  6    &  8    & 1    \\\\\n",
       "\t 163.0 & 164.0 & 14    & 17    & 16    & 10    & 12    & 14    &  2    &  4    & 1    \\\\\n",
       "\t 153.0 & 157.0 & 23    & 18    &  8    & 12    & 12    & 11    & 11    &  6    & 1    \\\\\n",
       "\t 173.6 & 174.0 & 26    & 24    & 24    & 21    & 19    & 15    &  7    &  9    & 1    \\\\\n",
       "\t 154.0 & 152.0 & 22    & 23    & 19    & 16    & 16    & 18    &  6    &  5    & 1    \\\\\n",
       "\t 169.0 & 181.0 & 14    & 12    &  8    &  6    & 12    & 11    &  2    &  2    & 1    \\\\\n",
       "\t 153.0 & 151.0 & 13    & 14    & 13    &  9    & 10    &  6    &  4    &  6    & 1    \\\\\n",
       "\t 157.0 & 150.0 & 16    & 14    & 13    & 11    &  8    & 11    &  8    &  3    & 1    \\\\\n",
       "\t 162.0 & 165.0 & 19    & 18    & 12    &  9    & 12    & 10    &  7    &  8    & 1    \\\\\n",
       "\t 166.5 & 166.0 & 24    & 22    & 12    &  9    & 14    & 17    & 10    &  5    & 1    \\\\\n",
       "\t 166.0 & 172.0 & 16    & 21    & 15    &  9    & 12    & 16    &  4    &  5    & 1    \\\\\n",
       "\t ... & ... & ... & ... & ... & ... & ... & ... & ... & ... & ...\\\\\n",
       "\t 133 & 132 & 15  & 17  & 1   & 2   & 9   & 10  &  6  & 10  & 2  \\\\\n",
       "\t 124 & 122 & 18  & 14  & 2   & 1   & 7   &  6  & 13  &  9  & 2  \\\\\n",
       "\t 147 & 145 & 10  & 12  & 1   & 1   & 4   &  9  &  5  &  4  & 2  \\\\\n",
       "\t 137 & 139 & 12  &  7  & 3   & 4   & 4   &  5  & 12  &  6  & 2  \\\\\n",
       "\t 128 & 128 & 15  &  7  & 0   & 0   & 5   &  2  & 10  &  5  & 2  \\\\\n",
       "\t 125 & 119 & 10  &  8  & 1   & 1   & 7   &  5  &  4  &  4  & 2  \\\\\n",
       "\t 129 & 123 &  5  &  6  & 0   & 0   & 3   &  4  &  2  &  2  & 2  \\\\\n",
       "\t 123 & 113 &  9  &  5  & 0   & 1   & 4   &  2  &  5  &  4  & 2  \\\\\n",
       "\t 139 & 132 & 12  & 14  & 2   & 4   & 6   &  8  &  9  & 10  & 2  \\\\\n",
       "\t 126 & 115 & 14  & 14  & 0   & 2   & 9   &  7  &  5  &  8  & 2  \\\\\n",
       "\t 148 & 140 &  8  & 10  & 1   & 1   & 6   &  5  &  4  &  6  & 2  \\\\\n",
       "\t 132 & 129 & 10  &  6  & 0   & 1   & 9   &  3  &  1  &  3  & 2  \\\\\n",
       "\t 150 & 148 & 11  & 11  & 3   & 4   & 3   &  8  & 11  &  7  & 2  \\\\\n",
       "\t 142 & 143 &  7  &  9  & 2   & 0   & 0   &  6  &  9  &  2  & 2  \\\\\n",
       "\t 137 & 138 & 12  & 15  & 2   & 0   & 6   &  5  &  8  & 11  & 2  \\\\\n",
       "\t 123 & 122 & 14  & 11  & 0   & 0   & 6   &  5  &  8  &  6  & 2  \\\\\n",
       "\t 158 & 154 & 11  &  7  & 0   & 2   & 6   &  5  &  5  &  4  & 2  \\\\\n",
       "\t 150 & 152 &  8  &  8  & 2   & 4   & 2   &  4  &  8  &  8  & 2  \\\\\n",
       "\t 136 & 133 &  5  & 10  & 1   & 1   & 1   &  5  &  5  &  6  & 2  \\\\\n",
       "\t 124 & 121 &  8  &  5  & 0   & 0   & 7   &  3  &  1  &  2  & 2  \\\\\n",
       "\t 131 & 127 & 12  &  8  & 0   & 2   & 5   &  6  &  7  &  4  & 2  \\\\\n",
       "\t 127 & 128 &  6  &  5  & 3   & 1   & 1   &  3  &  8  &  3  & 2  \\\\\n",
       "\t 146 & 142 &  4  &  3  & 0   & 0   & 3   &  1  &  1  &  2  & 2  \\\\\n",
       "\t 151 & 156 &  8  &  7  & 1   & 1   & 4   &  0  &  5  &  7  & 2  \\\\\n",
       "\t 131 & 132 &  6  &  6  & 0   & 0   & 3   &  4  &  3  &  3  & 2  \\\\\n",
       "\t 149 & 148 &  2  &  5  & 0   & 2   & 1   &  0  &  1  &  7  & 2  \\\\\n",
       "\t 151 & 148 &  4  &  8  & 2   & 1   & 1   &  4  &  5  &  5  & 2  \\\\\n",
       "\t 142 & 150 &  7  &  5  & 0   & 1   & 4   &  5  &  3  &  1  & 2  \\\\\n",
       "\t 130 & 127 &  7  &  6  & 0   & 0   & 5   &  4  &  2  &  2  & 2  \\\\\n",
       "\t 130 & 123 &  7  & 12  & 0   & 1   & 2   &  6  &  5  &  8  & 2  \\\\\n",
       "\\end{tabular}\n"
      ],
      "text/markdown": [
       "\n",
       "V3 | V5 | V7 | V9 | V11 | V13 | V15 | V17 | V19 | V21 | pxx | \n",
       "|---|---|---|---|---|---|---|---|---|---|---|---|---|---|---|---|---|---|---|---|---|---|---|---|---|---|---|---|---|---|---|---|---|---|---|---|---|---|---|---|---|---|---|---|---|---|---|---|---|---|---|---|---|---|---|---|---|---|---|---|---|\n",
       "| 180.0 | 182.0 | 25    | 20    | 18    | 18    | 18    | 17    |  7    |  3    | 1     | \n",
       "| 158.0 | 163.0 | 34    | 28    | 11    | 14    | 18    | 15    | 16    | 13    | 1     | \n",
       "| 155.0 | 155.0 | 23    | 24    | 14    | 12    | 15    | 15    |  7    |  8    | 1     | \n",
       "| 161.0 | 164.0 | 14    | 13    | 13    | 11    |  9    |  5    |  5    |  7    | 1     | \n",
       "| 171.0 | 175.0 | 27    | 23    | 20    | 16    | 18    | 19    |  7    |  4    | 1     | \n",
       "| 158.0 | 151.0 | 29    | 23    | 11    | 13    | 17    | 14    | 11    | 10    | 1     | \n",
       "| 176.0 | 172.0 | 23    | 13    | 16    | 20    | 15    | 10    |  6    |  3    | 1     | \n",
       "| 165.0 | 164.0 | 24    | 22    | 17    | 16    | 18    | 16    |  6    |  6    | 1     | \n",
       "| 157.0 | 155.0 | 26    | 23    |  9    | 12    | 16    | 13    |  9    | 10    | 1     | \n",
       "| 171.0 | 168.0 | 26    | 23    | 14    | 15    | 18    | 14    |  9    |  9    | 1     | \n",
       "| 143.0 | 140.0 | 23    | 31    | 28    | 13    | 18    | 19    |  5    | 12    | 1     | \n",
       "| 158.0 | 146.0 | 35    | 33    | 13    | 13    | 19    | 20    | 16    | 13    | 1     | \n",
       "| 174.0 | 168.0 | 31    | 31    | 24    | 22    | 16    | 20    | 15    | 11    | 1     | \n",
       "| 148.0 | 141.0 | 37    | 30    | 10    |  9    | 29    | 19    |  8    | 11    | 1     | \n",
       "| 156.0 | 152.0 | 13    | 27    | 16    | 16    | 21    | 12    | 11    | 15    | 1     | \n",
       "| 146.0 | 146.0 | 27    | 24    | 16    | 13    | 17    |  8    |  9    | 16    | 1     | \n",
       "| 163.5 | 170.5 | 22    | 19    | 12    | 13    | 15    | 13    |  7    |  6    | 1     | \n",
       "| 183.0 | 183.0 | 20    | 17    |  9    | 13    | 19    | 14    |  1    |  3    | 1     | \n",
       "| 180.0 | 180.0 | 18    | 14    | 10    | 12    | 13    | 10    |  4    |  4    | 1     | \n",
       "| 176.0 | 178.0 | 20    | 21    | 13    | 10    | 14    | 13    |  6    |  8    | 1     | \n",
       "| 163.0 | 164.0 | 14    | 17    | 16    | 10    | 12    | 14    |  2    |  4    | 1     | \n",
       "| 153.0 | 157.0 | 23    | 18    |  8    | 12    | 12    | 11    | 11    |  6    | 1     | \n",
       "| 173.6 | 174.0 | 26    | 24    | 24    | 21    | 19    | 15    |  7    |  9    | 1     | \n",
       "| 154.0 | 152.0 | 22    | 23    | 19    | 16    | 16    | 18    |  6    |  5    | 1     | \n",
       "| 169.0 | 181.0 | 14    | 12    |  8    |  6    | 12    | 11    |  2    |  2    | 1     | \n",
       "| 153.0 | 151.0 | 13    | 14    | 13    |  9    | 10    |  6    |  4    |  6    | 1     | \n",
       "| 157.0 | 150.0 | 16    | 14    | 13    | 11    |  8    | 11    |  8    |  3    | 1     | \n",
       "| 162.0 | 165.0 | 19    | 18    | 12    |  9    | 12    | 10    |  7    |  8    | 1     | \n",
       "| 166.5 | 166.0 | 24    | 22    | 12    |  9    | 14    | 17    | 10    |  5    | 1     | \n",
       "| 166.0 | 172.0 | 16    | 21    | 15    |  9    | 12    | 16    |  4    |  5    | 1     | \n",
       "| ... | ... | ... | ... | ... | ... | ... | ... | ... | ... | ... | \n",
       "| 133 | 132 | 15  | 17  | 1   | 2   | 9   | 10  |  6  | 10  | 2   | \n",
       "| 124 | 122 | 18  | 14  | 2   | 1   | 7   |  6  | 13  |  9  | 2   | \n",
       "| 147 | 145 | 10  | 12  | 1   | 1   | 4   |  9  |  5  |  4  | 2   | \n",
       "| 137 | 139 | 12  |  7  | 3   | 4   | 4   |  5  | 12  |  6  | 2   | \n",
       "| 128 | 128 | 15  |  7  | 0   | 0   | 5   |  2  | 10  |  5  | 2   | \n",
       "| 125 | 119 | 10  |  8  | 1   | 1   | 7   |  5  |  4  |  4  | 2   | \n",
       "| 129 | 123 |  5  |  6  | 0   | 0   | 3   |  4  |  2  |  2  | 2   | \n",
       "| 123 | 113 |  9  |  5  | 0   | 1   | 4   |  2  |  5  |  4  | 2   | \n",
       "| 139 | 132 | 12  | 14  | 2   | 4   | 6   |  8  |  9  | 10  | 2   | \n",
       "| 126 | 115 | 14  | 14  | 0   | 2   | 9   |  7  |  5  |  8  | 2   | \n",
       "| 148 | 140 |  8  | 10  | 1   | 1   | 6   |  5  |  4  |  6  | 2   | \n",
       "| 132 | 129 | 10  |  6  | 0   | 1   | 9   |  3  |  1  |  3  | 2   | \n",
       "| 150 | 148 | 11  | 11  | 3   | 4   | 3   |  8  | 11  |  7  | 2   | \n",
       "| 142 | 143 |  7  |  9  | 2   | 0   | 0   |  6  |  9  |  2  | 2   | \n",
       "| 137 | 138 | 12  | 15  | 2   | 0   | 6   |  5  |  8  | 11  | 2   | \n",
       "| 123 | 122 | 14  | 11  | 0   | 0   | 6   |  5  |  8  |  6  | 2   | \n",
       "| 158 | 154 | 11  |  7  | 0   | 2   | 6   |  5  |  5  |  4  | 2   | \n",
       "| 150 | 152 |  8  |  8  | 2   | 4   | 2   |  4  |  8  |  8  | 2   | \n",
       "| 136 | 133 |  5  | 10  | 1   | 1   | 1   |  5  |  5  |  6  | 2   | \n",
       "| 124 | 121 |  8  |  5  | 0   | 0   | 7   |  3  |  1  |  2  | 2   | \n",
       "| 131 | 127 | 12  |  8  | 0   | 2   | 5   |  6  |  7  |  4  | 2   | \n",
       "| 127 | 128 |  6  |  5  | 3   | 1   | 1   |  3  |  8  |  3  | 2   | \n",
       "| 146 | 142 |  4  |  3  | 0   | 0   | 3   |  1  |  1  |  2  | 2   | \n",
       "| 151 | 156 |  8  |  7  | 1   | 1   | 4   |  0  |  5  |  7  | 2   | \n",
       "| 131 | 132 |  6  |  6  | 0   | 0   | 3   |  4  |  3  |  3  | 2   | \n",
       "| 149 | 148 |  2  |  5  | 0   | 2   | 1   |  0  |  1  |  7  | 2   | \n",
       "| 151 | 148 |  4  |  8  | 2   | 1   | 1   |  4  |  5  |  5  | 2   | \n",
       "| 142 | 150 |  7  |  5  | 0   | 1   | 4   |  5  |  3  |  1  | 2   | \n",
       "| 130 | 127 |  7  |  6  | 0   | 0   | 5   |  4  |  2  |  2  | 2   | \n",
       "| 130 | 123 |  7  | 12  | 0   | 1   | 2   |  6  |  5  |  8  | 2   | \n",
       "\n",
       "\n"
      ],
      "text/plain": [
       "    V3    V5    V7  V9  V11 V13 V15 V17 V19 V21 pxx\n",
       "1   180.0 182.0 25  20  18  18  18  17   7   3  1  \n",
       "2   158.0 163.0 34  28  11  14  18  15  16  13  1  \n",
       "3   155.0 155.0 23  24  14  12  15  15   7   8  1  \n",
       "4   161.0 164.0 14  13  13  11   9   5   5   7  1  \n",
       "5   171.0 175.0 27  23  20  16  18  19   7   4  1  \n",
       "6   158.0 151.0 29  23  11  13  17  14  11  10  1  \n",
       "7   176.0 172.0 23  13  16  20  15  10   6   3  1  \n",
       "8   165.0 164.0 24  22  17  16  18  16   6   6  1  \n",
       "9   157.0 155.0 26  23   9  12  16  13   9  10  1  \n",
       "10  171.0 168.0 26  23  14  15  18  14   9   9  1  \n",
       "11  143.0 140.0 23  31  28  13  18  19   5  12  1  \n",
       "12  158.0 146.0 35  33  13  13  19  20  16  13  1  \n",
       "13  174.0 168.0 31  31  24  22  16  20  15  11  1  \n",
       "14  148.0 141.0 37  30  10   9  29  19   8  11  1  \n",
       "15  156.0 152.0 13  27  16  16  21  12  11  15  1  \n",
       "16  146.0 146.0 27  24  16  13  17   8   9  16  1  \n",
       "17  163.5 170.5 22  19  12  13  15  13   7   6  1  \n",
       "18  183.0 183.0 20  17   9  13  19  14   1   3  1  \n",
       "19  180.0 180.0 18  14  10  12  13  10   4   4  1  \n",
       "20  176.0 178.0 20  21  13  10  14  13   6   8  1  \n",
       "21  163.0 164.0 14  17  16  10  12  14   2   4  1  \n",
       "22  153.0 157.0 23  18   8  12  12  11  11   6  1  \n",
       "23  173.6 174.0 26  24  24  21  19  15   7   9  1  \n",
       "24  154.0 152.0 22  23  19  16  16  18   6   5  1  \n",
       "25  169.0 181.0 14  12   8   6  12  11   2   2  1  \n",
       "26  153.0 151.0 13  14  13   9  10   6   4   6  1  \n",
       "27  157.0 150.0 16  14  13  11   8  11   8   3  1  \n",
       "28  162.0 165.0 19  18  12   9  12  10   7   8  1  \n",
       "29  166.5 166.0 24  22  12   9  14  17  10   5  1  \n",
       "30  166.0 172.0 16  21  15   9  12  16   4   5  1  \n",
       "... ...   ...   ... ... ... ... ... ... ... ... ...\n",
       "111 133   132   15  17  1   2   9   10   6  10  2  \n",
       "112 124   122   18  14  2   1   7    6  13   9  2  \n",
       "113 147   145   10  12  1   1   4    9   5   4  2  \n",
       "114 137   139   12   7  3   4   4    5  12   6  2  \n",
       "115 128   128   15   7  0   0   5    2  10   5  2  \n",
       "116 125   119   10   8  1   1   7    5   4   4  2  \n",
       "117 129   123    5   6  0   0   3    4   2   2  2  \n",
       "118 123   113    9   5  0   1   4    2   5   4  2  \n",
       "119 139   132   12  14  2   4   6    8   9  10  2  \n",
       "120 126   115   14  14  0   2   9    7   5   8  2  \n",
       "121 148   140    8  10  1   1   6    5   4   6  2  \n",
       "122 132   129   10   6  0   1   9    3   1   3  2  \n",
       "123 150   148   11  11  3   4   3    8  11   7  2  \n",
       "124 142   143    7   9  2   0   0    6   9   2  2  \n",
       "125 137   138   12  15  2   0   6    5   8  11  2  \n",
       "126 123   122   14  11  0   0   6    5   8   6  2  \n",
       "127 158   154   11   7  0   2   6    5   5   4  2  \n",
       "128 150   152    8   8  2   4   2    4   8   8  2  \n",
       "129 136   133    5  10  1   1   1    5   5   6  2  \n",
       "130 124   121    8   5  0   0   7    3   1   2  2  \n",
       "131 131   127   12   8  0   2   5    6   7   4  2  \n",
       "132 127   128    6   5  3   1   1    3   8   3  2  \n",
       "133 146   142    4   3  0   0   3    1   1   2  2  \n",
       "134 151   156    8   7  1   1   4    0   5   7  2  \n",
       "135 131   132    6   6  0   0   3    4   3   3  2  \n",
       "136 149   148    2   5  0   2   1    0   1   7  2  \n",
       "137 151   148    4   8  2   1   1    4   5   5  2  \n",
       "138 142   150    7   5  0   1   4    5   3   1  2  \n",
       "139 130   127    7   6  0   0   5    4   2   2  2  \n",
       "140 130   123    7  12  0   1   2    6   5   8  2  "
      ]
     },
     "metadata": {},
     "output_type": "display_data"
    }
   ],
   "source": [
    "ndxx"
   ]
  },
  {
   "cell_type": "code",
   "execution_count": 73,
   "metadata": {
    "scrolled": true
   },
   "outputs": [
    {
     "name": "stderr",
     "output_type": "stream",
     "text": [
      "Warning message in `[<-.factor`(`*tmp*`, ri, value = 0):\n",
      "\"invalid factor level, NA generated\""
     ]
    },
    {
     "data": {
      "text/html": [
       "<table>\n",
       "<thead><tr><th></th><th scope=col>pxx</th><th scope=col>V3</th><th scope=col>V5</th><th scope=col>V7</th><th scope=col>V9</th><th scope=col>V11</th><th scope=col>V13</th><th scope=col>V15</th><th scope=col>V17</th><th scope=col>V19</th><th scope=col>V21</th></tr></thead>\n",
       "<tbody>\n",
       "\t<tr><th scope=row>一区均值</th><td>1           </td><td>1.632800e+02</td><td>1.634357e+02</td><td>2.122857e+01</td><td>1.950000e+01</td><td>1.235714e+01</td><td>1.168571e+01</td><td>1.454286e+01</td><td>1.274286e+01</td><td>6.7714286   </td><td>6.785714    </td></tr>\n",
       "\t<tr><th scope=row>二区均值</th><td>2           </td><td>1.343786e+02</td><td>1.344971e+02</td><td>1.102857e+01</td><td>1.015714e+01</td><td>1.300000e+00</td><td>1.571429e+00</td><td>5.571429e+00</td><td>5.257143e+00</td><td>6.8142857   </td><td>6.457143    </td></tr>\n",
       "\t<tr><th scope=row>一区标准差</th><td>1           </td><td>9.557130e+00</td><td>1.177935e+01</td><td>6.481124e+00</td><td>6.057095e+00</td><td>5.244834e+00</td><td>4.502955e+00</td><td>4.673966e+00</td><td>4.683259e+00</td><td>3.4815099   </td><td>3.694465    </td></tr>\n",
       "\t<tr><th scope=row>二区标准差</th><td>2           </td><td>1.942702e+01</td><td>1.146528e+01</td><td>4.736450e+00</td><td>3.954948e+00</td><td>1.554330e+00</td><td>1.389103e+00</td><td>3.057760e+00</td><td>2.657697e+00</td><td>3.8383755   </td><td>2.996064    </td></tr>\n",
       "\t<tr><th scope=row>一二区T检验P值</th><td>NA          </td><td>2.573752e-19</td><td>4.302943e-30</td><td>3.014057e-19</td><td>2.259153e-19</td><td>2.627152e-28</td><td>3.740085e-30</td><td>1.309599e-25</td><td>7.812055e-21</td><td>0.9449364   </td><td>0.564289    </td></tr>\n",
       "</tbody>\n",
       "</table>\n"
      ],
      "text/latex": [
       "\\begin{tabular}{r|lllllllllll}\n",
       "  & pxx & V3 & V5 & V7 & V9 & V11 & V13 & V15 & V17 & V19 & V21\\\\\n",
       "\\hline\n",
       "\t一区均值 & 1            & 1.632800e+02 & 1.634357e+02 & 2.122857e+01 & 1.950000e+01 & 1.235714e+01 & 1.168571e+01 & 1.454286e+01 & 1.274286e+01 & 6.7714286    & 6.785714    \\\\\n",
       "\t二区均值 & 2            & 1.343786e+02 & 1.344971e+02 & 1.102857e+01 & 1.015714e+01 & 1.300000e+00 & 1.571429e+00 & 5.571429e+00 & 5.257143e+00 & 6.8142857    & 6.457143    \\\\\n",
       "\t一区标准差 & 1            & 9.557130e+00 & 1.177935e+01 & 6.481124e+00 & 6.057095e+00 & 5.244834e+00 & 4.502955e+00 & 4.673966e+00 & 4.683259e+00 & 3.4815099    & 3.694465    \\\\\n",
       "\t二区标准差 & 2            & 1.942702e+01 & 1.146528e+01 & 4.736450e+00 & 3.954948e+00 & 1.554330e+00 & 1.389103e+00 & 3.057760e+00 & 2.657697e+00 & 3.8383755    & 2.996064    \\\\\n",
       "\t一二区T检验P值 & NA           & 2.573752e-19 & 4.302943e-30 & 3.014057e-19 & 2.259153e-19 & 2.627152e-28 & 3.740085e-30 & 1.309599e-25 & 7.812055e-21 & 0.9449364    & 0.564289    \\\\\n",
       "\\end{tabular}\n"
      ],
      "text/markdown": [
       "\n",
       "| <!--/--> | pxx | V3 | V5 | V7 | V9 | V11 | V13 | V15 | V17 | V19 | V21 | \n",
       "|---|---|---|---|---|\n",
       "| 一区均值 | 1            | 1.632800e+02 | 1.634357e+02 | 2.122857e+01 | 1.950000e+01 | 1.235714e+01 | 1.168571e+01 | 1.454286e+01 | 1.274286e+01 | 6.7714286    | 6.785714     | \n",
       "| 二区均值 | 2            | 1.343786e+02 | 1.344971e+02 | 1.102857e+01 | 1.015714e+01 | 1.300000e+00 | 1.571429e+00 | 5.571429e+00 | 5.257143e+00 | 6.8142857    | 6.457143     | \n",
       "| 一区标准差 | 1            | 9.557130e+00 | 1.177935e+01 | 6.481124e+00 | 6.057095e+00 | 5.244834e+00 | 4.502955e+00 | 4.673966e+00 | 4.683259e+00 | 3.4815099    | 3.694465     | \n",
       "| 二区标准差 | 2            | 1.942702e+01 | 1.146528e+01 | 4.736450e+00 | 3.954948e+00 | 1.554330e+00 | 1.389103e+00 | 3.057760e+00 | 2.657697e+00 | 3.8383755    | 2.996064     | \n",
       "| 一二区T检验P值 | NA           | 2.573752e-19 | 4.302943e-30 | 3.014057e-19 | 2.259153e-19 | 2.627152e-28 | 3.740085e-30 | 1.309599e-25 | 7.812055e-21 | 0.9449364    | 0.564289     | \n",
       "\n",
       "\n"
      ],
      "text/plain": [
       "               pxx V3           V5           V7           V9          \n",
       "一区均值       1   1.632800e+02 1.634357e+02 2.122857e+01 1.950000e+01\n",
       "二区均值       2   1.343786e+02 1.344971e+02 1.102857e+01 1.015714e+01\n",
       "一区标准差     1   9.557130e+00 1.177935e+01 6.481124e+00 6.057095e+00\n",
       "二区标准差     2   1.942702e+01 1.146528e+01 4.736450e+00 3.954948e+00\n",
       "一二区T检验P值 NA  2.573752e-19 4.302943e-30 3.014057e-19 2.259153e-19\n",
       "               V11          V13          V15          V17          V19      \n",
       "一区均值       1.235714e+01 1.168571e+01 1.454286e+01 1.274286e+01 6.7714286\n",
       "二区均值       1.300000e+00 1.571429e+00 5.571429e+00 5.257143e+00 6.8142857\n",
       "一区标准差     5.244834e+00 4.502955e+00 4.673966e+00 4.683259e+00 3.4815099\n",
       "二区标准差     1.554330e+00 1.389103e+00 3.057760e+00 2.657697e+00 3.8383755\n",
       "一二区T检验P值 2.627152e-28 3.740085e-30 1.309599e-25 7.812055e-21 0.9449364\n",
       "               V21     \n",
       "一区均值       6.785714\n",
       "二区均值       6.457143\n",
       "一区标准差     3.694465\n",
       "二区标准差     2.996064\n",
       "一二区T检验P值 0.564289"
      ]
     },
     "metadata": {},
     "output_type": "display_data"
    }
   ],
   "source": [
    "ndxx$pxx<-as.factor(ndxx$pxx)\n",
    "meand<-aggregate(cbind(V3,V5,V7,V9,V11,V13,V15,V17,V19,V21)~pxx,ndxx,mean)\n",
    "mstd<-aggregate(cbind(V3,V5,V7,V9,V11,V13,V15,V17,V19,V21)~pxx,ndxx,sd)\n",
    "#pndxx<-t.test(cbind(V3,V5,V7,V9,V11,V13,V15,V17,V19,V21)~pxx,ndxx)\n",
    "p1<-t.test(V3~pxx,ndxx)\n",
    "p2<-t.test(V5~pxx,ndxx)\n",
    "p3<-t.test(V7~pxx,ndxx)\n",
    "p4<-t.test(V9~pxx,ndxx)\n",
    "p5<-t.test(V11~pxx,ndxx)\n",
    "p6<-t.test(V13~pxx,ndxx)\n",
    "p7<-t.test(V15~pxx,ndxx)\n",
    "p8<-t.test(V17~pxx,ndxx)\n",
    "p9<-t.test(V19~pxx,ndxx)\n",
    "p10<-t.test(V21~pxx,ndxx)\n",
    "pndxx<-c(0,p1$p.value,p2$p.value,p3$p.value,p4$p.value,p5$p.value,p6$p.value,p7$p.value,p8$p.value,p9$p.value,p10$p.value)\n",
    "mxnd<-rbind(meand[1:2,],mstd[1:2,],pndxx)\n",
    "rownames(mxnd)<-c('一区均值','二区均值','一区标准差','二区标准差','一二区T检验P值')\n",
    "mxnd\n",
    "write.csv(file=\"C:/Users/Administrator/Desktop/马超杰/mxnd.csv\",mxnd)"
   ]
  },
  {
   "cell_type": "code",
   "execution_count": 79,
   "metadata": {},
   "outputs": [],
   "source": [
    "#一二发T检验\n",
    "dxx<-read.delim(\"clipboard\",header=FALSE)\n",
    "#dxx<-read.delim(\"clipboard\",header=FALSE)\n",
    "d1x<-dxx[,c('V3','V4','V7','V8','V11','V12','V15','V16','V19','V20')]\n",
    "d2x<-dxx[,c('V5','V6','V9','V10','V13','V14','V17','V18','V21','V22')]\n",
    "pxx<-c(rep(1,dim(d1x)[1]),rep(2,dim(d1x)[1]))\n",
    "#ndxx<-cbind(rbind(d1x[1:dim(d1x)[1],],d2x[1:dim(d1x)[1],]),pxx)\n",
    "#head(ndxx)\n",
    "\n"
   ]
  },
  {
   "cell_type": "code",
   "execution_count": 86,
   "metadata": {},
   "outputs": [
    {
     "data": {
      "text/html": [
       "<table>\n",
       "<thead><tr><th scope=col>V3</th><th scope=col>V4</th><th scope=col>V7</th><th scope=col>V8</th><th scope=col>V11</th><th scope=col>V12</th><th scope=col>V15</th><th scope=col>V16</th><th scope=col>V19</th><th scope=col>V20</th><th scope=col>pxx</th></tr></thead>\n",
       "<tbody>\n",
       "\t<tr><td>180</td><td>149</td><td>25 </td><td>14 </td><td>18 </td><td>4  </td><td>18 </td><td>12 </td><td> 7 </td><td> 7 </td><td>1  </td></tr>\n",
       "\t<tr><td>158</td><td>133</td><td>34 </td><td>11 </td><td>11 </td><td>0  </td><td>18 </td><td> 3 </td><td>16 </td><td> 8 </td><td>1  </td></tr>\n",
       "\t<tr><td>155</td><td>129</td><td>23 </td><td>11 </td><td>14 </td><td>3  </td><td>15 </td><td> 8 </td><td> 7 </td><td> 6 </td><td>1  </td></tr>\n",
       "\t<tr><td>161</td><td>146</td><td>14 </td><td> 7 </td><td>13 </td><td>4  </td><td> 9 </td><td> 3 </td><td> 5 </td><td> 8 </td><td>1  </td></tr>\n",
       "\t<tr><td>171</td><td>145</td><td>27 </td><td>20 </td><td>20 </td><td>0  </td><td>18 </td><td> 9 </td><td> 7 </td><td>11 </td><td>1  </td></tr>\n",
       "\t<tr><td>158</td><td>133</td><td>29 </td><td>10 </td><td>11 </td><td>1  </td><td>17 </td><td> 4 </td><td>11 </td><td> 7 </td><td>1  </td></tr>\n",
       "</tbody>\n",
       "</table>\n"
      ],
      "text/latex": [
       "\\begin{tabular}{r|lllllllllll}\n",
       " V3 & V4 & V7 & V8 & V11 & V12 & V15 & V16 & V19 & V20 & pxx\\\\\n",
       "\\hline\n",
       "\t 180 & 149 & 25  & 14  & 18  & 4   & 18  & 12  &  7  &  7  & 1  \\\\\n",
       "\t 158 & 133 & 34  & 11  & 11  & 0   & 18  &  3  & 16  &  8  & 1  \\\\\n",
       "\t 155 & 129 & 23  & 11  & 14  & 3   & 15  &  8  &  7  &  6  & 1  \\\\\n",
       "\t 161 & 146 & 14  &  7  & 13  & 4   &  9  &  3  &  5  &  8  & 1  \\\\\n",
       "\t 171 & 145 & 27  & 20  & 20  & 0   & 18  &  9  &  7  & 11  & 1  \\\\\n",
       "\t 158 & 133 & 29  & 10  & 11  & 1   & 17  &  4  & 11  &  7  & 1  \\\\\n",
       "\\end{tabular}\n"
      ],
      "text/markdown": [
       "\n",
       "V3 | V4 | V7 | V8 | V11 | V12 | V15 | V16 | V19 | V20 | pxx | \n",
       "|---|---|---|---|---|---|\n",
       "| 180 | 149 | 25  | 14  | 18  | 4   | 18  | 12  |  7  |  7  | 1   | \n",
       "| 158 | 133 | 34  | 11  | 11  | 0   | 18  |  3  | 16  |  8  | 1   | \n",
       "| 155 | 129 | 23  | 11  | 14  | 3   | 15  |  8  |  7  |  6  | 1   | \n",
       "| 161 | 146 | 14  |  7  | 13  | 4   |  9  |  3  |  5  |  8  | 1   | \n",
       "| 171 | 145 | 27  | 20  | 20  | 0   | 18  |  9  |  7  | 11  | 1   | \n",
       "| 158 | 133 | 29  | 10  | 11  | 1   | 17  |  4  | 11  |  7  | 1   | \n",
       "\n",
       "\n"
      ],
      "text/plain": [
       "  V3  V4  V7 V8 V11 V12 V15 V16 V19 V20 pxx\n",
       "1 180 149 25 14 18  4   18  12   7   7  1  \n",
       "2 158 133 34 11 11  0   18   3  16   8  1  \n",
       "3 155 129 23 11 14  3   15   8   7   6  1  \n",
       "4 161 146 14  7 13  4    9   3   5   8  1  \n",
       "5 171 145 27 20 20  0   18   9   7  11  1  \n",
       "6 158 133 29 10 11  1   17   4  11   7  1  "
      ]
     },
     "metadata": {},
     "output_type": "display_data"
    },
    {
     "name": "stderr",
     "output_type": "stream",
     "text": [
      "Warning message in `[<-.factor`(`*tmp*`, ri, value = 0):\n",
      "\"invalid factor level, NA generated\""
     ]
    }
   ],
   "source": [
    "colnames(d2x)<-c('V3','V4','V7','V8','V11','V12','V15','V16','V19','V20')\n",
    "ndxx<-cbind(rbind(d1x[1:dim(d1x)[1],],d2x[1:dim(d1x)[1],]),pxx)\n",
    "head(ndxx)\n",
    "\n",
    "ndxx$pxx<-as.factor(ndxx$pxx)\n",
    "meand<-aggregate(cbind(V3,V4,V7,V8,V11,V12,V15,V16,V19,V20)~pxx,ndxx,mean)\n",
    "mstd<-aggregate(cbind(V3,V4,V7,V8,V11,V12,V15,V16,V19,V20)~pxx,ndxx,sd)\n",
    "\n",
    "p1<-t.test(V3~pxx,ndxx)\n",
    "p2<-t.test(V4~pxx,ndxx)\n",
    "p3<-t.test(V7~pxx,ndxx)\n",
    "p4<-t.test(V8~pxx,ndxx)\n",
    "p5<-t.test(V11~pxx,ndxx)\n",
    "p6<-t.test(V12~pxx,ndxx)\n",
    "p7<-t.test(V15~pxx,ndxx)\n",
    "p8<-t.test(V16~pxx,ndxx)\n",
    "p9<-t.test(V19~pxx,ndxx)\n",
    "p10<-t.test(V20~pxx,ndxx)\n",
    "pndxx<-c(0,p1$p.value,p2$p.value,p3$p.value,p4$p.value,p5$p.value,p6$p.value,p7$p.value,p8$p.value,p9$p.value,p10$p.value)\n",
    "mxndxx<-rbind(meand[1:2,],mstd[1:2,],pndxx)\n",
    "rownames(mxndxx)<-c('一发均值','二发均值','一发标准差','二发标准差','一二发T检验P值')\n",
    "write.csv(file=\"C:/Users/Administrator/Desktop/马超杰/mxndxx.csv\",mxndxx)"
   ]
  },
  {
   "cell_type": "code",
   "execution_count": null,
   "metadata": {
    "collapsed": true
   },
   "outputs": [],
   "source": []
  }
 ],
 "metadata": {
  "kernelspec": {
   "display_name": "R",
   "language": "R",
   "name": "ir"
  },
  "language_info": {
   "codemirror_mode": "r",
   "file_extension": ".r",
   "mimetype": "text/x-r-source",
   "name": "R",
   "pygments_lexer": "r",
   "version": "3.4.2"
  }
 },
 "nbformat": 4,
 "nbformat_minor": 2
}
