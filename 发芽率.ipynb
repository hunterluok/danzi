{
 "cells": [
  {
   "cell_type": "code",
   "execution_count": 4,
   "metadata": {},
   "outputs": [
    {
     "data": {
      "text/html": [
       "<table>\n",
       "<thead><tr><th scope=col>温度</th><th scope=col>时间</th><th scope=col>发芽率1</th></tr></thead>\n",
       "<tbody>\n",
       "\t<tr><td>43  </td><td> 3  </td><td>0.23</td></tr>\n",
       "\t<tr><td>43  </td><td> 6  </td><td>0.23</td></tr>\n",
       "\t<tr><td>43  </td><td> 9  </td><td>0.10</td></tr>\n",
       "\t<tr><td>43  </td><td>12  </td><td>0.17</td></tr>\n",
       "\t<tr><td>43  </td><td>15  </td><td>0.23</td></tr>\n",
       "\t<tr><td>43  </td><td>18  </td><td>0.30</td></tr>\n",
       "</tbody>\n",
       "</table>\n"
      ],
      "text/latex": [
       "\\begin{tabular}{r|lll}\n",
       " 温度 & 时间 & 发芽率1\\\\\n",
       "\\hline\n",
       "\t 43   &  3   & 0.23\\\\\n",
       "\t 43   &  6   & 0.23\\\\\n",
       "\t 43   &  9   & 0.10\\\\\n",
       "\t 43   & 12   & 0.17\\\\\n",
       "\t 43   & 15   & 0.23\\\\\n",
       "\t 43   & 18   & 0.30\\\\\n",
       "\\end{tabular}\n"
      ],
      "text/markdown": [
       "\n",
       "温度 | 时间 | 发芽率1 | \n",
       "|---|---|---|---|---|---|\n",
       "| 43   |  3   | 0.23 | \n",
       "| 43   |  6   | 0.23 | \n",
       "| 43   |  9   | 0.10 | \n",
       "| 43   | 12   | 0.17 | \n",
       "| 43   | 15   | 0.23 | \n",
       "| 43   | 18   | 0.30 | \n",
       "\n",
       "\n"
      ],
      "text/plain": [
       "  温度 时间 发芽率1\n",
       "1 43    3   0.23   \n",
       "2 43    6   0.23   \n",
       "3 43    9   0.10   \n",
       "4 43   12   0.17   \n",
       "5 43   15   0.23   \n",
       "6 43   18   0.30   "
      ]
     },
     "metadata": {},
     "output_type": "display_data"
    }
   ],
   "source": [
    "data<-read.delim(\"clipboard\")\n",
    "head(data)"
   ]
  },
  {
   "cell_type": "code",
   "execution_count": 7,
   "metadata": {},
   "outputs": [
    {
     "data": {
      "text/html": [
       "<dl class=dl-horizontal>\n",
       "\t<dt>温度</dt>\n",
       "\t\t<dd>'integer'</dd>\n",
       "\t<dt>时间</dt>\n",
       "\t\t<dd>'integer'</dd>\n",
       "\t<dt>发芽率1</dt>\n",
       "\t\t<dd>'numeric'</dd>\n",
       "</dl>\n"
      ],
      "text/latex": [
       "\\begin{description*}\n",
       "\\item[温度] 'integer'\n",
       "\\item[时间] 'integer'\n",
       "\\item[发芽率1] 'numeric'\n",
       "\\end{description*}\n"
      ],
      "text/markdown": [
       "温度\n",
       ":   'integer'时间\n",
       ":   'integer'发芽率1\n",
       ":   'numeric'\n",
       "\n"
      ],
      "text/plain": [
       "     温度      时间   发芽率1 \n",
       "\"integer\" \"integer\" \"numeric\" "
      ]
     },
     "metadata": {},
     "output_type": "display_data"
    },
    {
     "data": {
      "text/plain": [
       "\n",
       "Call:\n",
       "lm(formula = 发芽率1 ~ 温度 + 时间, data = data)\n",
       "\n",
       "Residuals:\n",
       "     Min       1Q   Median       3Q      Max \n",
       "-0.24335 -0.07834 -0.01848  0.06492  0.32815 \n",
       "\n",
       "Coefficients:\n",
       "             Estimate Std. Error t value Pr(>|t|)    \n",
       "(Intercept)  0.865561   0.076598  11.300  < 2e-16 ***\n",
       "温度        -0.011726   0.001428  -8.214 5.92e-14 ***\n",
       "时间        -0.005994   0.001246  -4.810 3.38e-06 ***\n",
       "---\n",
       "Signif. codes:  0 '***' 0.001 '**' 0.01 '*' 0.05 '.' 0.1 ' ' 1\n",
       "\n",
       "Residual standard error: 0.111 on 165 degrees of freedom\n",
       "Multiple R-squared:  0.3545,\tAdjusted R-squared:  0.3467 \n",
       "F-statistic:  45.3 on 2 and 165 DF,  p-value: < 2.2e-16\n"
      ]
     },
     "metadata": {},
     "output_type": "display_data"
    }
   ],
   "source": [
    "sapply(data,class)\n",
    "#plot(data$温度,data$发芽率)\n",
    "model<-lm(发芽率1~温度+时间,data)\n",
    "summary(model)"
   ]
  },
  {
   "cell_type": "code",
   "execution_count": 13,
   "metadata": {},
   "outputs": [
    {
     "data": {
      "text/plain": [
       "\n",
       "Call:\n",
       "lm(formula = 发芽率1 ~ poly(温度, 2) + poly(时间, 2), data = data)\n",
       "\n",
       "Residuals:\n",
       "     Min       1Q   Median       3Q      Max \n",
       "-0.22234 -0.06981 -0.01380  0.06760  0.27743 \n",
       "\n",
       "Coefficients:\n",
       "                Estimate Std. Error t value Pr(>|t|)    \n",
       "(Intercept)     0.174881   0.007659  22.835  < 2e-16 ***\n",
       "poly(温度, 2)1 -0.911933   0.099266  -9.187  < 2e-16 ***\n",
       "poly(温度, 2)2 -0.641427   0.099266  -6.462 1.14e-09 ***\n",
       "poly(时间, 2)1 -0.534034   0.099266  -5.380 2.55e-07 ***\n",
       "poly(时间, 2)2  0.127279   0.099266   1.282    0.202    \n",
       "---\n",
       "Signif. codes:  0 '***' 0.001 '**' 0.01 '*' 0.05 '.' 0.1 ' ' 1\n",
       "\n",
       "Residual standard error: 0.09927 on 163 degrees of freedom\n",
       "Multiple R-squared:  0.4902,\tAdjusted R-squared:  0.4777 \n",
       "F-statistic: 39.18 on 4 and 163 DF,  p-value: < 2.2e-16\n"
      ]
     },
     "metadata": {},
     "output_type": "display_data"
    }
   ],
   "source": [
    "m2<-lm(发芽率1~poly(温度,2)+poly(时间,2),data)\n",
    "summary(m2)"
   ]
  },
  {
   "cell_type": "code",
   "execution_count": 15,
   "metadata": {},
   "outputs": [
    {
     "data": {
      "text/plain": [
       "\n",
       "Call:\n",
       "lm(formula = 发芽率1 ~ 时间 + 温度 + 温度:时间, data = data)\n",
       "\n",
       "Residuals:\n",
       "     Min       1Q   Median       3Q      Max \n",
       "-0.21009 -0.07851 -0.01626  0.05428  0.32815 \n",
       "\n",
       "Coefficients:\n",
       "              Estimate Std. Error t value Pr(>|t|)   \n",
       "(Intercept)  0.4147619  0.1603352   2.587  0.01055 * \n",
       "时间         0.0273986  0.0105837   2.589  0.01050 * \n",
       "温度        -0.0030570  0.0030630  -0.998  0.31974   \n",
       "时间:温度   -0.0006422  0.0002022  -3.176  0.00178 **\n",
       "---\n",
       "Signif. codes:  0 '***' 0.001 '**' 0.01 '*' 0.05 '.' 0.1 ' ' 1\n",
       "\n",
       "Residual standard error: 0.1081 on 164 degrees of freedom\n",
       "Multiple R-squared:  0.3919,\tAdjusted R-squared:  0.3808 \n",
       "F-statistic: 35.23 on 3 and 164 DF,  p-value: < 2.2e-16\n"
      ]
     },
     "metadata": {},
     "output_type": "display_data"
    }
   ],
   "source": [
    "m3<-lm(发芽率1~时间+温度+温度:时间,data)\n",
    "summary(m3)"
   ]
  },
  {
   "cell_type": "code",
   "execution_count": 27,
   "metadata": {},
   "outputs": [
    {
     "data": {
      "text/plain": [
       "\n",
       "Call:\n",
       "lm(formula = 发芽率1 ~ poly(时间, 2) + poly(温度, 2) + 温度:时间, \n",
       "    data = data)\n",
       "\n",
       "Residuals:\n",
       "     Min       1Q   Median       3Q      Max \n",
       "-0.19344 -0.06452 -0.01585  0.06168  0.27743 \n",
       "\n",
       "Coefficients:\n",
       "                 Estimate Std. Error t value Pr(>|t|)    \n",
       "(Intercept)     0.6256803  0.1260863   4.962 1.75e-06 ***\n",
       "poly(时间, 2)1  2.4410897  0.8362064   2.919 0.004009 ** \n",
       "poly(时间, 2)2  0.1272792  0.0958494   1.328 0.186076    \n",
       "poly(温度, 2)1 -0.2377374  0.2112418  -1.125 0.262072    \n",
       "poly(温度, 2)2 -0.6414270  0.0958494  -6.692 3.42e-10 ***\n",
       "温度:时间      -0.0006422  0.0001793  -3.581 0.000451 ***\n",
       "---\n",
       "Signif. codes:  0 '***' 0.001 '**' 0.01 '*' 0.05 '.' 0.1 ' ' 1\n",
       "\n",
       "Residual standard error: 0.09585 on 162 degrees of freedom\n",
       "Multiple R-squared:  0.5276,\tAdjusted R-squared:  0.513 \n",
       "F-statistic: 36.19 on 5 and 162 DF,  p-value: < 2.2e-16\n"
      ]
     },
     "metadata": {},
     "output_type": "display_data"
    }
   ],
   "source": [
    "m4<-lm(发芽率1~poly(时间,2)+poly(温度,2)+温度:时间,data)\n",
    "summary(m4)"
   ]
  },
  {
   "cell_type": "code",
   "execution_count": 23,
   "metadata": {},
   "outputs": [
    {
     "data": {
      "text/plain": [
       "\n",
       "Call:\n",
       "lm(formula = 发芽率1 ~ poly(时间, 2) + poly(温度, 5) + 温度:时间, \n",
       "    data = data)\n",
       "\n",
       "Residuals:\n",
       "      Min        1Q    Median        3Q       Max \n",
       "-0.218425 -0.065197 -0.005581  0.057478  0.242416 \n",
       "\n",
       "Coefficients:\n",
       "                 Estimate Std. Error t value Pr(>|t|)    \n",
       "(Intercept)     0.6256803  0.1139124   5.493 1.54e-07 ***\n",
       "poly(时间, 2)1  2.4410897  0.7554684   3.231 0.001498 ** \n",
       "poly(时间, 2)2  0.1272792  0.0865949   1.470 0.143585    \n",
       "poly(温度, 5)1 -0.2377374  0.1908458  -1.246 0.214706    \n",
       "poly(温度, 5)2 -0.6414270  0.0865949  -7.407 7.13e-12 ***\n",
       "poly(温度, 5)3  0.3391667  0.0865949   3.917 0.000133 ***\n",
       "poly(温度, 5)4  0.3548005  0.0865949   4.097 6.65e-05 ***\n",
       "poly(温度, 5)5 -0.2347445  0.0865949  -2.711 0.007449 ** \n",
       "温度:时间      -0.0006422  0.0001620  -3.964 0.000111 ***\n",
       "---\n",
       "Signif. codes:  0 '***' 0.001 '**' 0.01 '*' 0.05 '.' 0.1 ' ' 1\n",
       "\n",
       "Residual standard error: 0.08659 on 159 degrees of freedom\n",
       "Multiple R-squared:  0.6216,\tAdjusted R-squared:  0.6025 \n",
       "F-statistic: 32.64 on 8 and 159 DF,  p-value: < 2.2e-16\n"
      ]
     },
     "metadata": {},
     "output_type": "display_data"
    }
   ],
   "source": [
    "m4<-lm(发芽率1~poly(时间,2)+poly(温度,5)+温度:时间,data)\n",
    "summary(m4)"
   ]
  },
  {
   "cell_type": "code",
   "execution_count": 26,
   "metadata": {},
   "outputs": [
    {
     "ename": "ERROR",
     "evalue": "Error in I(温度, 3): 参数没有用(3)\n",
     "output_type": "error",
     "traceback": [
      "Error in I(温度, 3): 参数没有用(3)\nTraceback:\n",
      "1. lm(发芽率1 ~ poly(时间, 2) + poly(温度, 5) + I(温度, 3):时间, \n .     data)",
      "2. eval(mf, parent.frame())",
      "3. eval(mf, parent.frame())",
      "4. stats::model.frame(formula = 发芽率1 ~ poly(时间, 2) + poly(温度, \n .     5) + I(温度, 3):时间, data = data, drop.unused.levels = TRUE)",
      "5. model.frame.default(formula = 发芽率1 ~ poly(时间, 2) + poly(温度, \n .     5) + I(温度, 3):时间, data = data, drop.unused.levels = TRUE)",
      "6. eval(predvars, data, env)",
      "7. eval(predvars, data, env)"
     ]
    }
   ],
   "source": [
    "m4<-lm(发芽率1~poly(时间,2)+poly(温度,5)+I(温度,3):时间,data)\n",
    "summary(m4)"
   ]
  }
 ],
 "metadata": {
  "kernelspec": {
   "display_name": "R",
   "language": "R",
   "name": "ir"
  },
  "language_info": {
   "codemirror_mode": "r",
   "file_extension": ".r",
   "mimetype": "text/x-r-source",
   "name": "R",
   "pygments_lexer": "r",
   "version": "3.4.2"
  }
 },
 "nbformat": 4,
 "nbformat_minor": 2
}
