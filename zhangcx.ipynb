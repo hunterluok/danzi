{
 "cells": [
  {
   "cell_type": "code",
   "execution_count": 1,
   "metadata": {
    "collapsed": true
   },
   "outputs": [],
   "source": [
    "from pandas import read_excel\n",
    "import pandas as pd"
   ]
  },
  {
   "cell_type": "code",
   "execution_count": 2,
   "metadata": {
    "collapsed": true
   },
   "outputs": [],
   "source": [
    "#import openpyxl  \n",
    "#wb = openpyxl.load_workbook(r'/Users/luokui/test.xlsx')  \n",
    "#获取workbook中所有的表格  \n",
    "#sheets = wb.get_sheet_names()  \n",
    "#print(sheets)\n",
    "#print(wb[sheets[0]])\n",
    "\n",
    "#for i in range(len(sheets)):  \n",
    "#    sheet= wb.get_sheet_by_name(sheets[i])\n",
    "#    print(sheet)"
   ]
  },
  {
   "cell_type": "code",
   "execution_count": 3,
   "metadata": {
    "collapsed": true
   },
   "outputs": [],
   "source": [
    "import xlrd\n",
    "import xlwt\n",
    "from datetime import date,datetime\n",
    " \n",
    "#def read_excel():\n",
    "  # 打开文件\n",
    "#workbook = xlrd.open_workbook(r'/Users/luokui/'+'test.xlsx')\n",
    "  # 获取所有sheet\n",
    "#print(workbook.sheet_names())# [u'sheet1', u'sheet2'] sheet2_name = workbook.sheet_names()[1]"
   ]
  },
  {
   "cell_type": "code",
   "execution_count": 4,
   "metadata": {
    "collapsed": true
   },
   "outputs": [],
   "source": [
    "#sheet2_name = workbook.sheet_names()[0]\n",
    "#print(sheet2_name)\n",
    "# 根据sheet索引或者名称获取sheet内容\n",
    "#sheet2 = workbook.sheet_by_index(1) # sheet索引从0开始\n",
    "#print(sheet2)\n",
    "#sheet2 = workbook.sheet_by_name('sheet2')\n",
    "#print(sheet2)"
   ]
  },
  {
   "cell_type": "code",
   "execution_count": 6,
   "metadata": {},
   "outputs": [],
   "source": [
    "# _*_ encoding:utf-8 _*_\n",
    "import os\n",
    "files = []\n",
    "names = []\n",
    "dir = '/Users/luokui/ftt'\n",
    "for parent,folder,filename in os.walk(dir):  \n",
    "    for file,x in zip(filename,range(len(filename))):  \n",
    "        file = os.path.join(parent,filename[x])\n",
    "        #print(file)\n",
    "        if str(file.split('.')[1])=='xlsx':\n",
    "            workbook = xlrd.open_workbook(file)\n",
    "            name = workbook.sheet_names()\n",
    "            names.append(name)\n",
    "            files.append(file)  \n",
    "#print(\"\\n文件总数：\",len(all_file))\n",
    "#print(str(all_file[1]))"
   ]
  },
  {
   "cell_type": "code",
   "execution_count": 16,
   "metadata": {
    "collapsed": true
   },
   "outputs": [],
   "source": [
    "data= pd.read_excel(files[0],sheetname=names[0][0])\n",
    "data1= pd.read_excel(files[0],sheetname=names[0][1])\n",
    "#print(files[0],names[0][0],names[0][1])\n",
    "#print(data.head(1))\n",
    "#print(data1.head(1))\n",
    "#print(data.columns)\n",
    "#print(data1.columns)\n",
    "#print(data.head(1))\n",
    "#print(data1.head(1))\n",
    "#print(data.columns)\n",
    "#print(data1.columns)\n",
    "#df3 = pd.merge(data, data1, left_on='姓名', right_on='直接经理')\n",
    "#print(df3.head())"
   ]
  },
  {
   "cell_type": "code",
   "execution_count": 8,
   "metadata": {
    "scrolled": true
   },
   "outputs": [
    {
     "data": {
      "text/plain": [
       "'\\ndata= pd.read_excel(files[0],sheetname=names[0][0])\\n#data1= pd.read_excel(files[1],sheetname=names[1][0])\\npddata= pd.DataFrame()\\n\\nfor i in range(len(files)):\\n    dx = pd.read_excel(files[i],sheetname=names[i][0],header=None,skiprows=1)\\n    dx = dx.iloc[0:(dx.shape[0]-1),0:(dx.shape[1]-1)]\\n    pddata=pd.concat([pddata,dx],axis=0)\\npddata.columns=(data.columns)[:-1]\\npddata[\\'姓名\\']=pddata[\\'姓名\\'].map(lambda x :x.strip())\\n#pddata.to_excel(\"/Users/luokui/jingli1226.xlsx\")'"
      ]
     },
     "execution_count": 8,
     "metadata": {},
     "output_type": "execute_result"
    }
   ],
   "source": [
    "\"\"\"\n",
    "data= pd.read_excel(files[0],sheetname=names[0][0])\n",
    "#data1= pd.read_excel(files[1],sheetname=names[1][0])\n",
    "pddata= pd.DataFrame()\n",
    "\n",
    "for i in range(len(files)):\n",
    "    dx = pd.read_excel(files[i],sheetname=names[i][0],header=None,skiprows=1)\n",
    "    dx = dx.iloc[0:(dx.shape[0]-1),0:(dx.shape[1]-1)]\n",
    "    pddata=pd.concat([pddata,dx],axis=0)\n",
    "pddata.columns=(data.columns)[:-1]\n",
    "pddata['姓名']=pddata['姓名'].map(lambda x :x.strip())\n",
    "#pddata.to_excel(\"/Users/luokui/jingli1226.xlsx\")\"\"\""
   ]
  },
  {
   "cell_type": "code",
   "execution_count": 9,
   "metadata": {},
   "outputs": [],
   "source": [
    "\n",
    "#data= pd.read_excel(files[6],sheetname=names[6][0],header=None,skiprows=1)\n",
    "\n",
    "#d1 = data.iloc[0:(data.shape[0]-1),0:122]\n"
   ]
  },
  {
   "cell_type": "code",
   "execution_count": 53,
   "metadata": {
    "collapsed": true
   },
   "outputs": [],
   "source": [
    "data= pd.read_excel(files[1],sheetname=names[1][1])\n",
    "data.rename(columns={'直接经理/分管领导':'直接经理'},inplace=True)\n",
    "colname=(data.columns)\n",
    "qname=[]\n",
    "for i in range(data.shape[1]):\n",
    "    qn = 'Q'+str(i)\n",
    "    qname.append(qn)\n",
    "#print(qname)\n",
    "#print(colname)\n",
    "ndata= pd.DataFrame()\n",
    "#print(pddata)\n",
    "\n",
    "for i in range(len(files)):\n",
    "    dx = pd.read_excel(files[i],sheetname=names[i][1])\n",
    "    if dx.shape[1]==123:\n",
    "        dx.rename(columns={'直接经理/分管领导':'直接经理'},inplace=True)\n",
    "        dx = dx.iloc[0:(dx.shape[0]-1),:]\n",
    "    else:\n",
    "        dx=dx[colname]\n",
    "        dx=dx.iloc[0:(dx.shape[0]-1),:]\n",
    "   # print(dx.shape)\n",
    "    dx.columns=qname\n",
    "   # print(dx.head(1))\n",
    "    ndata=pd.concat([ndata,dx],axis=0)\n",
    "\n",
    "ndata.columns=colname\n",
    "#print(ndata.head())\n",
    "#print(ndata.shape) \n",
    "ndata['直接经理']=ndata['直接经理'].map(lambda x:x.strip())\n",
    "ndata.to_excel(\"/Users/luokui/yugoanng1226.xlsx\")\n",
    "# dx = dx.iloc[0:(dx.shape[0]-1),0:(dx.shape[1]-1)]\n"
   ]
  },
  {
   "cell_type": "code",
   "execution_count": null,
   "metadata": {
    "collapsed": true
   },
   "outputs": [],
   "source": []
  }
 ],
 "metadata": {
  "kernelspec": {
   "display_name": "Python 3",
   "language": "python",
   "name": "python3"
  },
  "language_info": {
   "codemirror_mode": {
    "name": "ipython",
    "version": 3
   },
   "file_extension": ".py",
   "mimetype": "text/x-python",
   "name": "python",
   "nbconvert_exporter": "python",
   "pygments_lexer": "ipython3",
   "version": "3.6.2"
  }
 },
 "nbformat": 4,
 "nbformat_minor": 2
}
