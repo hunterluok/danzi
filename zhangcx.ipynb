{
 "cells": [
  {
   "cell_type": "code",
   "execution_count": 8,
   "metadata": {
    "collapsed": true
   },
   "outputs": [],
   "source": [
    "from pandas import read_excel\n",
    "import pandas as pd"
   ]
  },
  {
   "cell_type": "code",
   "execution_count": 2,
   "metadata": {
    "collapsed": true
   },
   "outputs": [],
   "source": [
    "#import openpyxl  \n",
    "#wb = openpyxl.load_workbook(r'/Users/luokui/test.xlsx')  \n",
    "#获取workbook中所有的表格  \n",
    "#sheets = wb.get_sheet_names()  \n",
    "#print(sheets)\n",
    "#print(wb[sheets[0]])\n",
    "\n",
    "#for i in range(len(sheets)):  \n",
    "#    sheet= wb.get_sheet_by_name(sheets[i])\n",
    "#    print(sheet)"
   ]
  },
  {
   "cell_type": "code",
   "execution_count": 3,
   "metadata": {
    "collapsed": true
   },
   "outputs": [],
   "source": [
    "import xlrd\n",
    "import xlwt\n",
    "from datetime import date,datetime\n",
    " \n",
    "#def read_excel():\n",
    "  # 打开文件\n",
    "#workbook = xlrd.open_workbook(r'/Users/luokui/'+'test.xlsx')\n",
    "  # 获取所有sheet\n",
    "#print(workbook.sheet_names())# [u'sheet1', u'sheet2'] sheet2_name = workbook.sheet_names()[1]"
   ]
  },
  {
   "cell_type": "code",
   "execution_count": 4,
   "metadata": {
    "collapsed": true
   },
   "outputs": [],
   "source": [
    "#sheet2_name = workbook.sheet_names()[0]\n",
    "#print(sheet2_name)\n",
    "# 根据sheet索引或者名称获取sheet内容\n",
    "#sheet2 = workbook.sheet_by_index(1) # sheet索引从0开始\n",
    "#print(sheet2)\n",
    "#sheet2 = workbook.sheet_by_name('sheet2')\n",
    "#print(sheet2)"
   ]
  },
  {
   "cell_type": "code",
   "execution_count": 30,
   "metadata": {},
   "outputs": [
    {
     "name": "stdout",
     "output_type": "stream",
     "text": [
      "['/Users/luokui/ftt/4、集团客户部（经理人员&员工）.xlsx', '/Users/luokui/ftt/2、信息安全部（经理人员&员工）.xlsx', '/Users/luokui/ftt/9、人力资源部（经理人员&员工）.xlsx', '/Users/luokui/ftt/10、北碚分公司（经理人员&员工）.xlsx', '/Users/luokui/ftt/11、城一分公司（经理人员&员工）.xlsx', '/Users/luokui/ftt/8、工会（经理人员&员工）.xlsx', '/Users/luokui/ftt/1、信息系统支撑部（经理人员&员工）.xlsx', '/Users/luokui/ftt/5、互联网业务中心（经理人员&员工）.xlsx', '/Users/luokui/ftt/6、12582基地（经理人员&员工）.xlsx', '/Users/luokui/ftt/7、综合部发展战略部（经理人员&员工）.xlsx', '/Users/luokui/ftt/3、市场经营部（经理人员&员工）.xlsx'] [['经理人员-8人', '员工-115人'], ['经理人员-2人', '员工-12人'], ['经理人员-3人', '员工-15人'], ['经理人员-5人', '员工-107人'], ['经理人员-11人', '员工-386人'], ['经理人员-1人', '员工-5人'], ['经理人员-5人', '员工-119人'], ['经理人员-7人', '员工-128人'], ['经理人员-6人', '员工-184人'], ['经理人员-2人', '员工-16人'], ['经理人员-4人', '员工-29人']]\n",
      "11\n"
     ]
    }
   ],
   "source": [
    "# _*_ encoding:utf-8 _*_\n",
    "import os\n",
    "files = []\n",
    "names = []\n",
    "dir = '/Users/luokui/ftt'\n",
    "for parent,folder,filename in os.walk(dir):  \n",
    "    for file,x in zip(filename,range(len(filename))):  \n",
    "        file = os.path.join(parent,filename[x])\n",
    "        #print(file)\n",
    "        if str(file.split('.')[1])=='xlsx':\n",
    "            workbook = xlrd.open_workbook(file)\n",
    "            name = workbook.sheet_names()\n",
    "            names.append(name)\n",
    "            files.append(file)  \n",
    "#print(\"\\n文件总数：\",len(all_file))\n",
    "#print(str(all_file[1]))\n",
    "print(files,names)\n",
    "print(len(files))"
   ]
  },
  {
   "cell_type": "code",
   "execution_count": 16,
   "metadata": {
    "collapsed": true
   },
   "outputs": [],
   "source": [
    "data= pd.read_excel(files[0],sheetname=names[0][0])\n",
    "data1= pd.read_excel(files[0],sheetname=names[0][1])\n",
    "#print(files[0],names[0][0],names[0][1])\n",
    "#print(data.head(1))\n",
    "#print(data1.head(1))\n",
    "#print(data.columns)\n",
    "#print(data1.columns)\n",
    "#print(data.head(1))\n",
    "#print(data1.head(1))\n",
    "#print(data.columns)\n",
    "#print(data1.columns)\n",
    "#df3 = pd.merge(data, data1, left_on='姓名', right_on='直接经理')\n",
    "#print(df3.head())"
   ]
  },
  {
   "cell_type": "code",
   "execution_count": 51,
   "metadata": {},
   "outputs": [
    {
     "name": "stdout",
     "output_type": "stream",
     "text": [
      "Empty DataFrame\n",
      "Columns: []\n",
      "Index: []\n",
      "(8, 122)\n",
      "(2, 122)\n",
      "(3, 122)\n",
      "(5, 122)\n",
      "(11, 122)\n",
      "(1, 122)\n",
      "(5, 122)\n",
      "(7, 122)\n",
      "(6, 122)\n",
      "(2, 122)\n",
      "(4, 122)\n",
     
    }
   ],
   "source": [
    "data= pd.read_excel(files[0],sheetname=names[0][0])\n",
    "#print(data.columns)\n",
    "#data1= pd.read_excel(files[1],sheetname=names[1][0])\n",
    "pddata= pd.DataFrame()\n",
    "print(pddata)\n",
    "for i in range(len(files)):\n",
    "    dx = pd.read_excel(files[i],sheetname=names[i][0],header=None,skiprows=1)\n",
    "    dx = dx.iloc[0:(dx.shape[0]-1),0:(dx.shape[1]-1)]\n",
    "    print(dx.shape)\n",
    "    pddata=pd.concat([pddata,dx],axis=0)\n",
    "pddata.columns=(data.columns)[:-1]\n",
    "pddata['姓名']=pddata['姓名'].map(lambda x :x.strip())\n",
    "print(pddata.head(),pddata.columns)\n",
    "pddata.to_excel(\"/Users/luokui/jingli1226.xlsx\")\n",
    "#print(pddata.head(),pddata.shape)\n",
    "#print(files[0],names[0][0],names[0][1])\n",
    "#print(data.head(1))\n",
    "#print(data1.head(1))\n",
    "#print(data.columns)\n",
    "#print(data1.columns)\n",
    "#领导数据 共有 54位经理 ，54份数据 122列数据."
   ]
  },
 
     ]
    }
   ],
   "source": [
    "\n",
    "#data= pd.read_excel(files[6],sheetname=names[6][0],header=None,skiprows=1)\n",
    "#print(data.shape)\n",
    "#d1 = data.iloc[0:(data.shape[0]-1),0:122]\n",
    "#print(d1.shape)\n",
    "#print(data.head())\n",
    "print(pddata.head())"
   ]
  },
  {
   "cell_type": "code",
   "execution_count": 53,
   "metadata": {
    "collapsed": true
   },
   "outputs": [],
   "source": [
    "data= pd.read_excel(files[1],sheetname=names[1][1])\n",
    "data.rename(columns={'直接经理/分管领导':'直接经理'},inplace=True)\n",
    "colname=(data.columns)\n",
    "qname=[]\n",
    "for i in range(data.shape[1]):\n",
    "    qn = 'Q'+str(i)\n",
    "    qname.append(qn)\n",
    "#print(qname)\n",
    "#print(colname)\n",
    "ndata= pd.DataFrame()\n",
    "#print(pddata)\n",
    "\n",
    "for i in range(len(files)):\n",
    "    dx = pd.read_excel(files[i],sheetname=names[i][1])\n",
    "    if dx.shape[1]==123:\n",
    "        dx.rename(columns={'直接经理/分管领导':'直接经理'},inplace=True)\n",
    "        dx = dx.iloc[0:(dx.shape[0]-1),:]\n",
    "    else:\n",
    "        dx=dx[colname]\n",
    "        dx=dx.iloc[0:(dx.shape[0]-1),:]\n",
    "   # print(dx.shape)\n",
    "    dx.columns=qname\n",
    "   # print(dx.head(1))\n",
    "    ndata=pd.concat([ndata,dx],axis=0)\n",
    "\n",
    "ndata.columns=colname\n",
    "#print(ndata.head())\n",
    "#print(ndata.shape) \n",
    "ndata['直接经理']=ndata['直接经理'].map(lambda x:x.strip())\n",
    "ndata.to_excel(\"/Users/luokui/yugoanng1226.xlsx\")\n",
    "# dx = dx.iloc[0:(dx.shape[0]-1),0:(dx.shape[1]-1)]\n"
   ]
  },
  {
   "cell_type": "code",
   "execution_count": null,
   "metadata": {
    "collapsed": true
   },
   "outputs": [],
   "source": []
  }
 ],
 "metadata": {
  "kernelspec": {
   "display_name": "Python 3",
   "language": "python",
   "name": "python3"
  },
  "language_info": {
   "codemirror_mode": {
    "name": "ipython",
    "version": 3
   },
   "file_extension": ".py",
   "mimetype": "text/x-python",
   "name": "python",
   "nbconvert_exporter": "python",
   "pygments_lexer": "ipython3",
   "version": "3.6.2"
  }
 },
 "nbformat": 4,
 "nbformat_minor": 2
}
