{
 "cells": [
  {
   "cell_type": "code",
   "execution_count": 1,
   "metadata": {
    "collapsed": true
   },
   "outputs": [],
   "source": [
    "import pandas as pd\n",
    "from pandas import read_excel\n",
    "##  如何 利用OS  程序 进行数据的读取操作的"
   ]
  },
  {
   "cell_type": "code",
   "execution_count": 7,
   "metadata": {
    "collapsed": true
   },
   "outputs": [],
   "source": [
    "d1 = pd.read_excel(\"C:/Users/Administrator/Desktop/ziji/王雪梅/男生体质测试.xls\",sheetname=\"篮球\")\n",
    "d1['类别'] = 1\n",
    "d2 = pd.read_excel(\"C:/Users/Administrator/Desktop/ziji/王雪梅/男生体质测试.xls\",sheetname=\"田径\")\n",
    "d2 ['类别'] = 2\n",
    "nd=pd.concat([d1,d2],axis=0)\n",
    "#print(nd)\n",
    "#print(d1.head())\n",
    "#print(d1.columns)\n",
    "#print(d1.info)"
   ]
  },
  {
   "cell_type": "code",
   "execution_count": 8,
   "metadata": {
    "collapsed": true
   },
   "outputs": [],
   "source": [
    "d11 = pd.read_excel(\"C:/Users/Administrator/Desktop/ziji/王雪梅/男生身体成分.xls\",sheetname=\"篮球\")\n",
    "d11['类别'] = 1\n",
    "d22 = pd.read_excel(\"C:/Users/Administrator/Desktop/ziji/王雪梅/男生身体成分.xls\",sheetname=\"田径\")\n",
    "#d2['1000米（分）']=d2['1000米（分）'].map(lambda x : x[:4]) \n",
    "d22['类别'] = 2\n",
    "ndd = pd.concat([d11,d22],axis=0)\n",
    "#print(ndd)"
   ]
  },
  {
   "cell_type": "code",
   "execution_count": 9,
   "metadata": {},
   "outputs": [
    {
     "name": "stdout",
     "output_type": "stream",
     "text": [
      "Index(['身高', '体重', '50米（秒）', '立定跳远（米）', '坐位体前屈', '1000米（分）', '引体向上', '类别',\n",
      "       '体脂百分数', '腰臀比', 'BMI'],\n",
      "      dtype='object')\n"
     ]
    }
   ],
   "source": [
    "newdata = pd.concat([nd,ndd[['体脂百分数','腰臀比','BMI']]],axis=1)\n",
    "newdata.to_csv(\"C:/Users/Administrator/Desktop/ziji/王雪梅/newNAN.csv\")\n",
    "#print(newdata.head())\n",
    "#print(newdata.corr([['体脂百分数','腰臀比','BMI']]))\n",
    "#t1 = newdata.loc[newdata['类别']==1,:].corr()[['体脂百分数','腰臀比','BMI']]\n",
    "#t2 = newdata.loc[newdata['类别']==2,:].corr()[['体脂百分数','腰臀比','BMI']]\n",
    "#print(t1.iloc[0:7,:])\n",
    "#print(t2.iloc[0:7,:])\n",
    "#t1.to_csv(\"C:/Users/Administrator/Desktop/ziji/王雪梅/cor篮球.csv\")\n",
    "#t2.to_csv(\"C:/Users/Administrator/Desktop/ziji/王雪梅/cor田径.csv\")\n",
    "dn = newdata.loc[newdata['类别']==1,:]\n",
    "dt = newdata.loc[newdata['类别']==2,:]\n",
    "dn.to_csv(\"C:/Users/Administrator/Desktop/ziji/王雪梅/dn篮球.csv\")\n",
    "dt.to_csv(\"C:/Users/Administrator/Desktop/ziji/王雪梅/dt田径.csv\")\n",
    "#print(dn)\n",
    "print(dn.columns)"
   ]
  },
  {
   "cell_type": "code",
   "execution_count": 49,
   "metadata": {},
   "outputs": [
    {
     "name": "stdout",
     "output_type": "stream",
     "text": [
      "                            OLS Regression Results                            \n",
      "==============================================================================\n",
      "Dep. Variable:                  体脂百分数   R-squared:                       0.115\n",
      "Model:                            OLS   Adj. R-squared:                 -0.079\n",
      "Method:                 Least Squares   F-statistic:                    0.5915\n",
      "Date:                Wed, 06 Dec 2017   Prob (F-statistic):              0.758\n",
      "Time:                        15:03:46   Log-Likelihood:                -103.18\n",
      "No. Observations:                  40   AIC:                             222.4\n",
      "Df Residuals:                      32   BIC:                             235.9\n",
      "Df Model:                           7                                         \n",
      "Covariance Type:            nonrobust                                         \n",
      "==============================================================================\n",
      "                 coef    std err          t      P>|t|      [0.025      0.975]\n",
      "------------------------------------------------------------------------------\n",
      "身高             0.0317      0.150      0.211      0.834      -0.273       0.337\n",
      "体重            -0.0240      0.084     -0.284      0.778      -0.196       0.148\n",
      "50米（秒）         0.1008      0.662      0.152      0.880      -1.249       1.450\n",
      "立定跳远（米）       -0.2330      3.960     -0.059      0.953      -8.300       7.834\n",
      "坐位体前屈         -0.0417      0.075     -0.553      0.584      -0.195       0.112\n",
      "1000米（分）      -0.8365      1.319     -0.634      0.530      -3.523       1.850\n",
      "引体向上           0.2378      0.182      1.305      0.201      -0.133       0.609\n",
      "const          9.5274     24.502      0.389      0.700     -40.382      59.437\n",
      "==============================================================================\n",
      "Omnibus:                        1.480   Durbin-Watson:                   2.700\n",
      "Prob(Omnibus):                  0.477   Jarque-Bera (JB):                1.252\n",
      "Skew:                           0.253   Prob(JB):                        0.535\n",
      "Kurtosis:                       2.297   Cond. No.                     7.90e+03\n",
      "==============================================================================\n",
      "\n",
      "Warnings:\n",
      "[1] Standard Errors assume that the covariance matrix of the errors is correctly specified.\n",
      "[2] The condition number is large, 7.9e+03. This might indicate that there are\n",
      "strong multicollinearity or other numerical problems.\n",
      "                            OLS Regression Results                            \n",
      "==============================================================================\n",
      "Dep. Variable:                    腰臀比   R-squared:                       0.093\n",
      "Model:                            OLS   Adj. R-squared:                 -0.105\n",
      "Method:                 Least Squares   F-statistic:                    0.4703\n",
      "Date:                Wed, 06 Dec 2017   Prob (F-statistic):              0.849\n",
      "Time:                        15:03:46   Log-Likelihood:                 65.938\n",
      "No. Observations:                  40   AIC:                            -115.9\n",
      "Df Residuals:                      32   BIC:                            -102.4\n",
      "Df Model:                           7                                         \n",
      "Covariance Type:            nonrobust                                         \n",
      "==============================================================================\n",
      "                 coef    std err          t      P>|t|      [0.025      0.975]\n",
      "------------------------------------------------------------------------------\n",
      "身高             0.0012      0.002      0.544      0.590      -0.003       0.006\n",
      "体重            -0.0010      0.001     -0.778      0.442      -0.003       0.002\n",
      "50米（秒）        -0.0015      0.010     -0.155      0.878      -0.021       0.018\n",
      "立定跳远（米）       -0.0040      0.058     -0.068      0.946      -0.122       0.114\n",
      "坐位体前屈         -0.0002      0.001     -0.221      0.826      -0.002       0.002\n",
      "1000米（分）      -0.0022      0.019     -0.113      0.911      -0.041       0.037\n",
      "引体向上           0.0025      0.003      0.956      0.346      -0.003       0.008\n",
      "const          0.5768      0.357      1.614      0.116      -0.151       1.305\n",
      "==============================================================================\n",
      "Omnibus:                        5.264   Durbin-Watson:                   2.651\n",
      "Prob(Omnibus):                  0.072   Jarque-Bera (JB):                2.243\n",
      "Skew:                           0.241   Prob(JB):                        0.326\n",
      "Kurtosis:                       1.944   Cond. No.                     7.90e+03\n",
      "==============================================================================\n",
      "\n",
      "Warnings:\n",
      "[1] Standard Errors assume that the covariance matrix of the errors is correctly specified.\n",
      "[2] The condition number is large, 7.9e+03. This might indicate that there are\n",
      "strong multicollinearity or other numerical problems.\n",
      "                            OLS Regression Results                            \n",
      "==============================================================================\n",
      "Dep. Variable:                    BMI   R-squared:                       0.095\n",
      "Model:                            OLS   Adj. R-squared:                 -0.103\n",
      "Method:                 Least Squares   F-statistic:                    0.4776\n",
      "Date:                Wed, 06 Dec 2017   Prob (F-statistic):              0.844\n",
      "Time:                        15:03:46   Log-Likelihood:                -79.014\n",
      "No. Observations:                  40   AIC:                             174.0\n",
      "Df Residuals:                      32   BIC:                             187.5\n",
      "Df Model:                           7                                         \n",
      "Covariance Type:            nonrobust                                         \n",
      "==============================================================================\n",
      "                 coef    std err          t      P>|t|      [0.025      0.975]\n",
      "------------------------------------------------------------------------------\n",
      "身高             0.0203      0.082      0.248      0.806      -0.147       0.187\n",
      "体重            -0.0030      0.046     -0.066      0.948      -0.097       0.091\n",
      "50米（秒）         0.2069      0.362      0.572      0.572      -0.531       0.944\n",
      "立定跳远（米）       -0.4864      2.165     -0.225      0.824      -4.895       3.923\n",
      "坐位体前屈         -0.0217      0.041     -0.528      0.601      -0.106       0.062\n",
      "1000米（分）      -0.6559      0.721     -0.910      0.370      -2.124       0.812\n",
      "引体向上           0.0962      0.100      0.966      0.341      -0.107       0.299\n",
      "const         18.2052     13.392      1.359      0.184      -9.074      45.485\n",
      "==============================================================================\n",
      "Omnibus:                        2.045   Durbin-Watson:                   2.573\n",
      "Prob(Omnibus):                  0.360   Jarque-Bera (JB):                1.755\n",
      "Skew:                           0.503   Prob(JB):                        0.416\n",
      "Kurtosis:                       2.796   Cond. No.                     7.90e+03\n",
      "==============================================================================\n",
      "\n",
      "Warnings:\n",
      "[1] Standard Errors assume that the covariance matrix of the errors is correctly specified.\n",
      "[2] The condition number is large, 7.9e+03. This might indicate that there are\n",
      "strong multicollinearity or other numerical problems.\n"
     ]
    }
   ],
   "source": [
    "import statsmodels.api as sm    # 进行线性回归分析。\n",
    "#y = dn[['体脂百分数', '腰臀比', 'BMI']]\n",
    "y = ['体脂百分数', '腰臀比', 'BMI']   #这里用法的妙用。\n",
    "x = dn[['身高', '体重', '50米（秒）', '立定跳远（米）', '坐位体前屈', '1000米（分）', '引体向上']]\n",
    "x = sm.add_constant(x, prepend=False)\n",
    "#print(x)\n",
    "# re1.to_txt(\"C:/Users/Administrator/Desktop/ziji/王雪梅/olg篮球.txt\")\n",
    "for i in range(3):\n",
    "    y1 = dt[y[i]]\n",
    "    mod = sm.OLS(y1, x)\n",
    "    re = mod.fit().summary()\n",
    "    print(re)\n",
    "\n",
    "\n",
    "    "
   ]
  },
  {
   "cell_type": "code",
   "execution_count": null,
   "metadata": {
    "collapsed": true
   },
   "outputs": [],
   "source": []
  },
  {
   "cell_type": "code",
   "execution_count": 30,
   "metadata": {},
   "outputs": [
    {
     "name": "stdout",
     "output_type": "stream",
     "text": [
      "       身高  体重  50米（秒）  立定跳远（米）  坐位体前屈 1000米（分）  引体向上  类别\n",
      "0   168.5  57    9.49     2.47    6.0     4.00     2   2\n",
      "1   170.4  55    8.00     2.17   17.0     3.40     5   2\n",
      "2   176.3  58    7.78     2.52    2.0     3.27     4   2\n",
      "3   168.3  55   10.55     2.10    0.0     3.41     6   2\n",
      "4   176.5  60    7.94     2.46    1.5     3.56     8   2\n",
      "5   168.8  66   10.20     2.09   16.0     4.22     1   2\n",
      "6   164.7  62    8.65     2.40   -8.5     4.35     0   2\n",
      "7   173.3  63    7.10     2.40   14.0     3.38     5   2\n",
      "8   167.2  53    7.71     2.10   10.0     3.33    17   2\n",
      "9   177.5  61   10.37     2.60    9.5     4.04     8   2\n",
      "10  166.0  49    7.81     2.35   15.0     3.52     8   2\n",
      "11  171.6  66    7.03     2.40   21.0     3.39     8   2\n",
      "12  159.8  58    7.99     2.02   15.0     4.06     7   2\n",
      "13  179.9  76    7.27     2.66    9.0     4.01     0   2\n",
      "14  175.2  60    7.48     2.20   13.0     3.53     9   2\n",
      "15  165.2  51    8.19     2.20  -10.0     4.33     0   2\n",
      "16  169.7  59    7.68     2.38    8.2     4.04     2   2\n",
      "17  175.1  70    8.04     2.14   -3.0     4.34     1   2\n",
      "18  162.1  48    7.53     2.20   12.0     4.34     5   2\n",
      "19  164.9  58    7.95     2.30   16.0     4.36     5   2\n",
      "20  183.4  76    7.10     2.40    4.0     4.27     1   2\n",
      "21  167.2  54    7.31     2.10    9.0     4.32     5   2\n",
      "22  173.5  61    6.98     2.10   17.0     4.01     3   2\n",
      "23  171.7  64    7.50     2.05   -2.0     4.33     3   2\n",
      "24  179.1  74    7.84     2.21    6.5     4.31     0   2\n",
      "25  168.6  54    7.07     2.10   11.0     3.58     2   2\n",
      "26  170.3  56    7.47     2.28   22.0     3.45     4   2\n",
      "27  171.4  66    7.37     2.24   12.0     4.21     5   2\n",
      "28  167.2  61    7.79     2.17    1.0     3.37     3   2\n",
      "29  167.1  53    7.57     2.21    7.0     4.07     4   2\n",
      "30  174.5  72    7.52     2.30   15.0     4.44     0   2\n",
      "31  170.3  54    7.27     2.10    9.5     5.45     8   2\n",
      "32  174.5  70    8.61     2.05   12.5     5.02     3   2\n",
      "33  169.1  56    7.66     2.30   12.3     4.00    12   2\n",
      "34  175.1  57    7.38     2.10  -14.0     4.21     2   2\n",
      "35  177.2  65    7.05     2.20   10.0     3.31     5   2\n",
      "36  170.7  59    6.83     2.23   18.3     4.11     4   2\n",
      "37  167.5  49    8.00     2.22    8.5     3.48    12   2\n",
      "38  159.6  49    7.42     2.21   14.0     3.29     0   2\n",
      "39  164.0  51    6.65     2.52   21.0     3.42     5   2\n"
     ]
    }
   ],
   "source": [
    "# print(d1['1000米（分）'].map(lambda x : x[:4]))\n",
    "#d1['1000米（分）']=d1['1000米（分）'].map(lambda x : x[:4]) \n",
    "d1['类别'] = 2\n",
    "print(d1)"
   ]
  },
  {
   "cell_type": "code",
   "execution_count": 35,
   "metadata": {},
   "outputs": [
    {
     "name": "stdout",
     "output_type": "stream",
     "text": [
      "       身高  体重  50米（秒）  立定跳远（米）  坐位体前屈  1000米（分）  引体向上  类别\n",
      "0   159.6  49    7.42     2.21   14.0      3.29     0   1\n",
      "1   173.4  57    7.56     2.30   25.0      3.41     3   1\n",
      "2   170.3  59    6.83     2.23   18.3      4.11     4   1\n",
      "3   169.5  53    7.41     2.11   14.0      4.00     4   1\n",
      "4   163.5  55    7.88     2.08   13.5      4.30     4   1\n",
      "5   167.9  55    6.75     1.93   14.0      3.28     5   1\n",
      "6   168.6  60    7.47     1.86   16.7      4.16     6   1\n",
      "7   165.9  61    8.48     2.33   15.0      4.10    10   1\n",
      "8   178.3  72    7.33     2.40   10.5      4.02     7   1\n",
      "9   174.5  66    8.61     2.00   12.5      5.02     3   1\n",
      "10  169.1  56    7.66     2.30   12.3      4.00    12   1\n",
      "11  163.3  61    7.35     1.80   14.0      5.00    10   1\n",
      "12  171.3  60    7.44     2.10   18.6      4.15     7   1\n",
      "13  168.1  49    8.18     2.09   15.5      4.04     8   1\n",
      "14  168.5  56    7.96     2.03   12.0      3.59     3   1\n",
      "15  164.4  46    7.51     1.89   23.0      4.01     4   1\n",
      "16  169.5  53    8.09     2.11   17.5      3.48     4   1\n",
      "17  170.4  55    8.00     2.10   17.0      3.40     5   1\n",
      "18  170.9  53    9.22     1.82   17.0      4.44     4   1\n",
      "19  159.8  58    7.99     1.93   15.0      4.06     7   1\n",
      "20  172.8  68    9.08     1.94   18.0      4.19     1   1\n",
      "21  171.6  66    7.03     2.40   21.0      3.39     8   1\n",
      "22  164.6  58    7.21     2.26   13.0      3.53     8   1\n",
      "23  166.0  49    7.81     2.35   15.0      3.52     5   1\n",
      "24  168.8  64   10.20     2.09   16.0      4.22     1   1\n",
      "25  168.0  47   11.25     2.04   14.5      4.55     3   1\n",
      "26  175.5  54    7.55     2.17   14.0      4.07     9   1\n",
      "27  164.0  51    6.65     2.52   21.0      3.42     5   1\n",
      "28  168.5  48    7.50     2.11   13.0      4.02     4   1\n",
      "29  162.5  59    7.39     2.40   17.0      4.01    11   1\n",
      "30  158.3  48    8.46     2.02   16.0      4.43    10   1\n",
      "31  158.6  51    8.07     1.82   16.5      4.21    10   1\n",
      "32  155.8  48    8.43     1.92   15.5      4.57    10   1\n",
      "33  171.0  56    7.50     2.14   16.0      4.00    11   1\n",
      "34  167.8  50    7.80     2.10   18.0      3.47     3   1\n",
      "35  169.2  58    7.77     2.30   14.0      3.52     4   1\n",
      "36  162.3  50    7.30     2.15   15.5      4.00    11   1\n",
      "37  163.2  58    7.44     2.10   15.0      3.58     5   1\n",
      "38  157.5  43    8.06     1.90   15.0      4.12     2   1\n",
      "39  164.0  51    6.65     2.52   21.0      3.42     5   1\n"
     ]
    }
   ],
   "source": [
    "d2 = pd.read_excel(\"C:/Users/Administrator/Desktop/王雪梅/男生体质数据.xls\",sheetname=\"啦啦操\")\n",
    "#d2['1000米（分）']=d2['1000米（分）'].map(lambda x : x[:4]) \n",
    "d2['类别'] = 1\n",
    "print(d2)"
   ]
  },
  {
   "cell_type": "code",
   "execution_count": 36,
   "metadata": {},
   "outputs": [
    {
     "name": "stdout",
     "output_type": "stream",
     "text": [
      "      身高  体重  50米（秒）  立定跳远（米）  坐位体前屈 1000米（分）  引体向上  类别\n",
      "0  173.8  70    6.99     2.60    4.0     4.38     8   3\n",
      "1  166.9  50    7.15     2.46    7.7     3.59    12   3\n",
      "2  170.8  59    6.83     2.23   18.3     4.11     8   3\n",
      "3  167.9  55    6.75     1.93   14.0     3.28    15   3\n",
      "4  171.2  61    7.17     2.52    1.0     3.32    15   3\n",
      "      身高    体重  50米（秒）  立定跳远（米）  坐位体前屈 1000米（分）  引体向上  类别\n",
      "0  167.5  49.0    8.00     2.22    8.5     3.48     5   4\n",
      "1  165.9  61.0    8.48     2.33   15.0     4.10     2   4\n",
      "2  171.2  61.0    7.17     2.52    1.0     3.32     9   4\n",
      "3  154.0  41.0    8.66     1.82   -1.0     4.01     4   4\n",
      "4  174.1  50.0    7.32     2.08   19.0     3.55     7   4\n"
     ]
    }
   ],
   "source": [
    "d3 = pd.read_excel(\"C:/Users/Administrator/Desktop/王雪梅/男生体质数据.xls\",sheetname=\"田径\")\n",
    "d3['1000米（分）']=d3['1000米（分）'].map(lambda x : x[:4]) \n",
    "d3['类别'] = 3\n",
    "print(d3.head())\n",
    "d4 = pd.read_excel(\"C:/Users/Administrator/Desktop/王雪梅/男生体质数据.xls\",sheetname=\"足球\")\n",
    "d4['1000米（分）']=d4['1000米（分）'].map(lambda x : x[:4]) \n",
    "d4['类别'] = 4\n",
    "print(d4.head())\n"
   ]
  },
  {
   "cell_type": "code",
   "execution_count": 40,
   "metadata": {
    "collapsed": true
   },
   "outputs": [],
   "source": [
    "# 如何将数据框进行合并\n",
    "nd=pd.concat([d1,d2,d3,d4],axis=0)\n"
   ]
  },
  {
   "cell_type": "code",
   "execution_count": 44,
   "metadata": {},
   "outputs": [
    {
     "name": "stdout",
     "output_type": "stream",
     "text": [
      "      身高  体重  50米（秒）  立定跳远（米）  坐位体前屈 1000米（分）  引体向上  类别\n",
      "0  173.8  70    6.99     2.60    4.0     4.38     8   3\n",
      "1  166.9  50    7.15     2.46    7.7     3.59    12   3\n",
      "2  170.8  59    6.83     2.23   18.3     4.11     8   3\n",
      "3  167.9  55    6.75     1.93   14.0     3.28    15   3\n",
      "4  171.2  61    7.17     2.52    1.0     3.32    15   3\n",
      "   体脂百分数  身体脂肪量  去脂体重   腰臀比   BMI  类别\n",
      "0    7.2    3.4  46.6  0.64  17.3   4\n",
      "1   15.8   11.3  60.0  0.77  22.1   4\n",
      "2   14.9    7.0  54.0  0.76  20.9   4\n",
      "3    3.2    1.7  39.3  0.64  17.3   4\n",
      "4    8.9    3.2  46.8  0.64  16.5   4\n"
     ]
    }
   ],
   "source": [
    "d11 = pd.read_excel(\"C:/Users/Administrator/Desktop/王雪梅/男生身体成分.xls\",sheetname=\"篮球\")\n",
    "d11['类别'] = 2\n",
    "d22 = pd.read_excel(\"C:/Users/Administrator/Desktop/王雪梅/男生身体成分.xls\",sheetname=\"啦啦操\")\n",
    "#d2['1000米（分）']=d2['1000米（分）'].map(lambda x : x[:4]) \n",
    "d22['类别'] = 1\n",
    "\n",
    "d33 = pd.read_excel(\"C:/Users/Administrator/Desktop/王雪梅/男生身体成分.xls\",sheetname=\"田径\")\n",
    "#d3['1000米（分）']=d3['1000米（分）'].map(lambda x : x[:4]) \n",
    "d33['类别'] = 3\n",
    "print(d3.head())\n",
    "d44 = pd.read_excel(\"C:/Users/Administrator/Desktop/王雪梅/男生身体成分.xls\",sheetname=\"足球\")\n",
    "#d4['1000米（分）']=d4['1000米（分）'].map(lambda x : x[:4]) \n",
    "d44['类别'] = 4\n",
    "print(d44.head())\n",
    "ndd=pd.concat([d11,d22,d33,d44],axis=0)\n",
    "newdata=pd.concat([nd,ndd[['腰臀比','体脂百分数','BMI']]],axis=1)"
   ]
  },
  {
   "cell_type": "code",
   "execution_count": 47,
   "metadata": {},
   "outputs": [
    {
     "name": "stdout",
     "output_type": "stream",
     "text": [
      "      身高    体重  50米（秒）  立定跳远（米）  坐位体前屈 1000米（分）  引体向上  类别   腰臀比  体脂百分数   BMI\n",
      "0  168.5  57.0    9.49     2.47    6.0     4.00     2   2  0.69   11.0  20.1\n",
      "1  170.4  55.0    8.00     2.17   17.0     3.40     5   2  0.65    8.2  19.0\n",
      "2  176.3  58.0    7.78     2.52    2.0     3.27     4   2  0.64    7.0  18.6\n",
      "3  168.3  55.0   10.55     2.10    0.0     3.41     6   2  0.71   10.5  19.5\n",
      "4  176.5  60.0    7.94     2.46    1.5     3.56     8   2  0.64    7.3  19.5\n",
      "Index(['身高', '体重', '50米（秒）', '立定跳远（米）', '坐位体前屈', '1000米（分）', '引体向上', '类别',\n",
      "       '腰臀比', '体脂百分数', 'BMI'],\n",
      "      dtype='object')\n"
     ]
    }
   ],
   "source": [
    "print(newdata.head())\n",
    "print(newdata.columns)"
   ]
  },
  {
   "cell_type": "code",
   "execution_count": 46,
   "metadata": {
    "collapsed": true
   },
   "outputs": [],
   "source": [
    "from statsmodels.stats.correlation_tools import  corr_clipped"
   ]
  },
  {
   "cell_type": "code",
   "execution_count": 53,
   "metadata": {},
   "outputs": [
    {
     "ename": "SyntaxError",
     "evalue": "unexpected EOF while parsing (<ipython-input-53-a75bc94b83aa>, line 3)",
     "output_type": "error",
     "traceback": [
      "\u001b[1;36m  File \u001b[1;32m\"<ipython-input-53-a75bc94b83aa>\"\u001b[1;36m, line \u001b[1;32m3\u001b[0m\n\u001b[1;33m    print(corr_clipped(newdata[['身高','体重','BMI']])\u001b[0m\n\u001b[1;37m                                                  ^\u001b[0m\n\u001b[1;31mSyntaxError\u001b[0m\u001b[1;31m:\u001b[0m unexpected EOF while parsing\n"
     ]
    }
   ],
   "source": [
    "#print(newdata.describe())\n",
    "#print(newdata.info())\n",
    "#print(corr_clipped(newdata[['身高','体重','BMI']])"
   ]
  },
  {
   "cell_type": "code",
   "execution_count": 66,
   "metadata": {},
   "outputs": [
    {
     "name": "stdout",
     "output_type": "stream",
     "text": [
      "       身高    体重  50米（秒）  立定跳远（米）  坐位体前屈 1000米（分）  引体向上  类别   腰臀比  体脂百分数   BMI\n",
      "0   159.6  49.0    7.42     2.21   14.0     3.29     0   1  0.65    8.3  19.4\n",
      "1   173.4  57.0    7.56     2.30   25.0     3.41     3   1  0.68   10.3  19.7\n",
      "2   170.3  59.0    6.83     2.23   18.3     4.11     4   1  0.76   14.2  20.4\n",
      "3   169.5  53.0    7.41     2.11   14.0        4     4   1  0.64    6.0  18.6\n",
      "4   163.5  55.0    7.88     2.08   13.5      4.3     4   1  0.76   14.9  20.7\n",
      "5   167.9  55.0    6.75     1.93   14.0     3.28     5   1  0.65    8.3  19.1\n",
      "6   168.6  60.0    7.47     1.86   16.7     4.16     6   1  0.72   13.0  21.3\n",
      "7   165.9  61.0    8.48     2.33   15.0      4.1    10   1  0.80   19.7  22.1\n",
      "8   178.3  72.0    7.33     2.40   10.5     4.02     7   1  0.80   18.7  22.4\n",
      "9   174.5  66.0    8.61     2.00   12.5     5.02     3   1  0.78   16.4  21.8\n",
      "10  169.1  56.0    7.66     2.30   12.3        4    12   1  0.66    9.1  19.6\n",
      "11  163.3  61.0    7.35     1.80   14.0        5    10   1  0.78   16.7  23.0\n",
      "12  171.3  60.0    7.44     2.10   18.6     4.15     7   1  0.76   14.9  20.5\n",
      "13  168.1  49.0    8.18     2.09   15.5     4.04     8   1  0.64    3.3  17.3\n",
      "14  168.5  56.0    7.96     2.03   12.0     3.59     3   1  0.72    7.9  19.8\n",
      "15  164.4  46.0    7.51     1.89   23.0     4.01     4   1  0.65    4.9  17.1\n",
      "16  169.5  53.0    8.09     2.11   17.5     3.48     4   1  0.68   10.6  18.3\n",
      "17  170.4  55.0    8.00     2.10   17.0      3.4     5   1  0.70   11.2  19.0\n",
      "18  170.9  53.0    9.22     1.82   17.0     4.44     4   1  0.69    6.5  18.6\n",
      "19  159.8  58.0    7.99     1.93   15.0     4.06     7   1  0.78   20.3  22.7\n",
      "20  172.8  68.0    9.08     1.94   18.0     4.19     1   1  0.80   21.3  23.0\n",
      "21  171.6  66.0    7.03     2.40   21.0     3.39     8   1  0.78   19.6  22.6\n",
      "22  164.6  58.0    7.21     2.26   13.0     3.53     8   1  0.74   18.4  21.3\n",
      "23  166.0  49.0    7.81     2.35   15.0     3.52     5   1  0.68    7.6  17.8\n",
      "24  168.8  64.0   10.20     2.09   16.0     4.22     1   1  0.76   13.6  22.4\n",
      "25  168.0  47.0   11.25     2.04   14.5     4.55     3   1  0.66    4.9  16.7\n",
      "26  175.5  54.0    7.55     2.17   14.0     4.07     9   1  0.68    8.1  17.4\n",
      "27  164.0  51.0    6.65     2.52   21.0     3.42     5   1  0.70   10.1  19.0\n",
      "28  168.5  48.0    7.50     2.11   13.0     4.02     4   1  0.68    8.6  17.2\n",
      "29  162.5  59.0    7.39     2.40   17.0     4.01    11   1  0.81   13.5  22.2\n",
      "30  158.3  48.0    8.46     2.02   16.0     4.43    10   1  0.70    9.6  19.2\n",
      "31  158.6  51.0    8.07     1.82   16.5     4.21    10   1  0.72   10.3  20.4\n",
      "32  155.8  48.0    8.43     1.92   15.5     4.57    10   1  0.71    9.8  19.7\n",
      "33  171.0  56.0    7.50     2.14   16.0        4    11   1  0.70   10.1  19.2\n",
      "34  167.8  50.0    7.80     2.10   18.0     3.47     3   1  0.66    8.1  17.7\n",
      "35  169.2  58.0    7.77     2.30   14.0     3.52     4   1  0.76   13.9  20.3\n",
      "36  162.3  50.0    7.30     2.15   15.5        4    11   1  0.71   12.6  19.1\n",
      "37  163.2  58.0    7.44     2.10   15.0     3.58     5   1  0.78   17.8  21.8\n",
      "38  157.5  43.0    8.06     1.90   15.0     4.12     2   1  0.68    8.9  17.2\n",
      "39  164.0  51.0    6.65     2.52   21.0     3.42     5   1  0.70   11.6  18.9\n"
     ]
    }
   ],
   "source": [
    "import statsmodels.api as sm\n",
    "#y = newdata.BMI\n",
    "x1 = newdata.loc[newdata['类别']==1,:]\n",
    "x2 = newdata.loc[newdata['类别']==2,:]\n",
    "x3 = newdata.loc[newdata['类别']==3,:]\n",
    "x4 = newdata.loc[newdata['类别']==4,:]\n",
    "#print(y.head(),x)\n",
    "#model = sm.OLS(y, x)\n",
    "#results = model.fit()\n",
    "#print(results.summary())\n",
    "print(x1)"
   ]
  },
  {
   "cell_type": "code",
   "execution_count": 80,
   "metadata": {
    "collapsed": true
   },
   "outputs": [],
   "source": [
    "import numpy as np\n",
    "newdata.to_csv(\"C:/Users/Administrator/Desktop/篮球.csv\")\n",
    "#x2.to_csv(\"C:/Users/Administrator/Desktop/啦啦操.csv\")\n",
    "#x3.to_csv(\"C:/Users/Administrator/Desktop/田径.csv\")\n",
    "#x4.to_csv(\"C:/Users/Administrator/Desktop/足球.csv\")\n",
    "#write.\n"
   ]
  },
  {
   "cell_type": "code",
   "execution_count": 81,
   "metadata": {},
   "outputs": [
    {
     "name": "stdout",
     "output_type": "stream",
     "text": [
      "      身高  体重  50米（秒）  立定跳远（米）  坐位体前屈  800米（分）  1分钟仰卧起坐\n",
      "0  158.5  58     8.6     1.61   21.0     3.51       36\n",
      "1  162.0  56     8.5     1.81   15.9     4.01       22\n",
      "2  159.0  55     7.9     1.79   16.2     3.56       34\n",
      "3  154.0  46     8.2     1.76   16.3     3.45       28\n",
      "4  159.0  50     8.4     1.82   16.8     3.28       38\n"
     ]
    }
   ],
   "source": [
    "d1 = pd.read_excel(\"C:/Users/Administrator/Desktop/王雪梅/女生体质测试.xls\",sheetname=\"篮球\")\n",
    "print(d1.head())"
   ]
  },
  {
   "cell_type": "code",
   "execution_count": 128,
   "metadata": {},
   "outputs": [
    {
     "name": "stdout",
     "output_type": "stream",
     "text": [
      "    身高    体重  50米（秒）  立定跳远（米）  坐位体前屈  800米（分）  1分钟仰卧起坐  类别\n",
      "0  157  55.8     8.0     1.57   20.5     3.43       30   4\n",
      "1  155  44.8     8.1     1.50   20.5     3.55       31   4\n",
      "2  158  61.0     8.6     1.61   21.0     3.51       36   4\n",
      "3  158  62.4     8.6     1.65   17.5     4.19       34   4\n",
      "4  162  62.2     8.6     1.85   20.0     3.57       45   4\n"
     ]
    }
   ],
   "source": [
    "dn1 = pd.read_excel(\"C:/Users/Administrator/Desktop/王雪梅/女生体质测试.xls\",sheetname=\"篮球\")\n",
    "dn1['类别'] = 1\n",
    "dn2 = pd.read_excel(\"C:/Users/Administrator/Desktop/王雪梅/女生体质测试.xls\",sheetname=\"有氧啦啦操\")\n",
    "dn2['类别'] = 2\n",
    "dn3 = pd.read_excel(\"C:/Users/Administrator/Desktop/王雪梅/女生体质测试.xls\",sheetname=\"足球\")\n",
    "dn3['类别'] = 3\n",
    "#print(d3.head())\n",
    "dn4 = pd.read_excel(\"C:/Users/Administrator/Desktop/王雪梅/女生体质测试.xls\",sheetname=\"田径\")\n",
    "dn4['类别'] = 4\n",
    "dn5 = pd.read_excel(\"C:/Users/Administrator/Desktop/王雪梅/女生体质测试.xls\",sheetname=\"缺乏锻炼\")\n",
    "dn5['类别'] = 5\n",
    "\n",
    "print(dn4.head())\n",
    "nvd=pd.concat([dn1,dn2,dn3,dn4,dn5],axis=0)\n",
    "#nvdata=pd.concat([nd,ndd[['腰臀比','体脂百分数','BMI']]],axis=1)\n",
    "#print(nvd)\n"
   ]
  },
  {
   "cell_type": "code",
   "execution_count": 129,
   "metadata": {},
   "outputs": [
    {
     "name": "stdout",
     "output_type": "stream",
     "text": [
      "Index(['身高', '体重', '50米（秒）', '立定跳远（米）', '坐位体前屈', '800米（分）', '1分钟仰卧起坐', '类别'], dtype='object')\n"
     ]
    }
   ],
   "source": [
    "print(nvd.columns)"
   ]
  },
  {
   "cell_type": "code",
   "execution_count": 130,
   "metadata": {
    "collapsed": true
   },
   "outputs": [],
   "source": [
    "nvd['类型'] = nvd['类别'].map({1:\"篮球\",2:\"有氧啦啦操\",3:\"足球\",4:\"田径\",5:\"缺乏锻炼\"})  #map 函数需要  有（）  然后 用 大括号。"
   ]
  },
  {
   "cell_type": "code",
   "execution_count": 140,
   "metadata": {
    "collapsed": true
   },
   "outputs": [],
   "source": [
    "nvd.to_csv(\"C:/Users/Administrator/Desktop/nvd.csv\")\n",
    "#tx = nvd.groupby('类型').mean()\n",
    "#tx.to_csv(\"C:/Users/Administrator/Desktop/nvsong.csv\")"
   ]
  },
  {
   "cell_type": "code",
   "execution_count": 141,
   "metadata": {
    "collapsed": true
   },
   "outputs": [],
   "source": [
    "dn11 = pd.read_excel(\"C:/Users/Administrator/Desktop/王雪梅/女生身体成分.xls\",sheetname=\"篮球\")\n",
    "dn11['类别'] = 1\n",
    "dn22 = pd.read_excel(\"C:/Users/Administrator/Desktop/王雪梅/女生身体成分.xls\",sheetname=\"啦啦操\")\n",
    "dn22['类别'] = 2\n",
    "dn33 = pd.read_excel(\"C:/Users/Administrator/Desktop/王雪梅/女生身体成分.xls\",sheetname=\"足球\")\n",
    "dn33['类别'] = 3\n",
    "#print(d3.head())\n",
    "dn44 = pd.read_excel(\"C:/Users/Administrator/Desktop/王雪梅/女生身体成分.xls\",sheetname=\"田径\")\n",
    "dn44['类别'] = 4\n",
    "\n",
    "nvdd=pd.concat([dn11,dn22,dn33,dn44],axis=0)\n",
    "\n",
    "nvdd.to_csv(\"C:/Users/Administrator/Desktop/nvdd.csv\")"
   ]
  },
  {
   "cell_type": "code",
   "execution_count": 139,
   "metadata": {},
   "outputs": [
    {
     "name": "stdout",
     "output_type": "stream",
     "text": [
      "      身高    体重  50米（秒）  立定跳远（米）  坐位体前屈  800米（分）  1分钟仰卧起坐  类别  类型\n",
      "0  158.5  58.0     8.6     1.61   21.0     3.51       36   1  篮球\n",
      "1  162.0  56.0     8.5     1.81   15.9     4.01       22   1  篮球\n",
      "2  159.0  55.0     7.9     1.79   16.2     3.56       34   1  篮球\n",
      "3  154.0  46.0     8.2     1.76   16.3     3.45       28   1  篮球\n",
      "4  159.0  50.0     8.4     1.82   16.8     3.28       38   1  篮球\n",
      "   体脂百分比   腰臀比   BMI  类别\n",
      "0   23.8  0.78  23.2   1\n",
      "1   23.9  0.71  21.3   1\n",
      "2   24.1  0.71  21.8   1\n",
      "3   21.8  0.71  19.3   1\n",
      "4   22.0  0.71  19.8   1\n"
     ]
    },
    {
     "ename": "InvalidIndexError",
     "evalue": "Reindexing only valid with uniquely valued Index objects",
     "output_type": "error",
     "traceback": [
      "\u001b[1;31m---------------------------------------------------------------------------\u001b[0m",
      "\u001b[1;31mInvalidIndexError\u001b[0m                         Traceback (most recent call last)",
      "\u001b[1;32m<ipython-input-139-6b8381226e60>\u001b[0m in \u001b[0;36m<module>\u001b[1;34m()\u001b[0m\n\u001b[0;32m      2\u001b[0m \u001b[0mprint\u001b[0m\u001b[1;33m(\u001b[0m\u001b[0mnvd\u001b[0m\u001b[1;33m.\u001b[0m\u001b[0mhead\u001b[0m\u001b[1;33m(\u001b[0m\u001b[1;33m)\u001b[0m\u001b[1;33m)\u001b[0m\u001b[1;33m\u001b[0m\u001b[0m\n\u001b[0;32m      3\u001b[0m \u001b[0mprint\u001b[0m\u001b[1;33m(\u001b[0m\u001b[0mnvdd\u001b[0m\u001b[1;33m.\u001b[0m\u001b[0mhead\u001b[0m\u001b[1;33m(\u001b[0m\u001b[1;33m)\u001b[0m\u001b[1;33m)\u001b[0m\u001b[1;33m\u001b[0m\u001b[0m\n\u001b[1;32m----> 4\u001b[1;33m \u001b[0mnvddd\u001b[0m\u001b[1;33m=\u001b[0m\u001b[0mpd\u001b[0m\u001b[1;33m.\u001b[0m\u001b[0mconcat\u001b[0m\u001b[1;33m(\u001b[0m\u001b[1;33m[\u001b[0m\u001b[0mnvd\u001b[0m\u001b[1;33m,\u001b[0m\u001b[0mnvdd\u001b[0m\u001b[1;33m[\u001b[0m\u001b[1;33m[\u001b[0m\u001b[1;34m'体脂百分比'\u001b[0m\u001b[1;33m,\u001b[0m \u001b[1;34m'腰臀比'\u001b[0m\u001b[1;33m,\u001b[0m \u001b[1;34m'BMI'\u001b[0m\u001b[1;33m]\u001b[0m\u001b[1;33m]\u001b[0m\u001b[1;33m]\u001b[0m\u001b[1;33m,\u001b[0m\u001b[0maxis\u001b[0m\u001b[1;33m=\u001b[0m\u001b[1;36m1\u001b[0m\u001b[1;33m)\u001b[0m\u001b[1;33m\u001b[0m\u001b[0m\n\u001b[0m\u001b[0;32m      5\u001b[0m \u001b[0mprint\u001b[0m\u001b[1;33m(\u001b[0m\u001b[0mnvddd\u001b[0m\u001b[1;33m.\u001b[0m\u001b[0mhead\u001b[0m\u001b[1;33m(\u001b[0m\u001b[1;33m)\u001b[0m\u001b[1;33m)\u001b[0m\u001b[1;33m\u001b[0m\u001b[0m\n",
      "\u001b[1;32mE:\\ana\\lib\\site-packages\\pandas\\core\\reshape\\concat.py\u001b[0m in \u001b[0;36mconcat\u001b[1;34m(objs, axis, join, join_axes, ignore_index, keys, levels, names, verify_integrity, copy)\u001b[0m\n\u001b[0;32m    204\u001b[0m                        \u001b[0mkeys\u001b[0m\u001b[1;33m=\u001b[0m\u001b[0mkeys\u001b[0m\u001b[1;33m,\u001b[0m \u001b[0mlevels\u001b[0m\u001b[1;33m=\u001b[0m\u001b[0mlevels\u001b[0m\u001b[1;33m,\u001b[0m \u001b[0mnames\u001b[0m\u001b[1;33m=\u001b[0m\u001b[0mnames\u001b[0m\u001b[1;33m,\u001b[0m\u001b[1;33m\u001b[0m\u001b[0m\n\u001b[0;32m    205\u001b[0m                        \u001b[0mverify_integrity\u001b[0m\u001b[1;33m=\u001b[0m\u001b[0mverify_integrity\u001b[0m\u001b[1;33m,\u001b[0m\u001b[1;33m\u001b[0m\u001b[0m\n\u001b[1;32m--> 206\u001b[1;33m                        copy=copy)\n\u001b[0m\u001b[0;32m    207\u001b[0m     \u001b[1;32mreturn\u001b[0m \u001b[0mop\u001b[0m\u001b[1;33m.\u001b[0m\u001b[0mget_result\u001b[0m\u001b[1;33m(\u001b[0m\u001b[1;33m)\u001b[0m\u001b[1;33m\u001b[0m\u001b[0m\n\u001b[0;32m    208\u001b[0m \u001b[1;33m\u001b[0m\u001b[0m\n",
      "\u001b[1;32mE:\\ana\\lib\\site-packages\\pandas\\core\\reshape\\concat.py\u001b[0m in \u001b[0;36m__init__\u001b[1;34m(self, objs, axis, join, join_axes, keys, levels, names, ignore_index, verify_integrity, copy)\u001b[0m\n\u001b[0;32m    352\u001b[0m         \u001b[0mself\u001b[0m\u001b[1;33m.\u001b[0m\u001b[0mcopy\u001b[0m \u001b[1;33m=\u001b[0m \u001b[0mcopy\u001b[0m\u001b[1;33m\u001b[0m\u001b[0m\n\u001b[0;32m    353\u001b[0m \u001b[1;33m\u001b[0m\u001b[0m\n\u001b[1;32m--> 354\u001b[1;33m         \u001b[0mself\u001b[0m\u001b[1;33m.\u001b[0m\u001b[0mnew_axes\u001b[0m \u001b[1;33m=\u001b[0m \u001b[0mself\u001b[0m\u001b[1;33m.\u001b[0m\u001b[0m_get_new_axes\u001b[0m\u001b[1;33m(\u001b[0m\u001b[1;33m)\u001b[0m\u001b[1;33m\u001b[0m\u001b[0m\n\u001b[0m\u001b[0;32m    355\u001b[0m \u001b[1;33m\u001b[0m\u001b[0m\n\u001b[0;32m    356\u001b[0m     \u001b[1;32mdef\u001b[0m \u001b[0mget_result\u001b[0m\u001b[1;33m(\u001b[0m\u001b[0mself\u001b[0m\u001b[1;33m)\u001b[0m\u001b[1;33m:\u001b[0m\u001b[1;33m\u001b[0m\u001b[0m\n",
      "\u001b[1;32mE:\\ana\\lib\\site-packages\\pandas\\core\\reshape\\concat.py\u001b[0m in \u001b[0;36m_get_new_axes\u001b[1;34m(self)\u001b[0m\n\u001b[0;32m    427\u001b[0m                 \u001b[1;32mif\u001b[0m \u001b[0mi\u001b[0m \u001b[1;33m==\u001b[0m \u001b[0mself\u001b[0m\u001b[1;33m.\u001b[0m\u001b[0maxis\u001b[0m\u001b[1;33m:\u001b[0m\u001b[1;33m\u001b[0m\u001b[0m\n\u001b[0;32m    428\u001b[0m                     \u001b[1;32mcontinue\u001b[0m\u001b[1;33m\u001b[0m\u001b[0m\n\u001b[1;32m--> 429\u001b[1;33m                 \u001b[0mnew_axes\u001b[0m\u001b[1;33m[\u001b[0m\u001b[0mi\u001b[0m\u001b[1;33m]\u001b[0m \u001b[1;33m=\u001b[0m \u001b[0mself\u001b[0m\u001b[1;33m.\u001b[0m\u001b[0m_get_comb_axis\u001b[0m\u001b[1;33m(\u001b[0m\u001b[0mi\u001b[0m\u001b[1;33m)\u001b[0m\u001b[1;33m\u001b[0m\u001b[0m\n\u001b[0m\u001b[0;32m    430\u001b[0m         \u001b[1;32melse\u001b[0m\u001b[1;33m:\u001b[0m\u001b[1;33m\u001b[0m\u001b[0m\n\u001b[0;32m    431\u001b[0m             \u001b[1;32mif\u001b[0m \u001b[0mlen\u001b[0m\u001b[1;33m(\u001b[0m\u001b[0mself\u001b[0m\u001b[1;33m.\u001b[0m\u001b[0mjoin_axes\u001b[0m\u001b[1;33m)\u001b[0m \u001b[1;33m!=\u001b[0m \u001b[0mndim\u001b[0m \u001b[1;33m-\u001b[0m \u001b[1;36m1\u001b[0m\u001b[1;33m:\u001b[0m\u001b[1;33m\u001b[0m\u001b[0m\n",
      "\u001b[1;32mE:\\ana\\lib\\site-packages\\pandas\\core\\reshape\\concat.py\u001b[0m in \u001b[0;36m_get_comb_axis\u001b[1;34m(self, i)\u001b[0m\n\u001b[0;32m    453\u001b[0m                 \u001b[1;32mraise\u001b[0m \u001b[0mTypeError\u001b[0m\u001b[1;33m(\u001b[0m\u001b[1;34m\"Cannot concatenate list of %s\"\u001b[0m \u001b[1;33m%\u001b[0m \u001b[0mtypes\u001b[0m\u001b[1;33m)\u001b[0m\u001b[1;33m\u001b[0m\u001b[0m\n\u001b[0;32m    454\u001b[0m \u001b[1;33m\u001b[0m\u001b[0m\n\u001b[1;32m--> 455\u001b[1;33m         \u001b[1;32mreturn\u001b[0m \u001b[0m_get_combined_index\u001b[0m\u001b[1;33m(\u001b[0m\u001b[0mall_indexes\u001b[0m\u001b[1;33m,\u001b[0m \u001b[0mintersect\u001b[0m\u001b[1;33m=\u001b[0m\u001b[0mself\u001b[0m\u001b[1;33m.\u001b[0m\u001b[0mintersect\u001b[0m\u001b[1;33m)\u001b[0m\u001b[1;33m\u001b[0m\u001b[0m\n\u001b[0m\u001b[0;32m    456\u001b[0m \u001b[1;33m\u001b[0m\u001b[0m\n\u001b[0;32m    457\u001b[0m     \u001b[1;32mdef\u001b[0m \u001b[0m_get_concat_axis\u001b[0m\u001b[1;33m(\u001b[0m\u001b[0mself\u001b[0m\u001b[1;33m)\u001b[0m\u001b[1;33m:\u001b[0m\u001b[1;33m\u001b[0m\u001b[0m\n",
      "\u001b[1;32mE:\\ana\\lib\\site-packages\\pandas\\core\\indexes\\api.py\u001b[0m in \u001b[0;36m_get_combined_index\u001b[1;34m(indexes, intersect)\u001b[0m\n\u001b[0;32m     41\u001b[0m             \u001b[0mindex\u001b[0m \u001b[1;33m=\u001b[0m \u001b[0mindex\u001b[0m\u001b[1;33m.\u001b[0m\u001b[0mintersection\u001b[0m\u001b[1;33m(\u001b[0m\u001b[0mother\u001b[0m\u001b[1;33m)\u001b[0m\u001b[1;33m\u001b[0m\u001b[0m\n\u001b[0;32m     42\u001b[0m         \u001b[1;32mreturn\u001b[0m \u001b[0mindex\u001b[0m\u001b[1;33m\u001b[0m\u001b[0m\n\u001b[1;32m---> 43\u001b[1;33m     \u001b[0munion\u001b[0m \u001b[1;33m=\u001b[0m \u001b[0m_union_indexes\u001b[0m\u001b[1;33m(\u001b[0m\u001b[0mindexes\u001b[0m\u001b[1;33m)\u001b[0m\u001b[1;33m\u001b[0m\u001b[0m\n\u001b[0m\u001b[0;32m     44\u001b[0m     \u001b[1;32mreturn\u001b[0m \u001b[0m_ensure_index\u001b[0m\u001b[1;33m(\u001b[0m\u001b[0munion\u001b[0m\u001b[1;33m)\u001b[0m\u001b[1;33m\u001b[0m\u001b[0m\n\u001b[0;32m     45\u001b[0m \u001b[1;33m\u001b[0m\u001b[0m\n",
      "\u001b[1;32mE:\\ana\\lib\\site-packages\\pandas\\core\\indexes\\api.py\u001b[0m in \u001b[0;36m_union_indexes\u001b[1;34m(indexes)\u001b[0m\n\u001b[0;32m     75\u001b[0m         \u001b[1;32melse\u001b[0m\u001b[1;33m:\u001b[0m\u001b[1;33m\u001b[0m\u001b[0m\n\u001b[0;32m     76\u001b[0m             \u001b[1;32mfor\u001b[0m \u001b[0mother\u001b[0m \u001b[1;32min\u001b[0m \u001b[0mindexes\u001b[0m\u001b[1;33m[\u001b[0m\u001b[1;36m1\u001b[0m\u001b[1;33m:\u001b[0m\u001b[1;33m]\u001b[0m\u001b[1;33m:\u001b[0m\u001b[1;33m\u001b[0m\u001b[0m\n\u001b[1;32m---> 77\u001b[1;33m                 \u001b[0mresult\u001b[0m \u001b[1;33m=\u001b[0m \u001b[0mresult\u001b[0m\u001b[1;33m.\u001b[0m\u001b[0munion\u001b[0m\u001b[1;33m(\u001b[0m\u001b[0mother\u001b[0m\u001b[1;33m)\u001b[0m\u001b[1;33m\u001b[0m\u001b[0m\n\u001b[0m\u001b[0;32m     78\u001b[0m             \u001b[1;32mreturn\u001b[0m \u001b[0mresult\u001b[0m\u001b[1;33m\u001b[0m\u001b[0m\n\u001b[0;32m     79\u001b[0m     \u001b[1;32melif\u001b[0m \u001b[0mkind\u001b[0m \u001b[1;33m==\u001b[0m \u001b[1;34m'array'\u001b[0m\u001b[1;33m:\u001b[0m\u001b[1;33m\u001b[0m\u001b[0m\n",
      "\u001b[1;32mE:\\ana\\lib\\site-packages\\pandas\\core\\indexes\\base.py\u001b[0m in \u001b[0;36munion\u001b[1;34m(self, other)\u001b[0m\n\u001b[0;32m   2123\u001b[0m                 \u001b[0mresult\u001b[0m\u001b[1;33m.\u001b[0m\u001b[0mextend\u001b[0m\u001b[1;33m(\u001b[0m\u001b[1;33m[\u001b[0m\u001b[0mx\u001b[0m \u001b[1;32mfor\u001b[0m \u001b[0mx\u001b[0m \u001b[1;32min\u001b[0m \u001b[0mother\u001b[0m\u001b[1;33m.\u001b[0m\u001b[0m_values\u001b[0m \u001b[1;32mif\u001b[0m \u001b[0mx\u001b[0m \u001b[1;32mnot\u001b[0m \u001b[1;32min\u001b[0m \u001b[0mvalue_set\u001b[0m\u001b[1;33m]\u001b[0m\u001b[1;33m)\u001b[0m\u001b[1;33m\u001b[0m\u001b[0m\n\u001b[0;32m   2124\u001b[0m         \u001b[1;32melse\u001b[0m\u001b[1;33m:\u001b[0m\u001b[1;33m\u001b[0m\u001b[0m\n\u001b[1;32m-> 2125\u001b[1;33m             \u001b[0mindexer\u001b[0m \u001b[1;33m=\u001b[0m \u001b[0mself\u001b[0m\u001b[1;33m.\u001b[0m\u001b[0mget_indexer\u001b[0m\u001b[1;33m(\u001b[0m\u001b[0mother\u001b[0m\u001b[1;33m)\u001b[0m\u001b[1;33m\u001b[0m\u001b[0m\n\u001b[0m\u001b[0;32m   2126\u001b[0m             \u001b[0mindexer\u001b[0m\u001b[1;33m,\u001b[0m \u001b[1;33m=\u001b[0m \u001b[1;33m(\u001b[0m\u001b[0mindexer\u001b[0m \u001b[1;33m==\u001b[0m \u001b[1;33m-\u001b[0m\u001b[1;36m1\u001b[0m\u001b[1;33m)\u001b[0m\u001b[1;33m.\u001b[0m\u001b[0mnonzero\u001b[0m\u001b[1;33m(\u001b[0m\u001b[1;33m)\u001b[0m\u001b[1;33m\u001b[0m\u001b[0m\n\u001b[0;32m   2127\u001b[0m \u001b[1;33m\u001b[0m\u001b[0m\n",
      "\u001b[1;32mE:\\ana\\lib\\site-packages\\pandas\\core\\indexes\\base.py\u001b[0m in \u001b[0;36mget_indexer\u001b[1;34m(self, target, method, limit, tolerance)\u001b[0m\n\u001b[0;32m   2532\u001b[0m \u001b[1;33m\u001b[0m\u001b[0m\n\u001b[0;32m   2533\u001b[0m         \u001b[1;32mif\u001b[0m \u001b[1;32mnot\u001b[0m \u001b[0mself\u001b[0m\u001b[1;33m.\u001b[0m\u001b[0mis_unique\u001b[0m\u001b[1;33m:\u001b[0m\u001b[1;33m\u001b[0m\u001b[0m\n\u001b[1;32m-> 2534\u001b[1;33m             raise InvalidIndexError('Reindexing only valid with uniquely'\n\u001b[0m\u001b[0;32m   2535\u001b[0m                                     ' valued Index objects')\n\u001b[0;32m   2536\u001b[0m \u001b[1;33m\u001b[0m\u001b[0m\n",
      "\u001b[1;31mInvalidIndexError\u001b[0m: Reindexing only valid with uniquely valued Index objects"
     ]
    }
   ],
   "source": [
    "#print(nvdd.columns)\n",
    "print(nvd.head())\n",
    "print(nvdd.head())\n",
    "nvddd=pd.concat([nvd,nvdd[['体脂百分比', '腰臀比', 'BMI']]],axis=1)\n",
    "print(nvddd.head())"
   ]
  },
  {
   "cell_type": "code",
   "execution_count": 119,
   "metadata": {},
   "outputs": [
    {
     "name": "stdout",
     "output_type": "stream",
     "text": [
      "[1 2 3 4 5]\n"
     ]
    },
    {
     "data": {
      "image/png": "[encoded data removed]",
      "text/plain": [
       "<matplotlib.figure.Figure at 0xc8177f0>"
      ]
     },
     "metadata": {},
     "output_type": "display_data"
    }
   ],
   "source": [
    "#import matplotlib.pyplot as plt\n",
    "import matplotlib.pyplot as plt\n",
    "%matplotlib inline\n",
    "# -*-coding: utf-8 -*-\n",
    "\n",
    "plt.figure(figsize=(10, 6))\n",
    "#xweek=range(0,len(data_week2015))\n",
    "#xweek1=[i+0.3 for i in xweek]\n",
    "r = nvd['类别'].unique()\n",
    "print(r)\n",
    "\n",
    "plt.bar(range(5),tx['身高'],color='g',width = .3,alpha=0.6)\n",
    "plt.xlabel('')\n",
    "plt.ylabel('均值')\n",
    "plt.title('身高分布')\n",
    "#plt.legend(loc='身高')\n",
    "plt.xticks(range(5),[\"篮球\",\"有氧啦啦操\",\"足球\",\"田径\",\"缺乏锻炼\"])\n",
    "plt.show()"
   ]
  },
  {
   "cell_type": "code",
   "execution_count": 115,
   "metadata": {},
   "outputs": [
    {
     "name": "stdout",
     "output_type": "stream",
     "text": [
      "[ 10.00367304  10.42750809  10.09280011   8.66745522  12.77785333]\n"
     ]
    },
    {
     "data": {
      "image/png": "[encoded data removed]",
      "text/plain": [
       "<matplotlib.figure.Figure at 0xc727908>"
      ]
     },
     "metadata": {},
     "output_type": "display_data"
    }
   ],
   "source": [
    "import matplotlib.pyplot as plt\n",
    "import numpy as np\n",
    "\n",
    "# Fixing random state for reproducibility\n",
    "np.random.seed(19680801)\n",
    "\n",
    "\n",
    "plt.rcdefaults()\n",
    "fig, ax = plt.subplots()\n",
    "\n",
    "# Example data\n",
    "people = ('Tom', 'Dick', 'Harry', 'Slim', 'Jim')\n",
    "y_pos = np.arange(len(people))\n",
    "performance = 3 + 10 * np.random.rand(len(people))\n",
    "\n",
    "print(performance)\n",
    "\n",
    "error = np.random.rand(len(people))\n",
    "\n",
    "ax.barh(y_pos, performance, xerr=error, align='center',\n",
    "        color='green', ecolor='black')\n",
    "ax.set_yticks(y_pos)\n",
    "ax.set_yticklabels(people)\n",
    "ax.invert_yaxis()  # labels read top-to-bottom\n",
    "ax.set_xlabel('Performance')\n",
    "ax.set_title('How fast do you want to go today?')\n",
    "\n",
    "plt.show()"
   ]
  },
  {
   "cell_type": "code",
   "execution_count": null,
   "metadata": {
    "collapsed": true
   },
   "outputs": [],
   "source": []
  }
 ],
 "metadata": {
  "kernelspec": {
   "display_name": "Python 3",
   "language": "python",
   "name": "python3"
  },
  "language_info": {
   "codemirror_mode": {
    "name": "ipython",
    "version": 3
   },
   "file_extension": ".py",
   "mimetype": "text/x-python",
   "name": "python",
   "nbconvert_exporter": "python",
   "pygments_lexer": "ipython3",
   "version": "3.6.1"
  }
 },
 "nbformat": 4,
 "nbformat_minor": 2
}
