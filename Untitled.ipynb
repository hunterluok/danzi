{
 "cells": [
  {
   "cell_type": "code",
   "execution_count": 1,
   "metadata": {
    "collapsed": true
   },
   "outputs": [],
   "source": [
    "import pandas as pd\n",
    "from pandas import read_excel\n"
   ]
  },
  {
   "cell_type": "code",
   "execution_count": 3,
   "metadata": {},
   "outputs": [],
   "source": [
    "jl = pd.read_excel(\"C:/Users/Administrator/Desktop/1227/jingli1227.xlsx\",sheetname=\"Sheet1\")"
   ]
  },
  {
   "cell_type": "code",
   "execution_count": 5,
   "metadata": {},
   "outputs": [],
   "source": [
    "yg = pd.read_excel(\"C:/Users/Administrator/Desktop/1227/yugoanng1226(1).xlsx\",sheetname=\"Sheet1\")"
   ]
  },
  {
   "cell_type": "code",
   "execution_count": 11,
   "metadata": {},
   "outputs": [
    {
     "name": "stdout",
     "output_type": "stream",
     "text": [
      "      单位  姓名 您的性别： 婚否： 配偶有无工作： 您的年龄段： 您的任职年限： 您的学历是： 您需要照顾的孩子数： 您最小孩子的年龄：  \\\n",
      "0  集团客户部  田洛     男   是       有  40-55   15年以上     硕士         1个     13-18   \n",
      "\n",
      "      ...     对工作涉及的工具、流程和方法，团队成员都很熟悉 团队成员提出新观点和尝试新方式时会得到成员支持  \\\n",
      "0     ...                           4                       4   \n",
      "\n",
      "  团队成员面对内外部环境的变化，会相互支持和信任  团队成员不断寻求改进团队工作的方法、方式与途径  团队成员常以私人而非官方公开的方式处理工作分歧  \\\n",
      "0                       4                        4                        2   \n",
      "\n",
      "   成员会从其他部门或对手那里获取信息改进团队工作  团队中总会有人提醒要反思团队工作问题  成员经常可以对工作问题的讨论畅所欲言  \\\n",
      "0                        4                   4                   4   \n",
      "\n",
      "   我们经常可以邀请外部专家进行讨论交流  领导成员交换（领导）  \n",
      "0                   4    3.777778  \n",
      "\n",
      "[1 rows x 23 columns]\n",
      "   编号     单位  姓名 直接经理 MIS系统内对应的岗位类别 您的性别： 婚否： 配偶有无工作： 您的年龄段： 您的任职年限：  ...   \\\n",
      "0   1  集团客户部  曾恒   曹驰           市场类     男   是      没有  31-35   6-10年  ...    \n",
      "\n",
      "  我在日常工作中总能够公平对待他人主动帮助他人 我维护组织和谐，不在公司内争权夺利勾心斗角 人际促进   周边绩效 我总能克服困难实现自己的工作目标  \\\n",
      "0                      4                     5  4.5  4.625                5   \n",
      "\n",
      "   我总能保质保量完成交办的工作任务  我总能创造性地实现自己的工作任务  我的任务完成得总是比同事更加出色  我总能在工作中提高自己的知识技能  \\\n",
      "0                 4                 4                 3                 4   \n",
      "\n",
      "   任务绩效  \n",
      "0   4.0  \n",
      "\n",
      "[1 rows x 104 columns]\n",
      "   编号   单位_x 姓名_x 直接经理 MIS系统内对应的岗位类别 您的性别：_x 婚否：_x 配偶有无工作：_x 您的年龄段：_x  \\\n",
      "0   1  集团客户部   曾恒   曹驰           市场类       男     是        没有    31-35   \n",
      "\n",
      "  您的任职年限：_x     ...     对工作涉及的工具、流程和方法，团队成员都很熟悉 团队成员提出新观点和尝试新方式时会得到成员支持  \\\n",
      "0     6-10年     ...                           4                       4   \n",
      "\n",
      "  团队成员面对内外部环境的变化，会相互支持和信任 团队成员不断寻求改进团队工作的方法、方式与途径 团队成员常以私人而非官方公开的方式处理工作分歧  \\\n",
      "0                       4                       3                       3   \n",
      "\n",
      "   成员会从其他部门或对手那里获取信息改进团队工作  团队中总会有人提醒要反思团队工作问题  成员经常可以对工作问题的讨论畅所欲言  \\\n",
      "0                        4                   4                   2   \n",
      "\n",
      "   我们经常可以邀请外部专家进行讨论交流  领导成员交换（领导）  \n",
      "0                   3    3.444444  \n",
      "\n",
      "[1 rows x 127 columns]\n"
     ]
    }
   ],
   "source": [
    "print(jl.head(1))\n",
    "print(yg.head(1))\n",
    "nd = pd.merge(yg,jl,left_on='直接经理',right_on='姓名')\n",
    "print(nd.head(1))"
   ]
  },
  {
   "cell_type": "code",
   "execution_count": 12,
   "metadata": {
    "collapsed": true
   },
   "outputs": [],
   "source": [
    "nd.to_excel(\"C:/Users/Administrator/Desktop/1227/nd.xlsx\")"
   ]
  },
  {
   "cell_type": "code",
   "execution_count": 14,
   "metadata": {},
   "outputs": [],
   "source": [
    "t = nd['直接经理'].groupby(nd['直接经理']).count()"
   ]
  },
  {
   "cell_type": "code",
   "execution_count": 15,
   "metadata": {},
   "outputs": [
    {
     "name": "stdout",
     "output_type": "stream",
     "text": [
      "(37,)\n"
     ]
    }
   ],
   "source": [
    "print(t.shape)"
   ]
  },
  {
   "cell_type": "code",
   "execution_count": null,
   "metadata": {
    "collapsed": true
   },
   "outputs": [],
   "source": []
  }
 ],
 "metadata": {
  "kernelspec": {
   "display_name": "Python 3",
   "language": "python",
   "name": "python3"
  },
  "language_info": {
   "codemirror_mode": {
    "name": "ipython",
    "version": 3
   },
   "file_extension": ".py",
   "mimetype": "text/x-python",
   "name": "python",
   "nbconvert_exporter": "python",
   "pygments_lexer": "ipython3",
   "version": "3.6.1"
  }
 },
 "nbformat": 4,
 "nbformat_minor": 2
}
