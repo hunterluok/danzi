{
 "cells": [
  {
   "cell_type": "code",
   "execution_count": null,
   "metadata": {
    "collapsed": true
   },
   "outputs": [],
   "source": [
    "import jieba.analyse\n",
    "from wordcloud import WordCloud,ImageColorGenerator\n",
    "from scipy.misc import imread\n",
    "import matplotlib.pyplot as plt\n",
    " \n",
    "class wc:\n",
    "    def __init__(self,txt_file,img_file,font_file):\n",
    "        self.f = open(txt_file,'r')\n",
    "        self.txt = self.f.read()\n",
    "        self.f.close()\n",
    "        self.tags = jieba.analyse.extract_tags(self.txt,topK=100)#topK说白了就是返回几个关键词\n",
    "        self.text = ' '.join(self.tags) #把分词链接起来，加空格因为英文靠空格分词\n",
    "        self.img = imread(img_file)\n",
    "        self.wc = WordCloud(font_path=font_file,background_color='white',max_words=100,mask=self.img,max_font_size=80)\n",
    "###直接在这里进行猜###\n",
    "#font_path指的是字体文件路径，因为wordcloud自带的字体不支持中文所以我们要指定一个字体文件，否者输出的图片全是框框\n",
    "#background_color 默认是黑色　我设置成白色\n",
    "#max_words最大显示的词数\n",
    "#mask 背景图片\n",
    "#max_font_size　最大字体字号\n",
    "        self.word_cloud = self.wc.generate(self.text)\n",
    " \n",
    "  def show_wc(self):#img_color = ImageColorGenerator(self.img)\n",
    "        plt.imshow(self.word_cloud) #可以通过 plt.imshow(self.wc.recolor(color_func=img_color))使图片颜色跟字体颜色一样\n",
    "        plt.axis(\"off\")\n",
    "        plt.show()\n",
    " \n",
    " \n",
    "if __name__=='__main__':\n",
    "    mywc = wc('sanwen.txt','out.png','font.ttc')\n",
    "    mywc.show_wc()"
   ]
  },
  {
   "cell_type": "code",
   "execution_count": 2,
   "metadata": {},
   "outputs": [
    {
     "name": "stdout",
     "output_type": "stream",
     "text": [
      "Yes Minister is a Political satire British sitcom written by Antony Jay and Jonathan Lynn that was first transmitted on BBC Two from 1980 to 1984, split over three seven-episode series. The sequel, Yes, Prime Minister, ran from 1986 to 1988. In total there were 38 episodes, of which all but one lasted half an hour. Almost all episodes ended with a variation of the title of the series spoken as the answer to a question posed by Hacker. Several episodes were adapted for BBC Radio, and a stage play was produced in 2010, the latter leading to a new television series on UKTV Gold in 2013.\n",
      "\n",
      "Set principally in the private office of a British Cabinet minister in the fictional Department of Administrative Affairs in Whitehall, Yes Minister follows the ministerial career of the Rt Hon Jim Hacker MP, played by Paul Eddington. His various struggles to formulate and enact legislation or effect departmental changes are opposed by the British Civil Service, in particular his Permanent Secretary, Sir Humphrey Appleby, played by Sir Nigel Hawthorne. His Principal Private Secretary Bernard Woolley, played by Derek Fowlds, is usually caught between the two. The sequel, Yes, Prime Minister, continued with the same cast and followed the events of the premiership of Jim Hacker after his unexpected elevation to Number 10 upon the resignation of the previous Prime Minister.\n",
      "\n",
      "The series received a number of awards, including several BAFTAs and in 2004 was voted sixth in the Britain's Best Sitcom poll. It was the favourite television programme of the then Prime Minister of the United Kingdom, Margaret Thatcher\n"
     ]
    }
   ],
   "source": [
    "filename = \"C:/Users/Administrator/Desktop/xxx.txt\"\n",
    "with open(filename) as f:\n",
    "    mytext = f.read()\n",
    "    print(mytext)"
   ]
  },
  {
   "cell_type": "code",
   "execution_count": 3,
   "metadata": {},
   "outputs": [
    {
     "ename": "ModuleNotFoundError",
     "evalue": "No module named 'wordcloud'",
     "output_type": "error",
     "traceback": [
      "\u001b[1;31m---------------------------------------------------------------------------\u001b[0m",
      "\u001b[1;31mModuleNotFoundError\u001b[0m                       Traceback (most recent call last)",
      "\u001b[1;32m<ipython-input-3-9bbe539df6a8>\u001b[0m in \u001b[0;36m<module>\u001b[1;34m()\u001b[0m\n\u001b[1;32m----> 1\u001b[1;33m \u001b[1;32mfrom\u001b[0m \u001b[0mwordcloud\u001b[0m \u001b[1;32mimport\u001b[0m \u001b[0mWordCloud\u001b[0m\u001b[1;33m\u001b[0m\u001b[0m\n\u001b[0m\u001b[0;32m      2\u001b[0m \u001b[0mwordcloud\u001b[0m \u001b[1;33m=\u001b[0m \u001b[0mWordCloud\u001b[0m\u001b[1;33m(\u001b[0m\u001b[1;33m)\u001b[0m\u001b[1;33m.\u001b[0m\u001b[0mgenerate\u001b[0m\u001b[1;33m(\u001b[0m\u001b[0mmytext\u001b[0m\u001b[1;33m)\u001b[0m\u001b[1;33m\u001b[0m\u001b[0m\n\u001b[0;32m      3\u001b[0m \u001b[0mget_ipython\u001b[0m\u001b[1;33m(\u001b[0m\u001b[1;33m)\u001b[0m\u001b[1;33m.\u001b[0m\u001b[0mmagic\u001b[0m\u001b[1;33m(\u001b[0m\u001b[1;34m'pylab inline'\u001b[0m\u001b[1;33m)\u001b[0m\u001b[1;33m\u001b[0m\u001b[0m\n\u001b[0;32m      4\u001b[0m \u001b[1;32mimport\u001b[0m \u001b[0mmatplotlib\u001b[0m\u001b[1;33m.\u001b[0m\u001b[0mpyplot\u001b[0m \u001b[1;32mas\u001b[0m \u001b[0mplt\u001b[0m\u001b[1;33m\u001b[0m\u001b[0m\n\u001b[0;32m      5\u001b[0m \u001b[0mplt\u001b[0m\u001b[1;33m.\u001b[0m\u001b[0mimshow\u001b[0m\u001b[1;33m(\u001b[0m\u001b[0mwordcloud\u001b[0m\u001b[1;33m,\u001b[0m \u001b[0minterpolation\u001b[0m\u001b[1;33m=\u001b[0m\u001b[1;34m'bilinear'\u001b[0m\u001b[1;33m)\u001b[0m\u001b[1;33m\u001b[0m\u001b[0m\n",
      "\u001b[1;31mModuleNotFoundError\u001b[0m: No module named 'wordcloud'"
     ]
    }
   ],
   "source": [
    "from wordcloud import WordCloud\n",
    "wordcloud = WordCloud().generate(mytext)\n",
    "%pylab inline\n",
    "import matplotlib.pyplot as plt\n",
    "plt.imshow(wordcloud, interpolation='bilinear')\n",
    "plt.axis(\"off\")"
   ]
  },
  {
   "cell_type": "code",
   "execution_count": null,
   "metadata": {
    "collapsed": true
   },
   "outputs": [],
   "source": []
  }
 ],
 "metadata": {
  "kernelspec": {
   "display_name": "Python 3",
   "language": "python",
   "name": "python3"
  },
  "language_info": {
   "codemirror_mode": {
    "name": "ipython",
    "version": 3
   },
   "file_extension": ".py",
   "mimetype": "text/x-python",
   "name": "python",
   "nbconvert_exporter": "python",
   "pygments_lexer": "ipython3",
   "version": "3.6.1"
  }
 },
 "nbformat": 4,
 "nbformat_minor": 2
}
