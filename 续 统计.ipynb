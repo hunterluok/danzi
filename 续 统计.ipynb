{
 "cells": [
  {
   "cell_type": "code",
   "execution_count": 1,
   "metadata": {
    "collapsed": true
   },
   "outputs": [],
   "source": [
    "from pandas import read_excel\n",
    "import pandas as pd"
   ]
  },
  {
   "cell_type": "code",
   "execution_count": 2,
   "metadata": {},
   "outputs": [
    {
     "name": "stdout",
     "output_type": "stream",
     "text": [
      "    学校    编号   性别   一A   一B   一C   一D   二A   二B   二C    ...     平静性  焦虑性  抑郁性  \\\n",
      "0  1.0   1.0  2.0  5.0  3.0  2.0  4.0  1.0  1.0  5.0    ...     1.8  3.2  2.2   \n",
      "1  1.0   2.0  2.0  4.0  4.0  4.0  4.0  4.0  4.0  4.0    ...     4.2  1.4  1.6   \n",
      "2  1.0   3.0  2.0  4.0  3.0  1.0  4.0  4.0  4.0  4.0    ...     3.8  1.0  1.0   \n",
      "3  1.0   4.0  1.0  3.0  2.0  3.0  2.0  3.0  3.0  3.0    ...     3.2  1.8  2.2   \n",
      "4  1.0  23.0  1.0  5.0  4.0  4.0  5.0  5.0  3.0  1.0    ...     4.2  1.0  1.0   \n",
      "\n",
      "   无活力性     增力性情感     减力性情感   类别      内隐行为    外显学习行为    合作学习行为  \n",
      "0   2.4  2.200000  2.600000  1.0  2.590909  2.533333  1.666667  \n",
      "1   2.4  4.600000  1.800000 -1.0  2.818182  3.066667  4.000000  \n",
      "2   1.0  4.800000  1.000000 -1.0  2.681818  2.733333  4.666667  \n",
      "3   2.8  3.400000  2.266667 -1.0  2.954545  3.333333  3.666667  \n",
      "4   1.0  4.733333  1.000000 -1.0  3.000000  3.533333  5.000000  \n",
      "\n",
      "[5 rows x 92 columns]\n"
     ]
    }
   ],
   "source": [
    "data = pd.read_excel(\"C:/Users/Administrator/Desktop/ziji/xue/六校问卷.xlsx\",sheetname='数据表格')\n",
    "print(data.head())"
   ]
  },
  {
   "cell_type": "code",
   "execution_count": 16,
   "metadata": {},
   "outputs": [
    {
     "name": "stdout",
     "output_type": "stream",
     "text": [
      "       内隐行为    外显学习行为    合作学习行为 策略类型\n",
      "0  2.590909  2.533333  1.666667    C\n",
      "1  2.818182  3.066667  4.000000    C\n",
      "2  2.681818  2.733333  4.666667    A\n",
      "3  2.954545  3.333333  3.666667    A\n",
      "4  3.000000  3.533333  5.000000    C\n",
      "  类型  q1\n",
      "0  C   7\n",
      "1  C   8\n",
      "2  A   8\n",
      "3  A   8\n",
      "4  C   8\n",
      "q1  类型\n",
      "7   A      22\n",
      "    B      56\n",
      "    C      81\n",
      "    D      55\n",
      "8   A      51\n",
      "    B     109\n",
      "    C     224\n",
      "    D     169\n",
      "Name: 类型, dtype: int64      类型\n",
      "q1     \n",
      "7   214\n",
      "8   553\n"
     ]
    }
   ],
   "source": [
    "d1t= data[['内隐行为','外显学习行为','合作学习行为','策略类型']]\n",
    "print(d1t.head())\n",
    "import numpy as np\n",
    "from numpy import *\n",
    "d1tt = array(d1t)\n",
    "d1x = argmax(d1tt[:,1:3],axis=1)+7\n",
    "d2x = pd.DataFrame(d1x)\n",
    "#print(d2x)\n",
    "\n",
    "nx = pd.concat([d1t['策略类型'],d2x],axis=1)\n",
    "nx.columns=['类型','q1']\n",
    "print(nx.head())\n",
    "x1 = nx['类型'].groupby([nx['q1'],nx['类型']]).count()\n",
    "x2 = nx.groupby(nx['q1']).count()\n",
    "print(x1,x2)\n"
   ]
  },
  {
   "cell_type": "code",
   "execution_count": 14,
   "metadata": {},
   "outputs": [
    {
     "name": "stdout",
     "output_type": "stream",
     "text": [
      "   活跃性  愉悦性  社交性  焦虑性  抑郁性  无活力性 策略类型\n",
      "0  2.6  2.4  1.6  3.2  2.2   2.4    C\n",
      "1  5.0  4.2  4.6  1.4  1.6   2.4    C\n",
      "2  5.0  4.4  5.0  1.0  1.0   1.0    A\n",
      "3  3.6  3.0  3.6  1.8  2.2   2.8    A\n",
      "4  5.0  4.2  5.0  1.0  1.0   1.0    C\n"
     ]
    }
   ],
   "source": [
    "#print(data.columns)\n",
    "d1= data[['活跃性','愉悦性','社交性','焦虑性','抑郁性','无活力性','策略类型']]\n",
    "print(d1.head())\n"
   ]
  },
  {
   "cell_type": "code",
   "execution_count": 27,
   "metadata": {
    "collapsed": true
   },
   "outputs": [],
   "source": [
    "import numpy as np\n",
    "from numpy import *\n",
    "d2=array(d1)\n",
    "#print(d2[:5])\n",
    "#print(np.argmax(data[['活跃性','愉悦性','社交性']],axis=0))\n",
    "t1=argmax(d2[:,:3],axis=1)+1\n",
    "t2=argmax(d2[:,3:6],axis=1)+4\n",
    "t11 = pd.DataFrame(t1)\n",
    "t22 = pd.DataFrame(t2)\n",
    "#print(t1[:3]"
   ]
  },
  {
   "cell_type": "code",
   "execution_count": 30,
   "metadata": {},
   "outputs": [
    {
     "name": "stdout",
     "output_type": "stream",
     "text": [
      "  类型  q1  q2\n",
      "0  C   1   4\n",
      "1  C   1   6\n",
      "2  A   1   4\n",
      "3  A   1   6\n",
      "4  C   1   4\n"
     ]
    }
   ],
   "source": [
    "nd1 = pd.concat([d1['策略类型'],t11,t22],axis=1)\n",
    "nd1.columns=['类型','q1','q2']\n",
    "print(nd1.head())"
   ]
  },
  {
   "cell_type": "code",
   "execution_count": 53,
   "metadata": {},
   "outputs": [
    {
     "name": "stdout",
     "output_type": "stream",
     "text": [
      "        q2\n",
      "q1 类型     \n",
      "1  A    39\n",
      "   B    96\n",
      "   C   182\n",
      "   D   134\n",
      "2  A    21\n",
      "   B    50\n",
      "   C    78\n",
      "   D    66\n",
      "3  A    13\n",
      "   B    19\n",
      "   C    45\n",
      "   D    24\n",
      "        q1\n",
      "q2 类型     \n",
      "4  A    34\n",
      "   B    69\n",
      "   C   147\n",
      "   D   104\n",
      "5  A    11\n",
      "   B    36\n",
      "   C    44\n",
      "   D    40\n",
      "6  A    28\n",
      "   B    60\n",
      "   C   114\n",
      "   D    80\n",
      "q2  q1  类型\n",
      "4   1   A     18\n",
      "        B     47\n",
      "        C     99\n",
      "        D     66\n",
      "    2   A     11\n",
      "        B     16\n",
      "        C     30\n",
      "        D     28\n",
      "    3   A      5\n",
      "        B      6\n",
      "        C     18\n",
      "        D     10\n",
      "5   1   A      7\n",
      "        B     17\n",
      "        C     24\n",
      "        D     23\n",
      "    2   A      2\n",
      "        B     11\n",
      "        C     11\n",
      "        D     12\n",
      "    3   A      2\n",
      "        B      8\n",
      "        C      9\n",
      "        D      5\n",
      "6   1   A     14\n",
      "        B     32\n",
      "        C     59\n",
      "        D     45\n",
      "    2   A      8\n",
      "        B     23\n",
      "        C     37\n",
      "        D     26\n",
      "    3   A      6\n",
      "        B      5\n",
      "        C     18\n",
      "        D      9\n",
      "Name: 类型, dtype: int64\n"
     ]
    }
   ],
   "source": [
    "xxx1= nd1.groupby([nd1['q1'],nd1['类型']]).count()\n",
    "xxx= nd1.groupby([nd1['q2'],nd1['类型']]).count()\n",
    "xx = nd1['类型'].groupby([nd1['q2'],nd1['q1'],nd1['类型']]).count()\n",
    "print(xxx1)\n",
    "print(xxx)\n",
    "print(xx)"
   ]
  },
  {
   "cell_type": "code",
   "execution_count": 24,
   "metadata": {},
   "outputs": [
    {
     "name": "stdout",
     "output_type": "stream",
     "text": [
      "{1: 451, 2: 215, 3: 101}\n"
     ]
    }
   ],
   "source": [
    "d =dict()\n",
    "for i in range(len(t1)):\n",
    "    if t1[i] not in d:\n",
    "        d[t1[i]] = 1\n",
    "    else :\n",
    "        d[t1[i]] +=1\n",
    "print(d)"
   ]
  },
  {
   "cell_type": "code",
   "execution_count": 26,
   "metadata": {},
   "outputs": [
    {
     "name": "stdout",
     "output_type": "stream",
     "text": [
      "{4: 354, 6: 282, 5: 131}\n"
     ]
    }
   ],
   "source": [
    "dx =dict()\n",
    "for i in range(len(t2)):\n",
    "    if t2[i] not in dx:\n",
    "        dx[t2[i]] = 1\n",
    "    else :\n",
    "        dx[t2[i]] +=1\n",
    "print(dx)"
   ]
  },
  {
   "cell_type": "code",
   "execution_count": null,
   "metadata": {
    "collapsed": true
   },
   "outputs": [],
   "source": []
  }
 ],
 "metadata": {
  "kernelspec": {
   "display_name": "Python 3",
   "language": "python",
   "name": "python3"
  },
  "language_info": {
   "codemirror_mode": {
    "name": "ipython",
    "version": 3
   },
   "file_extension": ".py",
   "mimetype": "text/x-python",
   "name": "python",
   "nbconvert_exporter": "python",
   "pygments_lexer": "ipython3",
   "version": "3.6.1"
  }
 },
 "nbformat": 4,
 "nbformat_minor": 2
}
